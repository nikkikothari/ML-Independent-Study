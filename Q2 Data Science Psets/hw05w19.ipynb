{
 "cells": [
  {
   "cell_type": "markdown",
   "metadata": {},
   "source": [
    "# Homework 5: Clustering and Feature Selection (50 points)\n",
    "\n",
    "**Pandas Cheat Sheet**: There are several Pandas documentation files you can find with a simple search. This is one that is short and informative: https://pandas.pydata.org/Pandas_Cheat_Sheet.pdf\n",
    "\n",
    "Please complete this notebook by filling in the cells provided. Before you begin, execute the following cell to load the needed functions. Each time you start your server, you will need to execute this cell again to load them.  \n",
    "\n",
    "Homework 5 is due Friday, March 8 at noon. Late work will not be accepted.  "
   ]
  },
  {
   "cell_type": "code",
   "execution_count": 40,
   "metadata": {},
   "outputs": [],
   "source": [
    "# Don't change this cell; just run it. \n",
    "\n",
    "import numpy as np\n",
    "from datascience import *\n",
    "import matplotlib\n",
    "%matplotlib inline\n",
    "import matplotlib.pyplot as plots\n",
    "plots.style.use('fivethirtyeight')\n",
    "\n",
    "import pandas as pd\n",
    "\n",
    "from scipy.cluster.hierarchy import dendrogram, linkage \n",
    "from sklearn.preprocessing import StandardScaler\n",
    "from sklearn.linear_model import LinearRegression \n",
    "from sklearn.linear_model import Lasso\n",
    "from sklearn.linear_model import Ridge\n"
   ]
  },
  {
   "cell_type": "markdown",
   "metadata": {},
   "source": [
    "## 1. Clustering: Crime Rates (22 points) ##\n",
    "\n",
    "The data below contains statistics, in arrests per 100,000 residents for assault, murder, and rape in each of the 50 US states in 1973. Also given is the percent of the population living in urban area:\n",
    "\n",
    "-    Murder: \t \tMurder arrests (per 100,000)\n",
    "- \tAssault: \t \tAssault arrests (per 100,000)\n",
    "- \tUrbanPop: \t \tPercent urban population\n",
    "- \tRape: \t \tRape arrests (per 100,000) mpg: miles per gallon\n",
    "\n"
   ]
  },
  {
   "cell_type": "code",
   "execution_count": 2,
   "metadata": {
    "scrolled": true
   },
   "outputs": [
    {
     "data": {
      "text/html": [
       "<div>\n",
       "<style scoped>\n",
       "    .dataframe tbody tr th:only-of-type {\n",
       "        vertical-align: middle;\n",
       "    }\n",
       "\n",
       "    .dataframe tbody tr th {\n",
       "        vertical-align: top;\n",
       "    }\n",
       "\n",
       "    .dataframe thead th {\n",
       "        text-align: right;\n",
       "    }\n",
       "</style>\n",
       "<table border=\"1\" class=\"dataframe\">\n",
       "  <thead>\n",
       "    <tr style=\"text-align: right;\">\n",
       "      <th></th>\n",
       "      <th>State</th>\n",
       "      <th>Murder</th>\n",
       "      <th>Assault</th>\n",
       "      <th>UrbanPop</th>\n",
       "      <th>Rape</th>\n",
       "    </tr>\n",
       "  </thead>\n",
       "  <tbody>\n",
       "    <tr>\n",
       "      <th>0</th>\n",
       "      <td>Alabama</td>\n",
       "      <td>13.2</td>\n",
       "      <td>236</td>\n",
       "      <td>58</td>\n",
       "      <td>21.2</td>\n",
       "    </tr>\n",
       "    <tr>\n",
       "      <th>1</th>\n",
       "      <td>Alaska</td>\n",
       "      <td>10.0</td>\n",
       "      <td>263</td>\n",
       "      <td>48</td>\n",
       "      <td>44.5</td>\n",
       "    </tr>\n",
       "    <tr>\n",
       "      <th>2</th>\n",
       "      <td>Arizona</td>\n",
       "      <td>8.1</td>\n",
       "      <td>294</td>\n",
       "      <td>80</td>\n",
       "      <td>31.0</td>\n",
       "    </tr>\n",
       "    <tr>\n",
       "      <th>3</th>\n",
       "      <td>Arkansas</td>\n",
       "      <td>8.8</td>\n",
       "      <td>190</td>\n",
       "      <td>50</td>\n",
       "      <td>19.5</td>\n",
       "    </tr>\n",
       "    <tr>\n",
       "      <th>4</th>\n",
       "      <td>California</td>\n",
       "      <td>9.0</td>\n",
       "      <td>276</td>\n",
       "      <td>91</td>\n",
       "      <td>40.6</td>\n",
       "    </tr>\n",
       "    <tr>\n",
       "      <th>5</th>\n",
       "      <td>Colorado</td>\n",
       "      <td>7.9</td>\n",
       "      <td>204</td>\n",
       "      <td>78</td>\n",
       "      <td>38.7</td>\n",
       "    </tr>\n",
       "    <tr>\n",
       "      <th>6</th>\n",
       "      <td>Connecticut</td>\n",
       "      <td>3.3</td>\n",
       "      <td>110</td>\n",
       "      <td>77</td>\n",
       "      <td>11.1</td>\n",
       "    </tr>\n",
       "    <tr>\n",
       "      <th>7</th>\n",
       "      <td>Delaware</td>\n",
       "      <td>5.9</td>\n",
       "      <td>238</td>\n",
       "      <td>72</td>\n",
       "      <td>15.8</td>\n",
       "    </tr>\n",
       "    <tr>\n",
       "      <th>8</th>\n",
       "      <td>Florida</td>\n",
       "      <td>15.4</td>\n",
       "      <td>335</td>\n",
       "      <td>80</td>\n",
       "      <td>31.9</td>\n",
       "    </tr>\n",
       "    <tr>\n",
       "      <th>9</th>\n",
       "      <td>Georgia</td>\n",
       "      <td>17.4</td>\n",
       "      <td>211</td>\n",
       "      <td>60</td>\n",
       "      <td>25.8</td>\n",
       "    </tr>\n",
       "  </tbody>\n",
       "</table>\n",
       "</div>"
      ],
      "text/plain": [
       "         State  Murder  Assault  UrbanPop  Rape\n",
       "0      Alabama    13.2      236        58  21.2\n",
       "1       Alaska    10.0      263        48  44.5\n",
       "2      Arizona     8.1      294        80  31.0\n",
       "3     Arkansas     8.8      190        50  19.5\n",
       "4   California     9.0      276        91  40.6\n",
       "5     Colorado     7.9      204        78  38.7\n",
       "6  Connecticut     3.3      110        77  11.1\n",
       "7     Delaware     5.9      238        72  15.8\n",
       "8      Florida    15.4      335        80  31.9\n",
       "9      Georgia    17.4      211        60  25.8"
      ]
     },
     "execution_count": 2,
     "metadata": {},
     "output_type": "execute_result"
    }
   ],
   "source": [
    "# this commands loads the data into a data frame\n",
    "crime_df=pd.read_csv(\"crime_rates.csv\")\n",
    "crime_df.head(10)\n"
   ]
  },
  {
   "cell_type": "markdown",
   "metadata": {},
   "source": [
    "#### Question 1.1 ( Complete linkage, 5 points)\n",
    "\n",
    "Using hierarchical clustering with complete linkage and Euclidean distance, cluster the states. Cut the dendogram at a height that results in three distinct clusters. Which states belong to which clusters?"
   ]
  },
  {
   "cell_type": "code",
   "execution_count": 7,
   "metadata": {
    "scrolled": true
   },
   "outputs": [
    {
     "data": {
      "image/png": "[encoded data removed]",
      "text/plain": [
       "<matplotlib.figure.Figure at 0x1a1e96b1d0>"
      ]
     },
     "metadata": {},
     "output_type": "display_data"
    }
   ],
   "source": [
    "# code here and in additional cells if needed\n",
    "\n",
    "crime = crime_df[['Murder','Assault','UrbanPop','Rape']]\n",
    "\n",
    "cluster_1 = linkage(crime, 'complete')\n",
    "\n",
    "labels = np.array(crime_df.State)\n",
    "\n",
    "plots.figure(figsize=(25, 5)) \n",
    "dendrogram(cluster_1, orientation='top', labels=labels, distance_sort='descending')\n",
    "plots.show()\n"
   ]
  },
  {
   "cell_type": "markdown",
   "metadata": {},
   "source": [
    "Cluster 1 (Green): Florida, North Carolina, Delaware, Alabama, Louisiana, Alasa, Mississippi, South Carolina, Maryland, Arizona, New Meixco, California, Illinois, New York, Michiigan, Nevada\n",
    "                    \n",
    "Cluster 2(Left Red): From Missouri to New Jersey on the plot\n",
    "\n",
    "Cluster 3(Right Red): From Ohio to Vermont on the plot"
   ]
  },
  {
   "cell_type": "markdown",
   "metadata": {},
   "source": [
    "#### Question 1.2 (Standard units, 5 points)\n",
    "\n",
    "Using hierarchical clustering with complete linkage and Euclidean distance, cluster the states **after standardizing the four variables.** What effect does standardization have on the clustering obtained? Should the variables be standardized before the clustering? Justify your answer.\n"
   ]
  },
  {
   "cell_type": "code",
   "execution_count": 9,
   "metadata": {},
   "outputs": [],
   "source": [
    "# code here and in additional cells if needed\n",
    "#Taken from class demos\n",
    "def standard_units(x):\n",
    "    \"Convert any array of numbers to standard units.\"\n",
    "    return (x - np.average(x))/np.std(x,ddof=1)"
   ]
  },
  {
   "cell_type": "code",
   "execution_count": 10,
   "metadata": {},
   "outputs": [
    {
     "data": {
      "image/png": "[encoded data removed]",
      "text/plain": [
       "<matplotlib.figure.Figure at 0x1a1f263ef0>"
      ]
     },
     "metadata": {},
     "output_type": "display_data"
    }
   ],
   "source": [
    "crime_stdunits = pd.DataFrame({\"Murder\": standard_units(crime_df['Murder']),\n",
    "        \"Assault\": standard_units(crime_df['Assault']),\n",
    "        \"UrbanPop\": standard_units(crime_df['UrbanPop']),\n",
    "        \"Rape\": standard_units(crime_df['Rape'])})\n",
    "\n",
    "clust2 = linkage(crime_stdunits, 'complete')\n",
    "\n",
    "labels = np.array(crime_df['State'])\n",
    "\n",
    "plots.figure(figsize=(25, 10))  \n",
    "dendrogram(clust2,  \n",
    "            orientation='top',\n",
    "            labels=labels,\n",
    "            distance_sort='descending')\n",
    "plots.show()"
   ]
  },
  {
   "cell_type": "markdown",
   "metadata": {},
   "source": [
    "Using the same variables and same clustering method, if you standardize the units first, there are two more clusters. Standardization evens out the variables, meaning that the weightings are more equal. The splits end up more reflective of what the effects the variables have on the clustering method. The data should be standardized before clustering because the numbers of each crime have different ranges across states. Without clustering, the variables with the largest ranges will have the largest effects on clustering when it should be fairly equal. "
   ]
  },
  {
   "cell_type": "markdown",
   "metadata": {},
   "source": [
    "#### Question 1.3 (K-means, 6 points)\n",
    "\n",
    "Perform K-means on the standardized data. The goal here is to determine a reasonable K using the **elbow plot** argument we discussed in class. For K=1,2,...,10 calculate the objective function (sum of squared deviations) at the step where the K-means algorithm converges and plot it against K. Discuss which K you would choose to perform K-means.\n"
   ]
  },
  {
   "cell_type": "code",
   "execution_count": 13,
   "metadata": {},
   "outputs": [],
   "source": [
    "# code here and in additional cells if needed\n",
    "## Code taken from class demos\n",
    "\n",
    "def initialize_centroids(df,K):\n",
    "    random_ids = np.random.permutation(df.shape[0])\n",
    "    centroids = df.iloc[random_ids[:K]]\n",
    "    return centroids\n",
    "\n",
    "def distance(pt1, pt2):\n",
    "    \"\"\"Return the distance between two points, represented as arrays\"\"\"\n",
    "    return np.sqrt(sum((np.array(pt1)[1:4] - np.array(pt2)[1:4])**2))\n",
    "\n",
    "def compute_distance(df, centroids):\n",
    "    K=centroids.shape[0]\n",
    "    distances_ar = np.zeros((df.shape[0], K))\n",
    "    \n",
    "    # we used a similar approach  in developing kNN\n",
    "\n",
    "    for k in range(K):\n",
    "        point=centroids.iloc[k]        \n",
    "        def distance_from_point(row):\n",
    "            return distance(point, row)\n",
    "        distances_ar[:,k] = df.apply(distance_from_point,axis=1).values\n",
    "    return distances_ar\n",
    "\n",
    "def compute_sse(df, labels, centroids,K):\n",
    "    distances_ar = np.zeros(df.shape[0])\n",
    "    for k in range(K):\n",
    "        point=centroids.iloc[k]        \n",
    "        def distance_from_point(row):\n",
    "            return distance(point, np.array(row))\n",
    "        distances_ar[labels == k] = df[labels == k].apply(distance_from_point,axis=1).values\n",
    "    return np.sum(distances_ar)\n",
    "\n",
    "def compute_centroids(df, labels, K):\n",
    "        centroids = np.zeros((K, df.shape[1]))\n",
    "        for k in range(K):\n",
    "            centroids[k, :] = df[labels == k].mean()\n",
    "        return centroids\n",
    "\n",
    "# for selecting K\n",
    "def Kmeans_sse(df,K):\n",
    "    #define the maximum number of iterations\n",
    "    max_iter=20\n",
    "    \n",
    "    #initialize centroids\n",
    "    centroids=initialize_centroids(df,K)\n",
    "    \n",
    "    for i in range(max_iter):\n",
    "            old_centroids = centroids\n",
    "            dist_matrix = compute_distance(df, old_centroids)\n",
    "            clust=np.argmin(dist_matrix, axis=1)\n",
    "            centroids = pd.DataFrame(compute_centroids(df,clust,K))\n",
    "    \n",
    "    # return SSE\n",
    "    return compute_sse(df,clust,centroids,K)"
   ]
  },
  {
   "cell_type": "code",
   "execution_count": 15,
   "metadata": {},
   "outputs": [
    {
     "data": {
      "image/png": "[encoded data removed]",
      "text/plain": [
       "<matplotlib.figure.Figure at 0x1a1ee4b080>"
      ]
     },
     "metadata": {},
     "output_type": "display_data"
    }
   ],
   "source": [
    "cent0 = initialize_centroids(crime_stdunits,3)\n",
    "\n",
    "clust0=np.argmin(compute_distance(crime_stdunits,cent0), axis=1)\n",
    "\n",
    "K = np.arange(1,11)\n",
    "SSE = np.zeros(10)\n",
    "\n",
    "for k in K:\n",
    "    SSE[k-1] = Kmeans_sse(crime_stdunits, k)\n",
    "    \n",
    "plots.plot(K, SSE)\n",
    "plots.xlabel('K')\n",
    "plots.ylabel('Squared Sum of Deviatations');"
   ]
  },
  {
   "cell_type": "markdown",
   "metadata": {},
   "source": [
    "I would choose a K of 4, as that is when the elbow plots decrease starts to flatten out (the SSE get smaller at a smaller rate). "
   ]
  },
  {
   "cell_type": "markdown",
   "metadata": {},
   "source": [
    "#### Question 1.4 (K-means clusters, 6 points)\n",
    "\n",
    "Perform K-means on the standardized data with the K you proposed in Q1.3. How do the clusters compare to what you discovered using hierarchical clustering?\n"
   ]
  },
  {
   "cell_type": "code",
   "execution_count": 16,
   "metadata": {},
   "outputs": [
    {
     "name": "stdout",
     "output_type": "stream",
     "text": [
      "12        Illinois\n",
      "29      New Jersey\n",
      "31        New York\n",
      "38    Rhode Island\n",
      "Name: State, dtype: object\n",
      "8        Florida\n",
      "9        Georgia\n",
      "17     Louisiana\n",
      "19      Maryland\n",
      "30    New Mexico\n",
      "41     Tennessee\n",
      "42         Texas\n",
      "Name: State, dtype: object\n",
      "1            Alaska\n",
      "2           Arizona\n",
      "4        California\n",
      "5          Colorado\n",
      "10           Hawaii\n",
      "20    Massachusetts\n",
      "21         Michigan\n",
      "24         Missouri\n",
      "27           Nevada\n",
      "34             Ohio\n",
      "36           Oregon\n",
      "43             Utah\n",
      "46       Washington\n",
      "Name: State, dtype: object\n",
      "0            Alabama\n",
      "3           Arkansas\n",
      "6        Connecticut\n",
      "7           Delaware\n",
      "11             Idaho\n",
      "13           Indiana\n",
      "14              Iowa\n",
      "15            Kansas\n",
      "16          Kentucky\n",
      "18             Maine\n",
      "22         Minnesota\n",
      "23       Mississippi\n",
      "25           Montana\n",
      "26          Nebraska\n",
      "28     New Hampshire\n",
      "32    North Carolina\n",
      "33      North Dakota\n",
      "35          Oklahoma\n",
      "37      Pennsylvania\n",
      "39    South Carolina\n",
      "40      South Dakota\n",
      "44           Vermont\n",
      "45          Virginia\n",
      "47     West Virginia\n",
      "48         Wisconsin\n",
      "49           Wyoming\n",
      "Name: State, dtype: object\n"
     ]
    }
   ],
   "source": [
    "# code here and in additional cells if needed\n",
    "cent = initialize_centroids(crime_stdunits,4)\n",
    "\n",
    "clust_Kmeans = np.argmin(compute_distance(crime_stdunits, cent), axis=1)\n",
    "crime_df['class'] = clust_Kmeans\n",
    "print(crime_df['State'][crime_df['class'] == 0])\n",
    "print(crime_df['State'][crime_df['class'] == 1])\n",
    "print(crime_df['State'][crime_df['class'] == 2])\n",
    "print(crime_df['State'][crime_df['class'] == 3])"
   ]
  },
  {
   "cell_type": "markdown",
   "metadata": {},
   "source": [
    "These clusters are less evenly divided as the first two only have 4 and 6 states in it respectively while the other two have many. Also, the states are not in similar buckets between the two. For example, in heirarchial clustering, IL and NJ are in two different clusters while with KMeans, they make up half of the first cluster. "
   ]
  },
  {
   "cell_type": "markdown",
   "metadata": {},
   "source": [
    "## 2. Model selection: Colleges (28 points) ##\n",
    "\n",
    "The data below contains statistics for a large number of US Colleges from the 1995 issue of US News and World Report.\n",
    "\n",
    "The data frame below has 777 observations on the following 18 variables:\n",
    "\n",
    "-  ‘Private’ A factor with levels ‘No’ and ‘Yes’ indicating private or public university\n",
    "\n",
    "-     ‘Apps’ Number of applications received\n",
    "\n",
    "-     ‘Accept’ Number of applications accepted\n",
    "\n",
    "-     ‘Enroll’ Number of new students enrolled\n",
    "\n",
    "-    ‘Top10perc’ Pct. new students from top 10% of H.S. class\n",
    "\n",
    "-     ‘Top25perc’ Pct. new students from top 25% of H.S. class\n",
    "\n",
    "-     ‘F.Undergrad’ Number of fulltime undergraduates\n",
    "\n",
    "-     ‘P.Undergrad’ Number of parttime undergraduates\n",
    "\n",
    "-     ‘Outstate’ Out-of-state tuition\n",
    "\n",
    "-     ‘Room.Board’ Room and board costs\n",
    "\n",
    "-     ‘Books’ Estimated book costs\n",
    "\n",
    "-     ‘Personal’ Estimated personal spending\n",
    "\n",
    "-     ‘PhD’ Pct. of faculty with Ph.D.'s\n",
    "\n",
    "-     ‘Terminal’ Pct. of faculty with terminal degree\n",
    "\n",
    "-     ‘S.F.Ratio’ Student/faculty ratio\n",
    "\n",
    "-     ‘perc.alumni’ Pct. alumni who donate\n",
    "\n",
    "-     ‘Expend’ Instructional expenditure per student\n",
    "\n",
    "-     ‘Grad.Rate’ Graduation rate\n",
    "\n",
    "### The goal is to predict the number of applications received using the other variables in the dataset. ###"
   ]
  },
  {
   "cell_type": "code",
   "execution_count": 17,
   "metadata": {},
   "outputs": [
    {
     "data": {
      "text/html": [
       "<div>\n",
       "<style scoped>\n",
       "    .dataframe tbody tr th:only-of-type {\n",
       "        vertical-align: middle;\n",
       "    }\n",
       "\n",
       "    .dataframe tbody tr th {\n",
       "        vertical-align: top;\n",
       "    }\n",
       "\n",
       "    .dataframe thead th {\n",
       "        text-align: right;\n",
       "    }\n",
       "</style>\n",
       "<table border=\"1\" class=\"dataframe\">\n",
       "  <thead>\n",
       "    <tr style=\"text-align: right;\">\n",
       "      <th></th>\n",
       "      <th>College</th>\n",
       "      <th>Private</th>\n",
       "      <th>Apps</th>\n",
       "      <th>Accept</th>\n",
       "      <th>Enroll</th>\n",
       "      <th>Top10perc</th>\n",
       "      <th>Top25perc</th>\n",
       "      <th>F.Undergrad</th>\n",
       "      <th>P.Undergrad</th>\n",
       "      <th>Outstate</th>\n",
       "      <th>Room.Board</th>\n",
       "      <th>Books</th>\n",
       "      <th>Personal</th>\n",
       "      <th>PhD</th>\n",
       "      <th>Terminal</th>\n",
       "      <th>S.F.Ratio</th>\n",
       "      <th>perc.alumni</th>\n",
       "      <th>Expend</th>\n",
       "      <th>Grad.Rate</th>\n",
       "    </tr>\n",
       "  </thead>\n",
       "  <tbody>\n",
       "    <tr>\n",
       "      <th>0</th>\n",
       "      <td>Abilene Christian University</td>\n",
       "      <td>Yes</td>\n",
       "      <td>1660</td>\n",
       "      <td>1232</td>\n",
       "      <td>721</td>\n",
       "      <td>23</td>\n",
       "      <td>52</td>\n",
       "      <td>2885</td>\n",
       "      <td>537</td>\n",
       "      <td>7440</td>\n",
       "      <td>3300</td>\n",
       "      <td>450</td>\n",
       "      <td>2200</td>\n",
       "      <td>70</td>\n",
       "      <td>78</td>\n",
       "      <td>18.1</td>\n",
       "      <td>12</td>\n",
       "      <td>7041</td>\n",
       "      <td>60</td>\n",
       "    </tr>\n",
       "    <tr>\n",
       "      <th>1</th>\n",
       "      <td>Adelphi University</td>\n",
       "      <td>Yes</td>\n",
       "      <td>2186</td>\n",
       "      <td>1924</td>\n",
       "      <td>512</td>\n",
       "      <td>16</td>\n",
       "      <td>29</td>\n",
       "      <td>2683</td>\n",
       "      <td>1227</td>\n",
       "      <td>12280</td>\n",
       "      <td>6450</td>\n",
       "      <td>750</td>\n",
       "      <td>1500</td>\n",
       "      <td>29</td>\n",
       "      <td>30</td>\n",
       "      <td>12.2</td>\n",
       "      <td>16</td>\n",
       "      <td>10527</td>\n",
       "      <td>56</td>\n",
       "    </tr>\n",
       "    <tr>\n",
       "      <th>2</th>\n",
       "      <td>Adrian College</td>\n",
       "      <td>Yes</td>\n",
       "      <td>1428</td>\n",
       "      <td>1097</td>\n",
       "      <td>336</td>\n",
       "      <td>22</td>\n",
       "      <td>50</td>\n",
       "      <td>1036</td>\n",
       "      <td>99</td>\n",
       "      <td>11250</td>\n",
       "      <td>3750</td>\n",
       "      <td>400</td>\n",
       "      <td>1165</td>\n",
       "      <td>53</td>\n",
       "      <td>66</td>\n",
       "      <td>12.9</td>\n",
       "      <td>30</td>\n",
       "      <td>8735</td>\n",
       "      <td>54</td>\n",
       "    </tr>\n",
       "    <tr>\n",
       "      <th>3</th>\n",
       "      <td>Agnes Scott College</td>\n",
       "      <td>Yes</td>\n",
       "      <td>417</td>\n",
       "      <td>349</td>\n",
       "      <td>137</td>\n",
       "      <td>60</td>\n",
       "      <td>89</td>\n",
       "      <td>510</td>\n",
       "      <td>63</td>\n",
       "      <td>12960</td>\n",
       "      <td>5450</td>\n",
       "      <td>450</td>\n",
       "      <td>875</td>\n",
       "      <td>92</td>\n",
       "      <td>97</td>\n",
       "      <td>7.7</td>\n",
       "      <td>37</td>\n",
       "      <td>19016</td>\n",
       "      <td>59</td>\n",
       "    </tr>\n",
       "    <tr>\n",
       "      <th>4</th>\n",
       "      <td>Alaska Pacific University</td>\n",
       "      <td>Yes</td>\n",
       "      <td>193</td>\n",
       "      <td>146</td>\n",
       "      <td>55</td>\n",
       "      <td>16</td>\n",
       "      <td>44</td>\n",
       "      <td>249</td>\n",
       "      <td>869</td>\n",
       "      <td>7560</td>\n",
       "      <td>4120</td>\n",
       "      <td>800</td>\n",
       "      <td>1500</td>\n",
       "      <td>76</td>\n",
       "      <td>72</td>\n",
       "      <td>11.9</td>\n",
       "      <td>2</td>\n",
       "      <td>10922</td>\n",
       "      <td>15</td>\n",
       "    </tr>\n",
       "  </tbody>\n",
       "</table>\n",
       "</div>"
      ],
      "text/plain": [
       "                        College Private  Apps  Accept  Enroll  Top10perc  \\\n",
       "0  Abilene Christian University     Yes  1660    1232     721         23   \n",
       "1            Adelphi University     Yes  2186    1924     512         16   \n",
       "2                Adrian College     Yes  1428    1097     336         22   \n",
       "3           Agnes Scott College     Yes   417     349     137         60   \n",
       "4     Alaska Pacific University     Yes   193     146      55         16   \n",
       "\n",
       "   Top25perc  F.Undergrad  P.Undergrad  Outstate  Room.Board  Books  Personal  \\\n",
       "0         52         2885          537      7440        3300    450      2200   \n",
       "1         29         2683         1227     12280        6450    750      1500   \n",
       "2         50         1036           99     11250        3750    400      1165   \n",
       "3         89          510           63     12960        5450    450       875   \n",
       "4         44          249          869      7560        4120    800      1500   \n",
       "\n",
       "   PhD  Terminal  S.F.Ratio  perc.alumni  Expend  Grad.Rate  \n",
       "0   70        78       18.1           12    7041         60  \n",
       "1   29        30       12.2           16   10527         56  \n",
       "2   53        66       12.9           30    8735         54  \n",
       "3   92        97        7.7           37   19016         59  \n",
       "4   76        72       11.9            2   10922         15  "
      ]
     },
     "execution_count": 17,
     "metadata": {},
     "output_type": "execute_result"
    }
   ],
   "source": [
    "# this commands loads the data into a data frame\n",
    "college_df=pd.read_csv(\"College.csv\")\n",
    "college_df.head(5)"
   ]
  },
  {
   "cell_type": "markdown",
   "metadata": {},
   "source": [
    "#### Question 2.1 ( Data preparation, 5 points)\n",
    "\n",
    "Change the \"Private' variable to a binary 0-1 variable. Standardize the rest of the variables using the StandardScaler function in sklearn. Split the data into a training set and a test set where the training set should have 80% random colleges.\n"
   ]
  },
  {
   "cell_type": "code",
   "execution_count": 18,
   "metadata": {},
   "outputs": [],
   "source": [
    "# code here and in additional cells if needed\n",
    "college_df['Private'] = (college_df['Private'] == 'Yes')*1"
   ]
  },
  {
   "cell_type": "code",
   "execution_count": null,
   "metadata": {},
   "outputs": [],
   "source": [
    "scaler = StandardScaler()\n",
    "\n",
    "college_df['Accept'] = scaler.fit_transform(np.array(college_df['Accept']).reshape(-1, 1))\n",
    "college_df['Enroll'] = scaler.fit_transform(np.array(college_df['Enroll']).reshape(-1, 1))\n",
    "college_df['Top10perc'] = scaler.fit_transform(np.array(college_df['Top10perc']).reshape(-1, 1))\n",
    "college_df['Top25perc'] = scaler.fit_transform(np.array(college_df['Top25perc']).reshape(-1, 1))\n",
    "college_df['F.Undergrad'] = scaler.fit_transform(np.array(college_df['F.Undergrad']).reshape(-1, 1))\n",
    "college_df['P.Undergrad'] = scaler.fit_transform(np.array(college_df['P.Undergrad']).reshape(-1, 1))\n",
    "college_df['Outstate'] = scaler.fit_transform(np.array(college_df['Outstate']).reshape(-1, 1))\n",
    "college_df['Room.Board'] = scaler.fit_transform(np.array(college_df['Room.Board']).reshape(-1, 1))\n",
    "college_df['Books'] = scaler.fit_transform(np.array(college_df['Books']).reshape(-1, 1))\n",
    "college_df['Personal'] = scaler.fit_transform(np.array(college_df['Personal']).reshape(-1, 1))\n",
    "college_df['PhD'] = scaler.fit_transform(np.array(college_df['PhD']).reshape(-1, 1))\n",
    "college_df['Terminal'] = scaler.fit_transform(np.array(college_df['Terminal']).reshape(-1, 1))\n",
    "college_df['S.F.Ratio'] = scaler.fit_transform(np.array(college_df['S.F.Ratio']).reshape(-1, 1))\n",
    "college_df['perc.alumni'] = scaler.fit_transform(np.array(college_df['perc.alumni']).reshape(-1, 1))\n",
    "college_df['Expend'] = scaler.fit_transform(np.array(college_df['Expend']).reshape(-1, 1))\n",
    "college_df['Grad.Rate'] = scaler.fit_transform(np.array(college_df['Grad.Rate']).reshape(-1, 1))\n"
   ]
  },
  {
   "cell_type": "code",
   "execution_count": 20,
   "metadata": {},
   "outputs": [
    {
     "data": {
      "text/plain": [
       "621.6"
      ]
     },
     "execution_count": 20,
     "metadata": {},
     "output_type": "execute_result"
    }
   ],
   "source": [
    "len(college_df)*.8\n",
    "##Sample size of training data set is 622"
   ]
  },
  {
   "cell_type": "code",
   "execution_count": 21,
   "metadata": {},
   "outputs": [],
   "source": [
    "train_df = college_df.sample(622)\n",
    "test_df = college_df[~college_df.index.isin(train_df.index)]"
   ]
  },
  {
   "cell_type": "markdown",
   "metadata": {},
   "source": [
    "#### Question 2.2 ( Multiple Linear Regression, 5 points)\n",
    "\n",
    "Fit a multiple linear regression model on the training data set and use it to predict number of applications in the test set. Report the training error which is defined as the mean absolute deviation (average of |prediction-truth|)."
   ]
  },
  {
   "cell_type": "code",
   "execution_count": 24,
   "metadata": {},
   "outputs": [],
   "source": [
    "# code here and in additional cells if needed\n",
    "x_train = train_df.loc[:,train_df.columns != 'Apps']\n",
    "y_train = train_df.iloc[:,2]\n",
    "x_test = test_df.loc[:,test_df.columns != 'Apps']\n",
    "y_test = test_df.iloc[:,2]"
   ]
  },
  {
   "cell_type": "code",
   "execution_count": 27,
   "metadata": {},
   "outputs": [
    {
     "data": {
      "text/plain": [
       "625.8395940106384"
      ]
     },
     "execution_count": 27,
     "metadata": {},
     "output_type": "execute_result"
    }
   ],
   "source": [
    "reg = LinearRegression()\n",
    "reg.fit(x_train.iloc[:,1:], y_train)\n",
    "reg.intercept_, reg.coef_\n",
    "\n",
    "pred_y = reg.predict(x_test.iloc[:,1:])\n",
    "\n",
    "np.average(abs(pred_y - y_test))"
   ]
  },
  {
   "cell_type": "markdown",
   "metadata": {},
   "source": [
    "The training error is 625.84. "
   ]
  },
  {
   "cell_type": "markdown",
   "metadata": {},
   "source": [
    "#### Question 2.3 ( Lasso, 7 points)\n",
    "\n",
    "Fit lasso models on the training data set using five $\\alpha$ values of your choice. Report the training error for each of the $\\alpha$. For the model with the lowest training error, report the variables that have non-zero coefficients."
   ]
  },
  {
   "cell_type": "code",
   "execution_count": 31,
   "metadata": {},
   "outputs": [
    {
     "name": "stdout",
     "output_type": "stream",
     "text": [
      "[0.01, 0.1, 1, 10, 100] [625.8306767766925, 625.7504216877262, 624.9478705345206, 617.3844240139973, 603.677878852705]\n",
      "alpha: 0.01 error: 625.8306767766925\n",
      "alpha: 0.1 error: 625.7504216877262\n",
      "alpha: 1 error: 624.9478705345206\n",
      "alpha: 10 error: 617.3844240139973\n",
      "alpha: 100 error: 603.677878852705\n"
     ]
    }
   ],
   "source": [
    "# code here and in additional cells if needed\n",
    "alpha = [.01, .1, 1, 10, 100]\n",
    "test_error = []\n",
    "\n",
    "for a in alpha:  \n",
    "    lasso = Lasso(alpha=a)\n",
    "    lasso.fit(x_train.iloc[:,1:],y_train)\n",
    "    pred_y = lasso.predict(x_test.iloc[:,1:])\n",
    "    error = np.average(abs(pred_y - y_test))\n",
    "    test_error.append(error)\n",
    "\n",
    "print(alpha, test_error) #Respectively\n"
   ]
  },
  {
   "cell_type": "code",
   "execution_count": 38,
   "metadata": {},
   "outputs": [
    {
     "name": "stdout",
     "output_type": "stream",
     "text": [
      "[-0.00000000e+00  1.63554542e+00 -1.01153945e+00  4.06153178e+01\n",
      " -9.06961385e+00  8.04196416e-02  6.35765228e-02 -1.01913617e-01\n",
      "  1.48208319e-01  2.66066986e-01 -1.20098576e-02 -5.43393694e+00\n",
      " -1.12022745e+00  1.48121406e+01  5.38641322e-02  6.30038087e-02\n",
      "  5.62091208e+00]\n"
     ]
    }
   ],
   "source": [
    "#Lowest error is for alpha = 100\n",
    "lasso = Lasso(alpha=100)\n",
    "lasso.fit(x_train.iloc[:,1:], y_train)\n",
    "print (lasso.coef_)\n"
   ]
  },
  {
   "cell_type": "markdown",
   "metadata": {},
   "source": [
    "Variables w/ Non Zero Coefficients: 2, 3, 4, 5, 12, 13, 14, 16\n",
    "\n",
    "Enrolll, Top10Perc, Top25Perc, Terminal, SF Ratio, Perc.Alumi and Grad.Rate had nonzero coeffecients. \n",
    "\n",
    "\n",
    "\n",
    "\n"
   ]
  },
  {
   "cell_type": "markdown",
   "metadata": {},
   "source": [
    "#### Question 2.4 ( Ridge Regression, 7 points)\n",
    "\n",
    "Fit ridge regression models on the training data set using five $\\alpha$ values of your choice. Report the training error for each of the $\\alpha$. "
   ]
  },
  {
   "cell_type": "code",
   "execution_count": 41,
   "metadata": {},
   "outputs": [
    {
     "name": "stdout",
     "output_type": "stream",
     "text": [
      "[0.01, 0.1, 1, 10, 100] [625.8339013718066, 625.782779299858, 625.2823772504554, 621.1657317499286, 612.1838160501394]\n"
     ]
    }
   ],
   "source": [
    "# code here and in additional cells if needed\n",
    "alpha = [.01, .1, 1, 10, 100]\n",
    "test_error = []\n",
    "\n",
    "for a in alpha:  \n",
    "    ridge = Ridge(alpha=a)\n",
    "    ridge.fit(x_train.iloc[:,1:],y_train)\n",
    "    pred_y = ridge.predict(x_test.iloc[:,1:])\n",
    "    error = np.average(abs(pred_y - y_test))\n",
    "    test_error.append(error)\n",
    "\n",
    "print(alpha, test_error) #Respectively"
   ]
  },
  {
   "cell_type": "markdown",
   "metadata": {},
   "source": [
    "Alphas: 0.01, 0.1, 1, 10, 100\n",
    "Test Errors: 625.83, 625.78, 625.28, 621.17, 612.18\n",
    "\n",
    "Line up respectively, for first alpha of 0.01, first test error in list of 625.83 and onwards."
   ]
  },
  {
   "cell_type": "markdown",
   "metadata": {},
   "source": [
    "#### Question 2.5 ( Discussion, 4 points)\n",
    "\n",
    "Comment on the results obtained. How accurately can we predict the number of college applications received?"
   ]
  },
  {
   "cell_type": "markdown",
   "metadata": {},
   "source": [
    "The error for MLR was 625. After using Lasso and Ridge to get lower values, it turns out that the lowest error is with Lasso with an alpha of 100, and the next best is Ridge with an alpha of 100. The error is different in each context. At a school with hundrededs of thousands of applications, the error is small enough if that it will fairly accurately predict number of apps. However, when a school is only getting a few hundred, the error is too large and the prediction is not going to be close to the number. It is a relative number.\n",
    "\n",
    "We could test other alpha values for all the methods to try to get the lowest one if we wanted to more accurately predict the number, but I doubt it would get you much closer. "
   ]
  },
  {
   "cell_type": "code",
   "execution_count": null,
   "metadata": {},
   "outputs": [],
   "source": []
  }
 ],
 "metadata": {
  "kernelspec": {
   "display_name": "Python 3",
   "language": "python",
   "name": "python3"
  },
  "language_info": {
   "codemirror_mode": {
    "name": "ipython",
    "version": 3
   },
   "file_extension": ".py",
   "mimetype": "text/x-python",
   "name": "python",
   "nbconvert_exporter": "python",
   "pygments_lexer": "ipython3",
   "version": "3.6.4"
  }
 },
 "nbformat": 4,
 "nbformat_minor": 2
}
