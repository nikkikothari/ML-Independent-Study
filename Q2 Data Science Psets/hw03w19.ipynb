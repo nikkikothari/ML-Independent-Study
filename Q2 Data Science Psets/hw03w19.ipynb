{
 "cells": [
  {
   "cell_type": "markdown",
   "metadata": {},
   "source": [
    "# Homework 3: SQL and Classification (50 points)\n",
    "\n",
    "**Reading**: Textbook chapter [17](https://www.inferentialthinking.com/chapters/17/Classification).\n",
    "\n",
    "**Pandas Cheat Sheet**: There are several Pandas documentation files you can find with a simple search. This is one that is short and informative: https://pandas.pydata.org/Pandas_Cheat_Sheet.pdf\n",
    "\n",
    "Please complete this notebook by filling in the cells provided. Before you begin, execute the following cell to load the needed functions. Each time you start your server, you will need to execute this cell again to load them.  \n",
    "\n",
    "Homework 3 is due Wednesday, 2/20 at noon. Late work will not be accepted.  "
   ]
  },
  {
   "cell_type": "code",
   "execution_count": 2,
   "metadata": {},
   "outputs": [
    {
     "name": "stderr",
     "output_type": "stream",
     "text": [
      "/anaconda3/lib/python3.6/importlib/_bootstrap.py:219: RuntimeWarning: numpy.dtype size changed, may indicate binary incompatibility. Expected 96, got 88\n",
      "  return f(*args, **kwds)\n",
      "/anaconda3/lib/python3.6/importlib/_bootstrap.py:219: RuntimeWarning: numpy.dtype size changed, may indicate binary incompatibility. Expected 96, got 88\n",
      "  return f(*args, **kwds)\n",
      "/anaconda3/lib/python3.6/importlib/_bootstrap.py:219: RuntimeWarning: numpy.dtype size changed, may indicate binary incompatibility. Expected 96, got 88\n",
      "  return f(*args, **kwds)\n",
      "/anaconda3/lib/python3.6/site-packages/statsmodels/compat/pandas.py:56: FutureWarning: The pandas.core.datetools module is deprecated and will be removed in a future version. Please use the pandas.tseries module instead.\n",
      "  from pandas.core import datetools\n"
     ]
    }
   ],
   "source": [
    "# Don't change this cell; just run it. \n",
    "\n",
    "import numpy as np\n",
    "from datascience import *\n",
    "import matplotlib\n",
    "%matplotlib inline\n",
    "import matplotlib.pyplot as plots\n",
    "plots.style.use('fivethirtyeight')\n",
    "\n",
    "import pandas as pd\n",
    "\n",
    "import statsmodels.api as sm\n",
    "from statsmodels.formula.api import ols\n",
    "from statsmodels.sandbox.regression.predstd import wls_prediction_std"
   ]
  },
  {
   "cell_type": "markdown",
   "metadata": {},
   "source": [
    "## 1. SQL (24 points) ##\n",
    "\n",
    "We are going to use SQL to analyze data on NBA player statistics and salaries. First we are going to set up our connection to the SQLite database and remove any previous copies of our tables that may have been left in there.  Then we'll load the tables with data from .csv files.\n"
   ]
  },
  {
   "cell_type": "code",
   "execution_count": null,
   "metadata": {},
   "outputs": [],
   "source": [
    "# Don't change this cell; just run it.\n",
    "\n",
    "#Let's connect to our database system and clean up previous tables if they exist\n",
    "import sqlalchemy\n",
    "\n",
    "# pd.read_sql takes in a parameter for a SQLite engine, which we create below\n",
    "sqlite_uri = \"sqlite:///basketball.db\"\n",
    "sqlite_engine = sqlalchemy.create_engine(sqlite_uri)\n",
    "\n",
    "#start with an empty database - DROP the tables if they\n",
    "#already exist in the database (from a previous run)\n",
    "sql_expr = \"\"\"\n",
    "DROP TABLE IF EXISTS players;\n",
    "\"\"\"\n",
    "result = sqlite_engine.execute(sql_expr)\n",
    "\n",
    "\n",
    "sql_expr = \"\"\"\n",
    "DROP TABLE IF EXISTS salaries;\n",
    "\"\"\"\n",
    "result = sqlite_engine.execute(sql_expr)\n"
   ]
  },
  {
   "cell_type": "markdown",
   "metadata": {},
   "source": [
    "#### Table Creation\n",
    "Now that we have a clean database, we can create and load our two tables: `players`, which contains information about NBA basketball players, and `salaries`, which contains information about NBA player's salaries.  Our salary data only includes information for players whose salary is $1M or higher."
   ]
  },
  {
   "cell_type": "code",
   "execution_count": null,
   "metadata": {},
   "outputs": [],
   "source": [
    "# Don't change this cell; just run it.\n",
    "#read csv file into a dataframe\n",
    "players_df = pd.read_csv('player_data.csv')\n",
    "\n",
    "# Populate players table\n",
    "temp = players_df.to_sql('players', con=sqlite_engine)\n",
    "\n",
    "#read csv file into a dataframe\n",
    "salaries_df = pd.read_csv('salary_7figplus_data.csv')\n",
    "\n",
    "# Populate salaries table\n",
    "temp = salaries_df.to_sql('salaries', con=sqlite_engine)"
   ]
  },
  {
   "cell_type": "markdown",
   "metadata": {},
   "source": [
    "#### Check the tables\n",
    "Before we start, let's look at what's in our tables"
   ]
  },
  {
   "cell_type": "code",
   "execution_count": null,
   "metadata": {},
   "outputs": [],
   "source": [
    "# Don't change this cell, just run it - to see what's in the players table.\n",
    "sql_expr = \"\"\"\n",
    "SELECT *\n",
    "FROM players;\n",
    "\"\"\"\n",
    "\n",
    "pd.read_sql(sql_expr, sqlite_engine).head()"
   ]
  },
  {
   "cell_type": "code",
   "execution_count": null,
   "metadata": {},
   "outputs": [],
   "source": [
    "# Don't change this cell, just run it - to see what's in the salaries table.\n",
    "sql_expr = \"\"\"\n",
    "SELECT *\n",
    "FROM salaries;\n",
    "\"\"\"\n",
    "pd.read_sql(sql_expr, sqlite_engine).head()"
   ]
  },
  {
   "cell_type": "markdown",
   "metadata": {},
   "source": [
    "#### Question 1.1 (Basic Query, 4 points)\n",
    "\n",
    "Write a SQL statement that returns the Name, Team, Games and Points for all \n",
    "players who have played in 70 games or more, sorted in descending order by number of points. "
   ]
  },
  {
   "cell_type": "code",
   "execution_count": null,
   "metadata": {},
   "outputs": [],
   "source": [
    "# Put your SQL statement in the \"sql_expr\" variable\n",
    "sql_expr = \"\"\"\n",
    "SELECT Name, Team, Games, Points\n",
    "FROM players\n",
    "WHERE Games > 69\n",
    "ORDER BY Points DESC\n",
    ";\n",
    "\n",
    "\"\"\"\n",
    "\n",
    "pd.read_sql(sql_expr, sqlite_engine)"
   ]
  },
  {
   "cell_type": "markdown",
   "metadata": {},
   "source": [
    "#### Question 1.2 (Summary Statistics (aggregate functions), 4 points)\n",
    "\n",
    "Write a SQL statement that returns \n",
    "a single row containing the average number of Rebounds, Assists, and Points across all players in the players table.  (Note: the SQL \"AVG\" aggregate function is helpful here) \n"
   ]
  },
  {
   "cell_type": "code",
   "execution_count": null,
   "metadata": {},
   "outputs": [],
   "source": [
    "# Put your SQL statement in the \"sql_expr\" variable\n",
    "\n",
    "sql_expr = \"\"\"\n",
    "SELECT AVG(Rebounds), AVG(Assists), AVG(Points)\n",
    "FROM players\n",
    ";\n",
    "\n",
    "\n",
    "\"\"\"\n",
    "\n",
    "pd.read_sql(sql_expr, sqlite_engine)"
   ]
  },
  {
   "cell_type": "markdown",
   "metadata": {},
   "source": [
    "#### Question 1.3 (Grouping, 4 points)\n",
    "Write a SQL statement that returns for each team, the Name of the team and the count of players for that team. Order your answer by descreasing number of players (that is, from the team with the most players to the team with the least).  Your answer should contain one row for each team that appears in the players table."
   ]
  },
  {
   "cell_type": "code",
   "execution_count": null,
   "metadata": {},
   "outputs": [],
   "source": [
    "# Put your SQL statement in the \"sql_expr\" variable\n",
    "\n",
    "sql_expr = \"\"\"\n",
    "SELECT Team, COUNT(Name) as Players\n",
    "FROM players\n",
    "GROUP BY Team\n",
    "ORDER BY Players DESC\n",
    ";\n",
    "\n",
    "\"\"\"\n",
    "\n",
    "pd.read_sql(sql_expr, sqlite_engine)"
   ]
  },
  {
   "cell_type": "markdown",
   "metadata": {},
   "source": [
    "#### Question 1.4 (Grouping and Predicates, 4 points)\n",
    "If your query for question 1.3 worked, then you should see that one \"Team\" has many more players than any other team.  This value for \"Team\" turns out to be a special code that indicates that a player played on multiple teams during the year.   Answer the same question as in Question 1.3, but this time, do not include the players that have that special team code."
   ]
  },
  {
   "cell_type": "code",
   "execution_count": null,
   "metadata": {},
   "outputs": [],
   "source": [
    "# Put your SQL statement in the \"sql_expr\" variable\n",
    "\n",
    "sql_expr = \"\"\"\n",
    "SELECT Team, COUNT(Name) as Players\n",
    "FROM players\n",
    "WHERE Team != 'TOT'\n",
    "GROUP BY Team\n",
    "ORDER BY Players DESC\n",
    "\n",
    "\"\"\"\n",
    "\n",
    "pd.read_sql(sql_expr, sqlite_engine)"
   ]
  },
  {
   "cell_type": "markdown",
   "metadata": {},
   "source": [
    "#### Question 1.5 (Joins (Inner), 4 points)\n",
    "Write a SQL statement that returns a row for **each player who has a salary**, that has the Name, Team, Points,and Salary of that player and order the result in **descending order of Salary**.\n"
   ]
  },
  {
   "cell_type": "code",
   "execution_count": null,
   "metadata": {},
   "outputs": [],
   "source": [
    "# Put your SQL statement in the \"sql_expr\" variable\n",
    "\n",
    "sql_expr = \"\"\"\n",
    "SELECT Name, Team, Points, Salary\n",
    "FROM players\n",
    "INNER JOIN salaries ON players.Name = salaries.PlayerName\n",
    "ORDER BY Salary DESC\n",
    ";\n",
    "\"\"\"\n",
    "\n",
    "pd.read_sql(sql_expr, sqlite_engine)"
   ]
  },
  {
   "cell_type": "markdown",
   "metadata": {},
   "source": [
    "#### Question 1.6 (Joins (Outer), 4 points)\n",
    "Similarly to Question 1.5, write a SQL statement that returns a row **for each player** (**whether or not they have a salary**), that has the Name, Team, Points,and Salary of that player.  For players without a salary, the salary can be left as a Null or \"NaN\". Order your answer in **descending order of salary**."
   ]
  },
  {
   "cell_type": "code",
   "execution_count": null,
   "metadata": {},
   "outputs": [],
   "source": [
    "# Put your SQL statement in the \"sql_expr\" variable\n",
    "\n",
    "sql_expr = \"\"\"\n",
    "SELECT Name, Team, Points, Salary\n",
    "FROM players\n",
    "LEFT OUTER JOIN salaries ON players.Name = salaries.PlayerName\n",
    ";\n",
    "\"\"\"\n",
    "\n",
    "\n",
    "pd.read_sql(sql_expr, sqlite_engine)"
   ]
  },
  {
   "cell_type": "markdown",
   "metadata": {},
   "source": [
    "## 2. Classification: Autos (26 points) ##\n",
    "\n",
    "The data below contains 392 observations on the following 9 variables:\n",
    "-    mpg: miles per gallon\n",
    "\n",
    "-     cylinders: Number of cylinders between 4 and 8\n",
    "\n",
    "-     displacement: Engine displacement (cu. inches)\n",
    "\n",
    "-     horsepower: Engine horsepower\n",
    "\n",
    "-     weight: Vehicle weight (lbs.)\n",
    "\n",
    "-     acceleration: Time to accelerate from 0 to 60 mph (sec.)\n",
    "\n",
    "-     year: Model year (modulo 100)\n",
    "\n",
    "-     origin: Origin of car (1. American, 2. European, 3. Japanese)\n",
    "\n",
    "\n"
   ]
  },
  {
   "cell_type": "code",
   "execution_count": 3,
   "metadata": {
    "scrolled": true
   },
   "outputs": [
    {
     "data": {
      "text/html": [
       "<div>\n",
       "<style scoped>\n",
       "    .dataframe tbody tr th:only-of-type {\n",
       "        vertical-align: middle;\n",
       "    }\n",
       "\n",
       "    .dataframe tbody tr th {\n",
       "        vertical-align: top;\n",
       "    }\n",
       "\n",
       "    .dataframe thead th {\n",
       "        text-align: right;\n",
       "    }\n",
       "</style>\n",
       "<table border=\"1\" class=\"dataframe\">\n",
       "  <thead>\n",
       "    <tr style=\"text-align: right;\">\n",
       "      <th></th>\n",
       "      <th>mpg</th>\n",
       "      <th>cylinders</th>\n",
       "      <th>displacement</th>\n",
       "      <th>horsepower</th>\n",
       "      <th>weight</th>\n",
       "      <th>acceleration</th>\n",
       "      <th>year</th>\n",
       "      <th>origin</th>\n",
       "      <th>name</th>\n",
       "    </tr>\n",
       "  </thead>\n",
       "  <tbody>\n",
       "    <tr>\n",
       "      <th>0</th>\n",
       "      <td>18.0</td>\n",
       "      <td>8</td>\n",
       "      <td>307.0</td>\n",
       "      <td>130.0</td>\n",
       "      <td>3504</td>\n",
       "      <td>12.0</td>\n",
       "      <td>70</td>\n",
       "      <td>1</td>\n",
       "      <td>chevrolet chevelle malibu</td>\n",
       "    </tr>\n",
       "    <tr>\n",
       "      <th>1</th>\n",
       "      <td>15.0</td>\n",
       "      <td>8</td>\n",
       "      <td>350.0</td>\n",
       "      <td>165.0</td>\n",
       "      <td>3693</td>\n",
       "      <td>11.5</td>\n",
       "      <td>70</td>\n",
       "      <td>1</td>\n",
       "      <td>buick skylark 320</td>\n",
       "    </tr>\n",
       "    <tr>\n",
       "      <th>2</th>\n",
       "      <td>18.0</td>\n",
       "      <td>8</td>\n",
       "      <td>318.0</td>\n",
       "      <td>150.0</td>\n",
       "      <td>3436</td>\n",
       "      <td>11.0</td>\n",
       "      <td>70</td>\n",
       "      <td>1</td>\n",
       "      <td>plymouth satellite</td>\n",
       "    </tr>\n",
       "    <tr>\n",
       "      <th>3</th>\n",
       "      <td>16.0</td>\n",
       "      <td>8</td>\n",
       "      <td>304.0</td>\n",
       "      <td>150.0</td>\n",
       "      <td>3433</td>\n",
       "      <td>12.0</td>\n",
       "      <td>70</td>\n",
       "      <td>1</td>\n",
       "      <td>amc rebel sst</td>\n",
       "    </tr>\n",
       "    <tr>\n",
       "      <th>4</th>\n",
       "      <td>17.0</td>\n",
       "      <td>8</td>\n",
       "      <td>302.0</td>\n",
       "      <td>140.0</td>\n",
       "      <td>3449</td>\n",
       "      <td>10.5</td>\n",
       "      <td>70</td>\n",
       "      <td>1</td>\n",
       "      <td>ford torino</td>\n",
       "    </tr>\n",
       "    <tr>\n",
       "      <th>5</th>\n",
       "      <td>15.0</td>\n",
       "      <td>8</td>\n",
       "      <td>429.0</td>\n",
       "      <td>198.0</td>\n",
       "      <td>4341</td>\n",
       "      <td>10.0</td>\n",
       "      <td>70</td>\n",
       "      <td>1</td>\n",
       "      <td>ford galaxie 500</td>\n",
       "    </tr>\n",
       "    <tr>\n",
       "      <th>6</th>\n",
       "      <td>14.0</td>\n",
       "      <td>8</td>\n",
       "      <td>454.0</td>\n",
       "      <td>220.0</td>\n",
       "      <td>4354</td>\n",
       "      <td>9.0</td>\n",
       "      <td>70</td>\n",
       "      <td>1</td>\n",
       "      <td>chevrolet impala</td>\n",
       "    </tr>\n",
       "    <tr>\n",
       "      <th>7</th>\n",
       "      <td>14.0</td>\n",
       "      <td>8</td>\n",
       "      <td>440.0</td>\n",
       "      <td>215.0</td>\n",
       "      <td>4312</td>\n",
       "      <td>8.5</td>\n",
       "      <td>70</td>\n",
       "      <td>1</td>\n",
       "      <td>plymouth fury iii</td>\n",
       "    </tr>\n",
       "    <tr>\n",
       "      <th>8</th>\n",
       "      <td>14.0</td>\n",
       "      <td>8</td>\n",
       "      <td>455.0</td>\n",
       "      <td>225.0</td>\n",
       "      <td>4425</td>\n",
       "      <td>10.0</td>\n",
       "      <td>70</td>\n",
       "      <td>1</td>\n",
       "      <td>pontiac catalina</td>\n",
       "    </tr>\n",
       "    <tr>\n",
       "      <th>9</th>\n",
       "      <td>15.0</td>\n",
       "      <td>8</td>\n",
       "      <td>390.0</td>\n",
       "      <td>190.0</td>\n",
       "      <td>3850</td>\n",
       "      <td>8.5</td>\n",
       "      <td>70</td>\n",
       "      <td>1</td>\n",
       "      <td>amc ambassador dpl</td>\n",
       "    </tr>\n",
       "  </tbody>\n",
       "</table>\n",
       "</div>"
      ],
      "text/plain": [
       "    mpg  cylinders  displacement horsepower  weight  acceleration  year  \\\n",
       "0  18.0          8         307.0      130.0    3504          12.0    70   \n",
       "1  15.0          8         350.0      165.0    3693          11.5    70   \n",
       "2  18.0          8         318.0      150.0    3436          11.0    70   \n",
       "3  16.0          8         304.0      150.0    3433          12.0    70   \n",
       "4  17.0          8         302.0      140.0    3449          10.5    70   \n",
       "5  15.0          8         429.0      198.0    4341          10.0    70   \n",
       "6  14.0          8         454.0      220.0    4354           9.0    70   \n",
       "7  14.0          8         440.0      215.0    4312           8.5    70   \n",
       "8  14.0          8         455.0      225.0    4425          10.0    70   \n",
       "9  15.0          8         390.0      190.0    3850           8.5    70   \n",
       "\n",
       "   origin                       name  \n",
       "0       1  chevrolet chevelle malibu  \n",
       "1       1          buick skylark 320  \n",
       "2       1         plymouth satellite  \n",
       "3       1              amc rebel sst  \n",
       "4       1                ford torino  \n",
       "5       1           ford galaxie 500  \n",
       "6       1           chevrolet impala  \n",
       "7       1          plymouth fury iii  \n",
       "8       1           pontiac catalina  \n",
       "9       1         amc ambassador dpl  "
      ]
     },
     "execution_count": 3,
     "metadata": {},
     "output_type": "execute_result"
    }
   ],
   "source": [
    "# this commands loads the data into a data frame\n",
    "auto_df=pd.read_csv(\"auto.csv\")\n",
    "auto_df.head(10)"
   ]
  },
  {
   "cell_type": "markdown",
   "metadata": {},
   "source": [
    "#### Question 2.1 ( Binarization, 3 points)\n",
    "\n",
    "Create a new column in the data frame containing a binary variable called **mpg_b**: it should be equal to 1 if **mpg** contains a value above its median and equal to 0 if **mpg** contains a value below its median."
   ]
  },
  {
   "cell_type": "code",
   "execution_count": 4,
   "metadata": {
    "scrolled": true
   },
   "outputs": [
    {
     "data": {
      "text/html": [
       "<div>\n",
       "<style scoped>\n",
       "    .dataframe tbody tr th:only-of-type {\n",
       "        vertical-align: middle;\n",
       "    }\n",
       "\n",
       "    .dataframe tbody tr th {\n",
       "        vertical-align: top;\n",
       "    }\n",
       "\n",
       "    .dataframe thead th {\n",
       "        text-align: right;\n",
       "    }\n",
       "</style>\n",
       "<table border=\"1\" class=\"dataframe\">\n",
       "  <thead>\n",
       "    <tr style=\"text-align: right;\">\n",
       "      <th></th>\n",
       "      <th>mpg</th>\n",
       "      <th>cylinders</th>\n",
       "      <th>displacement</th>\n",
       "      <th>horsepower</th>\n",
       "      <th>weight</th>\n",
       "      <th>acceleration</th>\n",
       "      <th>year</th>\n",
       "      <th>origin</th>\n",
       "      <th>name</th>\n",
       "      <th>mpg_b</th>\n",
       "    </tr>\n",
       "  </thead>\n",
       "  <tbody>\n",
       "    <tr>\n",
       "      <th>0</th>\n",
       "      <td>18.0</td>\n",
       "      <td>8</td>\n",
       "      <td>307.0</td>\n",
       "      <td>130.0</td>\n",
       "      <td>3504</td>\n",
       "      <td>12.0</td>\n",
       "      <td>70</td>\n",
       "      <td>1</td>\n",
       "      <td>chevrolet chevelle malibu</td>\n",
       "      <td>0</td>\n",
       "    </tr>\n",
       "    <tr>\n",
       "      <th>1</th>\n",
       "      <td>15.0</td>\n",
       "      <td>8</td>\n",
       "      <td>350.0</td>\n",
       "      <td>165.0</td>\n",
       "      <td>3693</td>\n",
       "      <td>11.5</td>\n",
       "      <td>70</td>\n",
       "      <td>1</td>\n",
       "      <td>buick skylark 320</td>\n",
       "      <td>0</td>\n",
       "    </tr>\n",
       "    <tr>\n",
       "      <th>2</th>\n",
       "      <td>18.0</td>\n",
       "      <td>8</td>\n",
       "      <td>318.0</td>\n",
       "      <td>150.0</td>\n",
       "      <td>3436</td>\n",
       "      <td>11.0</td>\n",
       "      <td>70</td>\n",
       "      <td>1</td>\n",
       "      <td>plymouth satellite</td>\n",
       "      <td>0</td>\n",
       "    </tr>\n",
       "    <tr>\n",
       "      <th>3</th>\n",
       "      <td>16.0</td>\n",
       "      <td>8</td>\n",
       "      <td>304.0</td>\n",
       "      <td>150.0</td>\n",
       "      <td>3433</td>\n",
       "      <td>12.0</td>\n",
       "      <td>70</td>\n",
       "      <td>1</td>\n",
       "      <td>amc rebel sst</td>\n",
       "      <td>0</td>\n",
       "    </tr>\n",
       "    <tr>\n",
       "      <th>4</th>\n",
       "      <td>17.0</td>\n",
       "      <td>8</td>\n",
       "      <td>302.0</td>\n",
       "      <td>140.0</td>\n",
       "      <td>3449</td>\n",
       "      <td>10.5</td>\n",
       "      <td>70</td>\n",
       "      <td>1</td>\n",
       "      <td>ford torino</td>\n",
       "      <td>0</td>\n",
       "    </tr>\n",
       "  </tbody>\n",
       "</table>\n",
       "</div>"
      ],
      "text/plain": [
       "    mpg  cylinders  displacement horsepower  weight  acceleration  year  \\\n",
       "0  18.0          8         307.0      130.0    3504          12.0    70   \n",
       "1  15.0          8         350.0      165.0    3693          11.5    70   \n",
       "2  18.0          8         318.0      150.0    3436          11.0    70   \n",
       "3  16.0          8         304.0      150.0    3433          12.0    70   \n",
       "4  17.0          8         302.0      140.0    3449          10.5    70   \n",
       "\n",
       "   origin                       name mpg_b  \n",
       "0       1  chevrolet chevelle malibu     0  \n",
       "1       1          buick skylark 320     0  \n",
       "2       1         plymouth satellite     0  \n",
       "3       1              amc rebel sst     0  \n",
       "4       1                ford torino     0  "
      ]
     },
     "execution_count": 4,
     "metadata": {},
     "output_type": "execute_result"
    }
   ],
   "source": [
    "# code here and in additional cells if needed\n",
    "\n",
    "mpg_b = []\n",
    "mpg_median = auto_df['mpg'].median()\n",
    "\n",
    "for i in auto_df['mpg']:\n",
    "    if i > mpg_median:\n",
    "        mpg_b.append('1')\n",
    "    elif i <= mpg_median:\n",
    "        mpg_b.append('0')\n",
    "        \n",
    "auto_df['mpg_b'] = mpg_b       \n",
    "\n",
    "mpg_b\n",
    "auto_df.head()\n"
   ]
  },
  {
   "cell_type": "markdown",
   "metadata": {},
   "source": [
    "#### Question 2.2 (Numerical and graphical summaries, 7 points)\n",
    "\n",
    "Explore the data graphically (and numerically if you think it is useful) in order to investigate the association between **mpg_b** and the other features.  Which of the other features seem most likely to be useful in predicting **mpg_b**? Describe your findings.\n"
   ]
  },
  {
   "cell_type": "code",
   "execution_count": 5,
   "metadata": {},
   "outputs": [
    {
     "data": {
      "text/plain": [
       "<matplotlib.axes._subplots.AxesSubplot at 0x1c12c9d6d8>"
      ]
     },
     "execution_count": 5,
     "metadata": {},
     "output_type": "execute_result"
    },
    {
     "data": {
      "image/png": "[encoded data removed]",
      "text/plain": [
       "<matplotlib.figure.Figure at 0x1c12c9d4a8>"
      ]
     },
     "metadata": {},
     "output_type": "display_data"
    },
    {
     "data": {
      "image/png": "[encoded data removed]",
      "text/plain": [
       "<matplotlib.figure.Figure at 0x1c12c9d7b8>"
      ]
     },
     "metadata": {},
     "output_type": "display_data"
    },
    {
     "data": {
      "image/png": "[encoded data removed]",
      "text/plain": [
       "<matplotlib.figure.Figure at 0x1c14d3fbe0>"
      ]
     },
     "metadata": {},
     "output_type": "display_data"
    },
    {
     "data": {
      "image/png": "[encoded data removed]",
      "text/plain": [
       "<matplotlib.figure.Figure at 0x1c14d93b38>"
      ]
     },
     "metadata": {},
     "output_type": "display_data"
    },
    {
     "data": {
      "image/png": "[encoded data removed]",
      "text/plain": [
       "<matplotlib.figure.Figure at 0x1c14d93a20>"
      ]
     },
     "metadata": {},
     "output_type": "display_data"
    }
   ],
   "source": [
    "# code here and in additional cells if needed\n",
    "auto_df.boxplot('weight', 'mpg_b')\n",
    "##weight appears to be very different for low vs high mpg\n",
    "\n",
    "auto_df.boxplot('acceleration', 'mpg_b')\n",
    "##acceleration appears to maybe be different for low vs high mpg, the difference is small and could be due to chance\n",
    "\n",
    "auto_df.boxplot('year', 'mpg_b')\n",
    "##year appears to be very different for low vs high mpg probably because mpg increased for all cars as tech improved\n",
    "\n",
    "auto_df.boxplot('displacement', 'mpg_b')\n",
    "##displacement appears to be very different for low vs high mpg\n",
    "\n",
    "auto_df.boxplot('origin', 'mpg_b')\n",
    "#does not seem to be relevant, 1 across the board and therefore not predictive\n"
   ]
  },
  {
   "cell_type": "code",
   "execution_count": 7,
   "metadata": {},
   "outputs": [
    {
     "data": {
      "text/plain": [
       "<matplotlib.axes._subplots.AxesSubplot at 0x1c14fb3a58>"
      ]
     },
     "execution_count": 7,
     "metadata": {},
     "output_type": "execute_result"
    },
    {
     "data": {
      "image/png": "[encoded data removed]",
      "text/plain": [
       "<matplotlib.figure.Figure at 0x1c14e766a0>"
      ]
     },
     "metadata": {},
     "output_type": "display_data"
    }
   ],
   "source": [
    "auto_df.plot.scatter('weight', 'year', c=auto_df['mpg_b'], colormap='viridis')"
   ]
  },
  {
   "cell_type": "code",
   "execution_count": 8,
   "metadata": {},
   "outputs": [
    {
     "data": {
      "text/plain": [
       "<matplotlib.axes._subplots.AxesSubplot at 0x1c14fad438>"
      ]
     },
     "execution_count": 8,
     "metadata": {},
     "output_type": "execute_result"
    },
    {
     "data": {
      "image/png": "[encoded data removed]",
      "text/plain": [
       "<matplotlib.figure.Figure at 0x1c14cd55f8>"
      ]
     },
     "metadata": {},
     "output_type": "display_data"
    }
   ],
   "source": [
    "auto_df.plot.scatter('displacement', 'acceleration', c=auto_df['mpg_b'], colormap='viridis')"
   ]
  },
  {
   "cell_type": "code",
   "execution_count": 9,
   "metadata": {},
   "outputs": [
    {
     "data": {
      "text/html": [
       "<table class=\"simpletable\">\n",
       "<caption>OLS Regression Results</caption>\n",
       "<tr>\n",
       "  <th>Dep. Variable:</th>    <td>auto_df['mpg_b']</td> <th>  R-squared:         </th> <td>   0.620</td>\n",
       "</tr>\n",
       "<tr>\n",
       "  <th>Model:</th>                   <td>OLS</td>       <th>  Adj. R-squared:    </th> <td>   0.617</td>\n",
       "</tr>\n",
       "<tr>\n",
       "  <th>Method:</th>             <td>Least Squares</td>  <th>  F-statistic:       </th> <td>   160.2</td>\n",
       "</tr>\n",
       "<tr>\n",
       "  <th>Date:</th>             <td>Mon, 18 Feb 2019</td> <th>  Prob (F-statistic):</th> <td>4.35e-81</td>\n",
       "</tr>\n",
       "<tr>\n",
       "  <th>Time:</th>                 <td>18:55:01</td>     <th>  Log-Likelihood:    </th> <td> -95.586</td>\n",
       "</tr>\n",
       "<tr>\n",
       "  <th>No. Observations:</th>      <td>   397</td>      <th>  AIC:               </th> <td>   201.2</td>\n",
       "</tr>\n",
       "<tr>\n",
       "  <th>Df Residuals:</th>          <td>   392</td>      <th>  BIC:               </th> <td>   221.1</td>\n",
       "</tr>\n",
       "<tr>\n",
       "  <th>Df Model:</th>              <td>     4</td>      <th>                     </th>     <td> </td>   \n",
       "</tr>\n",
       "<tr>\n",
       "  <th>Covariance Type:</th>      <td>nonrobust</td>    <th>                     </th>     <td> </td>   \n",
       "</tr>\n",
       "</table>\n",
       "<table class=\"simpletable\">\n",
       "<tr>\n",
       "             <td></td>                <th>coef</th>     <th>std err</th>      <th>t</th>      <th>P>|t|</th>  <th>[0.025</th>    <th>0.975]</th>  \n",
       "</tr>\n",
       "<tr>\n",
       "  <th>Intercept</th>               <td>   -0.6782</td> <td>    0.369</td> <td>   -1.839</td> <td> 0.067</td> <td>   -1.403</td> <td>    0.047</td>\n",
       "</tr>\n",
       "<tr>\n",
       "  <th>auto_df['weight']</th>       <td>   -0.0003</td> <td> 5.36e-05</td> <td>   -4.932</td> <td> 0.000</td> <td>   -0.000</td> <td>   -0.000</td>\n",
       "</tr>\n",
       "<tr>\n",
       "  <th>auto_df['year']</th>         <td>    0.0321</td> <td>    0.005</td> <td>    7.008</td> <td> 0.000</td> <td>    0.023</td> <td>    0.041</td>\n",
       "</tr>\n",
       "<tr>\n",
       "  <th>auto_df['acceleration']</th> <td>   -0.0153</td> <td>    0.007</td> <td>   -2.158</td> <td> 0.032</td> <td>   -0.029</td> <td>   -0.001</td>\n",
       "</tr>\n",
       "<tr>\n",
       "  <th>auto_df['displacement']</th> <td>   -0.0013</td> <td>    0.000</td> <td>   -2.799</td> <td> 0.005</td> <td>   -0.002</td> <td>   -0.000</td>\n",
       "</tr>\n",
       "</table>\n",
       "<table class=\"simpletable\">\n",
       "<tr>\n",
       "  <th>Omnibus:</th>       <td>19.767</td> <th>  Durbin-Watson:     </th> <td>   1.194</td>\n",
       "</tr>\n",
       "<tr>\n",
       "  <th>Prob(Omnibus):</th> <td> 0.000</td> <th>  Jarque-Bera (JB):  </th> <td>  20.267</td>\n",
       "</tr>\n",
       "<tr>\n",
       "  <th>Skew:</th>          <td>-0.518</td> <th>  Prob(JB):          </th> <td>3.97e-05</td>\n",
       "</tr>\n",
       "<tr>\n",
       "  <th>Kurtosis:</th>      <td> 2.612</td> <th>  Cond. No.          </th> <td>7.34e+04</td>\n",
       "</tr>\n",
       "</table>"
      ],
      "text/plain": [
       "<class 'statsmodels.iolib.summary.Summary'>\n",
       "\"\"\"\n",
       "                            OLS Regression Results                            \n",
       "==============================================================================\n",
       "Dep. Variable:       auto_df['mpg_b']   R-squared:                       0.620\n",
       "Model:                            OLS   Adj. R-squared:                  0.617\n",
       "Method:                 Least Squares   F-statistic:                     160.2\n",
       "Date:                Mon, 18 Feb 2019   Prob (F-statistic):           4.35e-81\n",
       "Time:                        18:55:01   Log-Likelihood:                -95.586\n",
       "No. Observations:                 397   AIC:                             201.2\n",
       "Df Residuals:                     392   BIC:                             221.1\n",
       "Df Model:                           4                                         \n",
       "Covariance Type:            nonrobust                                         \n",
       "===========================================================================================\n",
       "                              coef    std err          t      P>|t|      [0.025      0.975]\n",
       "-------------------------------------------------------------------------------------------\n",
       "Intercept                  -0.6782      0.369     -1.839      0.067      -1.403       0.047\n",
       "auto_df['weight']          -0.0003   5.36e-05     -4.932      0.000      -0.000      -0.000\n",
       "auto_df['year']             0.0321      0.005      7.008      0.000       0.023       0.041\n",
       "auto_df['acceleration']    -0.0153      0.007     -2.158      0.032      -0.029      -0.001\n",
       "auto_df['displacement']    -0.0013      0.000     -2.799      0.005      -0.002      -0.000\n",
       "==============================================================================\n",
       "Omnibus:                       19.767   Durbin-Watson:                   1.194\n",
       "Prob(Omnibus):                  0.000   Jarque-Bera (JB):               20.267\n",
       "Skew:                          -0.518   Prob(JB):                     3.97e-05\n",
       "Kurtosis:                       2.612   Cond. No.                     7.34e+04\n",
       "==============================================================================\n",
       "\n",
       "Warnings:\n",
       "[1] Standard Errors assume that the covariance matrix of the errors is correctly specified.\n",
       "[2] The condition number is large, 7.34e+04. This might indicate that there are\n",
       "strong multicollinearity or other numerical problems.\n",
       "\"\"\""
      ]
     },
     "execution_count": 9,
     "metadata": {},
     "output_type": "execute_result"
    }
   ],
   "source": [
    "auto_df['mpg_b'] = auto_df['mpg_b'].astype(int)\n",
    "##auto_df['horsepower'] = auto_df['horsepower'].astype(float) ##appears to be weird symbols in the dataset\n",
    "\n",
    "\n",
    "mpg_model = ols(\"\"\"auto_df['mpg_b'] ~ auto_df['weight']\n",
    "                                    + auto_df['year']\n",
    "                                    + auto_df['acceleration']\n",
    "                                    + auto_df['displacement']\n",
    "                                           \"\"\", data=auto_df).fit()\n",
    "mpg_model.summary()"
   ]
  },
  {
   "cell_type": "markdown",
   "metadata": {},
   "source": [
    "Graphically, displacement, year, and weight appear to be most useful in predicting mpg_b because of the large differences between groups shown through the box plots. In addition, the scatter plots show a clear difference in yellow vs. purple points for weight and displacement. There is some trend for year in the scatterplot as the higer the year, the more yellow dots there are compared to number of purple dots. However, it is not as clear of a distinction.\n",
    "\n",
    "After running a regression with weight, year, acceleration, and displacement predicting mpg_b, it appears that all four of those variables are significant at the 0.05 alpha level, and weight, year, and displacement are significant at the 0.01 alpha level as determined through the p-values. Although one could argue that the coefficients for weight and displacement are really small, they are for one unit change in weight or displacement unit. Since those are large numbers with varaition, the effects are still relevant and good predictors."
   ]
  },
  {
   "cell_type": "markdown",
   "metadata": {},
   "source": [
    "#### Question 2.3 (Split the data, 3 points)\n",
    "\n",
    "Split the data into a training set and a test set. Select **randomly** 50 rows of your data frame and extract their data into a test data frame. The rest of the 342 rows should form your training data frame."
   ]
  },
  {
   "cell_type": "code",
   "execution_count": 11,
   "metadata": {},
   "outputs": [
    {
     "name": "stderr",
     "output_type": "stream",
     "text": [
      "/anaconda3/lib/python3.6/importlib/_bootstrap.py:219: RuntimeWarning: numpy.dtype size changed, may indicate binary incompatibility. Expected 96, got 88\n",
      "  return f(*args, **kwds)\n",
      "/anaconda3/lib/python3.6/importlib/_bootstrap.py:219: RuntimeWarning: numpy.dtype size changed, may indicate binary incompatibility. Expected 96, got 88\n",
      "  return f(*args, **kwds)\n"
     ]
    }
   ],
   "source": [
    "# code here and in additional cells if needed\n",
    "from sklearn.model_selection import train_test_split"
   ]
  },
  {
   "cell_type": "code",
   "execution_count": 12,
   "metadata": {},
   "outputs": [
    {
     "data": {
      "text/plain": [
       "397"
      ]
     },
     "execution_count": 12,
     "metadata": {},
     "output_type": "execute_result"
    }
   ],
   "source": [
    "len(auto_df)\n",
    "\n",
    "checkauto = auto_df.dropna()\n",
    "len(checkauto)\n",
    "\n",
    "##although the question says its 50 for test and 342 for training, 397-50 = 347 for training"
   ]
  },
  {
   "cell_type": "code",
   "execution_count": 13,
   "metadata": {},
   "outputs": [
    {
     "data": {
      "text/plain": [
       "mpg             float64\n",
       "cylinders         int64\n",
       "displacement    float64\n",
       "horsepower       object\n",
       "weight            int64\n",
       "acceleration    float64\n",
       "year              int64\n",
       "origin            int64\n",
       "name             object\n",
       "mpg_b             int64\n",
       "dtype: object"
      ]
     },
     "execution_count": 13,
     "metadata": {},
     "output_type": "execute_result"
    }
   ],
   "source": [
    "train_df, test_df = train_test_split(auto_df, test_size=50)\n",
    "\n",
    "len(test_df)\n",
    "\n",
    "train_df.dtypes\n"
   ]
  },
  {
   "cell_type": "markdown",
   "metadata": {},
   "source": [
    "#### Question 2.4 (kNN, 13 points)\n",
    "\n",
    "The goal here is to construct a kNN algorithm that has high **accuracy** (proportion of test examples labeled correctly). Recall that you have to take into consideration: (i) the type of features (categorical, quantitative); (ii) the scaling of the features; (iii) the distance you use; (iv) the features in the model; (v) the number of neighbors, k.\n",
    "\n",
    "You can choose to use only the variables that seem most asociated with **mpg_b** in Q2.2. Try several values of k, and report on your test errors. Which value of k performs best?\n"
   ]
  },
  {
   "cell_type": "code",
   "execution_count": 33,
   "metadata": {},
   "outputs": [],
   "source": [
    "def distance(pt1, pt2):\n",
    "    \"\"\"Return the distance between two points, represented as arrays\"\"\"\n",
    "    return np.sqrt(sum((pt1 - pt2)**2))\n",
    "\n",
    "def all_distances(X_train, point):\n",
    "    \"\"\"The distance between point (an array of numbers) and the numbers in row i of attribute data frame.\"\"\"\n",
    "    attributes = X_train.copy()\n",
    "    def distance_from_point(row):\n",
    "        return distance(point, np.array(row))\n",
    "    return attributes.apply(distance_from_point,axis=1)\n",
    "\n",
    "def closest(X_train, Y_train, point, k):\n",
    "    \"\"\"A df containing the k closest rows in the training df to array 'point' \"\"\"\n",
    "    attributes=X_train.copy()\n",
    "    attributes['Distance']=all_distances(attributes, point)\n",
    "    attributes['Class']=Y_train\n",
    "    attributes=attributes.sort_values('Distance')    \n",
    "    topk = attributes.head(k)\n",
    "    return topk\n",
    "\n",
    "def majority(topkclasses):\n",
    "    \"\"\"1 if the majority of the \"Class\" column is 1's, and 0 otherwise.\"\"\"\n",
    "    ones = topkclasses[topkclasses.Class==1].shape[0]\n",
    "    zeros = topkclasses[topkclasses.Class==0].shape[0]\n",
    "    if ones > zeros:\n",
    "        return 1\n",
    "    else:\n",
    "        return 0\n",
    "\n",
    "# returns a data frame with X_test appended by a column of Class prediction\n",
    "def classify(X_train,Y_train, X_test, k):\n",
    "    \"\"\"Classify data in X_test using k-nearest neighbor classification with the given training table.\"\"\"\n",
    "    #training = X_train\n",
    "    n=X_test.shape[0] # the number of test cases\n",
    "    \n",
    "    pred_class = make_array()\n",
    "    for i in np.arange(n):\n",
    "        topkclasses = closest(X_train,Y_train, X_test.iloc[i], k)\n",
    "        pred_class = np.append(pred_class,majority(topkclasses))\n",
    "    \n",
    "    report_df=X_test.copy()\n",
    "    report_df['Class']=pred_class\n",
    "    \n",
    "    return report_df\n",
    "\n",
    "##Taken from lecture 11 class demos"
   ]
  },
  {
   "cell_type": "code",
   "execution_count": 36,
   "metadata": {},
   "outputs": [
    {
     "data": {
      "text/plain": [
       "displacement    int64\n",
       "weight          int64\n",
       "year            int64\n",
       "mpg_b           int64\n",
       "dtype: object"
      ]
     },
     "execution_count": 36,
     "metadata": {},
     "output_type": "execute_result"
    }
   ],
   "source": [
    "#drop strings/floats and drop acceleration because it was the least significant in Q2.2\n",
    "\n",
    "train_df = train_df.drop(columns=['cylinders','horsepower', 'origin', 'name', 'mpg', 'acceleration'])\n",
    "test_df = test_df.drop(columns=['cylinders','horsepower', 'origin', 'name', 'mpg', 'acceleration'])"
   ]
  },
  {
   "cell_type": "code",
   "execution_count": 37,
   "metadata": {},
   "outputs": [
    {
     "data": {
      "text/plain": [
       "displacement    int64\n",
       "weight          int64\n",
       "year            int64\n",
       "mpg_b           int64\n",
       "dtype: object"
      ]
     },
     "execution_count": 37,
     "metadata": {},
     "output_type": "execute_result"
    }
   ],
   "source": [
    "train_df.dtypes"
   ]
  },
  {
   "cell_type": "code",
   "execution_count": 24,
   "metadata": {},
   "outputs": [],
   "source": [
    "train_df['displacement'] = train_df['displacement'].astype(int)\n",
    "test_df['displacement'] = test_df['displacement'].astype(int)\n",
    "\n",
    "train_df['acceleration'] = train_df['acceleration'].astype(int)\n",
    "test_df['acceleration'] = test_df['acceleration'].astype(int)\n",
    "\n",
    "train_df['mpg_b'] = train_df['mpg_b'].astype(int)\n",
    "test_df['mpg_b'] = test_df['mpg_b'].astype(int)"
   ]
  },
  {
   "cell_type": "code",
   "execution_count": 25,
   "metadata": {},
   "outputs": [
    {
     "data": {
      "text/plain": [
       "displacement    int64\n",
       "weight          int64\n",
       "acceleration    int64\n",
       "year            int64\n",
       "mpg_b           int64\n",
       "dtype: object"
      ]
     },
     "execution_count": 25,
     "metadata": {},
     "output_type": "execute_result"
    }
   ],
   "source": [
    "# code here and in additional cells if needed\n",
    "\n",
    "X_train=train_df.drop(columns=['mpg_b'])\n",
    "X_test=test_df.drop(columns=['mpg_b'])\n",
    "Y_train=train_df.mpg_b\n",
    "Y_test=test_df.mpg_b\n",
    "\n",
    "train_df.head()\n",
    "train_df.dtypes"
   ]
  },
  {
   "cell_type": "code",
   "execution_count": 39,
   "metadata": {},
   "outputs": [
    {
     "data": {
      "text/plain": [
       "0.92"
      ]
     },
     "execution_count": 39,
     "metadata": {},
     "output_type": "execute_result"
    }
   ],
   "source": [
    "np.mean(Y_test==classify(X_train,Y_train, X_test, 3).Class)"
   ]
  },
  {
   "cell_type": "code",
   "execution_count": 40,
   "metadata": {},
   "outputs": [
    {
     "data": {
      "text/plain": [
       "0.88"
      ]
     },
     "execution_count": 40,
     "metadata": {},
     "output_type": "execute_result"
    }
   ],
   "source": [
    "np.mean(Y_test==classify(X_train,Y_train, X_test, 5).Class)"
   ]
  },
  {
   "cell_type": "code",
   "execution_count": 41,
   "metadata": {},
   "outputs": [
    {
     "data": {
      "text/plain": [
       "0.84"
      ]
     },
     "execution_count": 41,
     "metadata": {},
     "output_type": "execute_result"
    }
   ],
   "source": [
    "np.mean(Y_test==classify(X_train,Y_train, X_test, 7).Class)"
   ]
  },
  {
   "cell_type": "code",
   "execution_count": 42,
   "metadata": {},
   "outputs": [
    {
     "data": {
      "text/plain": [
       "0.86"
      ]
     },
     "execution_count": 42,
     "metadata": {},
     "output_type": "execute_result"
    }
   ],
   "source": [
    "np.mean(Y_test==classify(X_train,Y_train, X_test, 9).Class)"
   ]
  },
  {
   "cell_type": "code",
   "execution_count": 43,
   "metadata": {},
   "outputs": [
    {
     "data": {
      "text/plain": [
       "0.84"
      ]
     },
     "execution_count": 43,
     "metadata": {},
     "output_type": "execute_result"
    }
   ],
   "source": [
    "np.mean(Y_test==classify(X_train,Y_train, X_test, 11).Class)"
   ]
  },
  {
   "cell_type": "markdown",
   "metadata": {},
   "source": [
    "It appears that lower values of k, specifically k=3 results in the highest accuracy score. The second highest is k=5, which is also fairly low.\n",
    "\n",
    "I ran all the accuracy scores with different k's twice. First, with the addition of acceleration, and the second time with the same model but without acceleration. The accuracy scores did not change. The error can be attributed to differences in a different variable, perhaps horsepower which was not checked. "
   ]
  },
  {
   "cell_type": "code",
   "execution_count": null,
   "metadata": {},
   "outputs": [],
   "source": []
  }
 ],
 "metadata": {
  "kernelspec": {
   "display_name": "Python 3",
   "language": "python",
   "name": "python3"
  },
  "language_info": {
   "codemirror_mode": {
    "name": "ipython",
    "version": 3
   },
   "file_extension": ".py",
   "mimetype": "text/x-python",
   "name": "python",
   "nbconvert_exporter": "python",
   "pygments_lexer": "ipython3",
   "version": "3.6.4"
  }
 },
 "nbformat": 4,
 "nbformat_minor": 2
}
