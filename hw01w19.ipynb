{
 "cells": [
  {
   "cell_type": "markdown",
   "metadata": {},
   "source": [
    "# Homework 1: Regression (50 points)\n",
    "\n",
    "**Reading**: Textbook chapter [15](https://www.inferentialthinking.com/chapters/15/Prediction).\n",
    "\n",
    "**Pandas Cheat Sheet**: There are several Pandas documentation files you can find with a simple search. This is one that is short and informative: https://pandas.pydata.org/Pandas_Cheat_Sheet.pdf\n",
    "\n",
    "Please complete this notebook by filling in the cells provided. Before you begin, execute the following cell to load the needed functions. Each time you start your server, you will need to execute this cell again to load them.  \n",
    "\n",
    "Homework 1 is due Tuesday, 1/22 at 9:30am. Late work will not be accepted.  "
   ]
  },
  {
   "cell_type": "code",
   "execution_count": 2,
   "metadata": {},
   "outputs": [
    {
     "name": "stderr",
     "output_type": "stream",
     "text": [
      "/anaconda3/lib/python3.6/importlib/_bootstrap.py:219: RuntimeWarning: numpy.dtype size changed, may indicate binary incompatibility. Expected 96, got 88\n",
      "  return f(*args, **kwds)\n",
      "/anaconda3/lib/python3.6/importlib/_bootstrap.py:219: RuntimeWarning: numpy.dtype size changed, may indicate binary incompatibility. Expected 96, got 88\n",
      "  return f(*args, **kwds)\n"
     ]
    }
   ],
   "source": [
    "# Don't change this cell; just run it. \n",
    "\n",
    "import numpy as np\n",
    "from datascience import *\n",
    "import matplotlib\n",
    "%matplotlib inline\n",
    "import matplotlib.pyplot as plots\n",
    "plots.style.use('fivethirtyeight')\n",
    "\n",
    "import pandas as pd"
   ]
  },
  {
   "cell_type": "markdown",
   "metadata": {},
   "source": [
    "## 1. Amazon River Data (12 points) ##\n",
    "\n",
    "The data below give the high and low water levels of the Amazon River at Iquitos, Peru (in meters). \n",
    "\n",
    "In the 1970s roads were first opened into the upper Amazon area, allowing for large-scale deforestation. This in turn may cause major climatological and hydrological changes, since rainfall and runoff are likely to be affected.\n",
    "\n",
    "The data from 1962 to 1969 may be thought of as a control period while 1970 to 1978 represent values obtained after the beginning of development. The goal is to analyze these data to determine if deforestation has resulted in changes in the water balance of the Amazon basin."
   ]
  },
  {
   "cell_type": "code",
   "execution_count": 3,
   "metadata": {
    "scrolled": true
   },
   "outputs": [
    {
     "data": {
      "text/html": [
       "<div>\n",
       "<style scoped>\n",
       "    .dataframe tbody tr th:only-of-type {\n",
       "        vertical-align: middle;\n",
       "    }\n",
       "\n",
       "    .dataframe tbody tr th {\n",
       "        vertical-align: top;\n",
       "    }\n",
       "\n",
       "    .dataframe thead th {\n",
       "        text-align: right;\n",
       "    }\n",
       "</style>\n",
       "<table border=\"1\" class=\"dataframe\">\n",
       "  <thead>\n",
       "    <tr style=\"text-align: right;\">\n",
       "      <th></th>\n",
       "      <th>Year</th>\n",
       "      <th>High</th>\n",
       "      <th>Low</th>\n",
       "    </tr>\n",
       "  </thead>\n",
       "  <tbody>\n",
       "    <tr>\n",
       "      <th>0</th>\n",
       "      <td>1962</td>\n",
       "      <td>25.82</td>\n",
       "      <td>18.24</td>\n",
       "    </tr>\n",
       "    <tr>\n",
       "      <th>1</th>\n",
       "      <td>1963</td>\n",
       "      <td>25.35</td>\n",
       "      <td>16.50</td>\n",
       "    </tr>\n",
       "    <tr>\n",
       "      <th>2</th>\n",
       "      <td>1964</td>\n",
       "      <td>24.29</td>\n",
       "      <td>20.26</td>\n",
       "    </tr>\n",
       "    <tr>\n",
       "      <th>3</th>\n",
       "      <td>1965</td>\n",
       "      <td>24.05</td>\n",
       "      <td>20.97</td>\n",
       "    </tr>\n",
       "    <tr>\n",
       "      <th>4</th>\n",
       "      <td>1966</td>\n",
       "      <td>24.89</td>\n",
       "      <td>19.43</td>\n",
       "    </tr>\n",
       "    <tr>\n",
       "      <th>5</th>\n",
       "      <td>1967</td>\n",
       "      <td>25.35</td>\n",
       "      <td>19.31</td>\n",
       "    </tr>\n",
       "    <tr>\n",
       "      <th>6</th>\n",
       "      <td>1968</td>\n",
       "      <td>25.23</td>\n",
       "      <td>20.85</td>\n",
       "    </tr>\n",
       "    <tr>\n",
       "      <th>7</th>\n",
       "      <td>1969</td>\n",
       "      <td>25.06</td>\n",
       "      <td>19.54</td>\n",
       "    </tr>\n",
       "    <tr>\n",
       "      <th>8</th>\n",
       "      <td>1970</td>\n",
       "      <td>27.13</td>\n",
       "      <td>20.49</td>\n",
       "    </tr>\n",
       "    <tr>\n",
       "      <th>9</th>\n",
       "      <td>1971</td>\n",
       "      <td>27.36</td>\n",
       "      <td>21.91</td>\n",
       "    </tr>\n",
       "    <tr>\n",
       "      <th>10</th>\n",
       "      <td>1972</td>\n",
       "      <td>26.65</td>\n",
       "      <td>22.51</td>\n",
       "    </tr>\n",
       "    <tr>\n",
       "      <th>11</th>\n",
       "      <td>1973</td>\n",
       "      <td>27.13</td>\n",
       "      <td>18.81</td>\n",
       "    </tr>\n",
       "    <tr>\n",
       "      <th>12</th>\n",
       "      <td>1974</td>\n",
       "      <td>27.49</td>\n",
       "      <td>19.42</td>\n",
       "    </tr>\n",
       "    <tr>\n",
       "      <th>13</th>\n",
       "      <td>1975</td>\n",
       "      <td>27.08</td>\n",
       "      <td>19.10</td>\n",
       "    </tr>\n",
       "    <tr>\n",
       "      <th>14</th>\n",
       "      <td>1976</td>\n",
       "      <td>27.51</td>\n",
       "      <td>18.80</td>\n",
       "    </tr>\n",
       "    <tr>\n",
       "      <th>15</th>\n",
       "      <td>1977</td>\n",
       "      <td>27.54</td>\n",
       "      <td>18.80</td>\n",
       "    </tr>\n",
       "    <tr>\n",
       "      <th>16</th>\n",
       "      <td>1978</td>\n",
       "      <td>26.21</td>\n",
       "      <td>17.57</td>\n",
       "    </tr>\n",
       "  </tbody>\n",
       "</table>\n",
       "</div>"
      ],
      "text/plain": [
       "    Year   High    Low\n",
       "0   1962  25.82  18.24\n",
       "1   1963  25.35  16.50\n",
       "2   1964  24.29  20.26\n",
       "3   1965  24.05  20.97\n",
       "4   1966  24.89  19.43\n",
       "5   1967  25.35  19.31\n",
       "6   1968  25.23  20.85\n",
       "7   1969  25.06  19.54\n",
       "8   1970  27.13  20.49\n",
       "9   1971  27.36  21.91\n",
       "10  1972  26.65  22.51\n",
       "11  1973  27.13  18.81\n",
       "12  1974  27.49  19.42\n",
       "13  1975  27.08  19.10\n",
       "14  1976  27.51  18.80\n",
       "15  1977  27.54  18.80\n",
       "16  1978  26.21  17.57"
      ]
     },
     "execution_count": 3,
     "metadata": {},
     "output_type": "execute_result"
    }
   ],
   "source": [
    "amazon_df=pd.read_csv(\"amazon.csv\")\n",
    "amazon_df"
   ]
  },
  {
   "cell_type": "markdown",
   "metadata": {},
   "source": [
    "#### Question 1\n",
    "\n",
    "Draw scatter plots of High versus Year, Low versus Year and High versus Low. Use more than one cell if needed."
   ]
  },
  {
   "cell_type": "code",
   "execution_count": 4,
   "metadata": {
    "scrolled": true
   },
   "outputs": [
    {
     "data": {
      "text/plain": [
       "<matplotlib.axes._subplots.AxesSubplot at 0x1a14427d68>"
      ]
     },
     "execution_count": 4,
     "metadata": {},
     "output_type": "execute_result"
    },
    {
     "data": {
      "image/png": "[encoded data removed]",
      "text/plain": [
       "<matplotlib.figure.Figure at 0x1a14427940>"
      ]
     },
     "metadata": {},
     "output_type": "display_data"
    }
   ],
   "source": [
    "# code here and in additional cells if needed\n",
    "highyear = amazon_df.plot.scatter(x='Year',y='High')\n",
    "highyear\n",
    "\n"
   ]
  },
  {
   "cell_type": "code",
   "execution_count": 5,
   "metadata": {},
   "outputs": [
    {
     "data": {
      "text/plain": [
       "<matplotlib.axes._subplots.AxesSubplot at 0x1a14442c18>"
      ]
     },
     "execution_count": 5,
     "metadata": {},
     "output_type": "execute_result"
    },
    {
     "data": {
      "image/png": "[encoded data removed]",
      "text/plain": [
       "<matplotlib.figure.Figure at 0x1a164e04e0>"
      ]
     },
     "metadata": {},
     "output_type": "display_data"
    }
   ],
   "source": [
    "lowyear = amazon_df.plot.scatter(x='Year',y='Low')\n",
    "lowyear\n"
   ]
  },
  {
   "cell_type": "code",
   "execution_count": 6,
   "metadata": {},
   "outputs": [
    {
     "data": {
      "text/plain": [
       "<matplotlib.axes._subplots.AxesSubplot at 0x1a165f6d30>"
      ]
     },
     "execution_count": 6,
     "metadata": {},
     "output_type": "execute_result"
    },
    {
     "data": {
      "image/png": "[encoded data removed]",
      "text/plain": [
       "<matplotlib.figure.Figure at 0x1a165006d8>"
      ]
     },
     "metadata": {},
     "output_type": "display_data"
    }
   ],
   "source": [
    "highlow = amazon_df.plot.scatter(x='Low',y='High')\n",
    "highlow\n"
   ]
  },
  {
   "cell_type": "markdown",
   "metadata": {},
   "source": [
    "#### Question 2\n",
    "\n",
    "Calculate the regression (least squares) lines for High versus Year, Low versus Year and High versus Low. Interpret the slopes in tersms of the problem."
   ]
  },
  {
   "cell_type": "code",
   "execution_count": 7,
   "metadata": {},
   "outputs": [
    {
     "data": {
      "text/plain": [
       "array([ 0.01326498, -0.00408459])"
      ]
     },
     "execution_count": 7,
     "metadata": {},
     "output_type": "execute_result"
    }
   ],
   "source": [
    "# High vs Year least squares\n",
    "def yearhigh_mse(any_slope, any_intercept):\n",
    "    x = amazon_df['Year']\n",
    "    y = amazon_df['High']\n",
    "    estimate = any_slope*x + any_intercept\n",
    "    return (np.mean((y - estimate) ** 2)) \n",
    "\n",
    "minimize(yearhigh_mse)"
   ]
  },
  {
   "cell_type": "markdown",
   "metadata": {},
   "source": [
    "For every increase in year (1 year), we expect the high water level to be 0.013 meters higher on average. "
   ]
  },
  {
   "cell_type": "code",
   "execution_count": 8,
   "metadata": {},
   "outputs": [
    {
     "data": {
      "text/plain": [
       "array([0.00992842, 0.00043421])"
      ]
     },
     "execution_count": 8,
     "metadata": {},
     "output_type": "execute_result"
    }
   ],
   "source": [
    "# Low vs Year least squares\n",
    "def yearlow_mse(any_slope, any_intercept):\n",
    "    x = amazon_df['Year']\n",
    "    y = amazon_df['Low']\n",
    "    estimate = any_slope*x + any_intercept\n",
    "    return (np.mean((y - estimate) ** 2)) \n",
    "\n",
    "minimize(yearlow_mse)"
   ]
  },
  {
   "cell_type": "markdown",
   "metadata": {},
   "source": [
    "For every increase in year (1 year), we expect the low water level to be 0.009 meters higher on average."
   ]
  },
  {
   "cell_type": "code",
   "execution_count": 9,
   "metadata": {},
   "outputs": [
    {
     "data": {
      "text/plain": [
       "array([-1.40595883e-02,  2.64008796e+01])"
      ]
     },
     "execution_count": 9,
     "metadata": {},
     "output_type": "execute_result"
    }
   ],
   "source": [
    "# High vs Low least squares\n",
    "def lowhigh_mse(any_slope, any_intercept):\n",
    "    x = amazon_df['Low']\n",
    "    y = amazon_df['High']\n",
    "    estimate = any_slope*x + any_intercept\n",
    "    return (np.mean((y - estimate) ** 2)) \n",
    "\n",
    "minimize(lowhigh_mse)"
   ]
  },
  {
   "cell_type": "markdown",
   "metadata": {},
   "source": [
    "For every one meter increase in the low water level, we expect the high water level to be -.0014 meters lower on average. "
   ]
  },
  {
   "cell_type": "markdown",
   "metadata": {},
   "source": [
    "#### Question 3\n",
    "On the basis of this data, can we say that deforestation is causing changes in the water level in the Amazon? What additional information, if available, might be used to infer causality?"
   ]
  },
  {
   "cell_type": "markdown",
   "metadata": {},
   "source": [
    "We cannot say that deforestation is causing changes in the water level. While it may be true, there are many other factors that could also be influencing or causing the changes in water level including changes in population, transportation pollution, and more. We would need information on the surrounding environment throughout the years to account for as many of the other potential causes as possible. "
   ]
  },
  {
   "cell_type": "markdown",
   "metadata": {},
   "source": [
    "## 2. Triple Jump Distances vs. Vertical Jump Heights (15 points)\n",
    "\n",
    "Does skill in one sport imply skill in a related sport?  The answer might be different for different activities.  Let us find out whether it's true for the [triple jump](https://en.wikipedia.org/wiki/Triple_jump) (an horizontal jump similar to a long jump) and the vertical jump.  Since we're learning about linear regression, we will look specifically for a *linear* association between skill in the two sports.\n",
    "\n",
    "The following data was collected by observing 40 collegiate level soccer players.  Each athlete's distances in both jump activities were measured in centimeters. Run the cell below to load the data into a pandas data frame.\n"
   ]
  },
  {
   "cell_type": "code",
   "execution_count": 12,
   "metadata": {},
   "outputs": [
    {
     "data": {
      "text/html": [
       "<div>\n",
       "<style scoped>\n",
       "    .dataframe tbody tr th:only-of-type {\n",
       "        vertical-align: middle;\n",
       "    }\n",
       "\n",
       "    .dataframe tbody tr th {\n",
       "        vertical-align: top;\n",
       "    }\n",
       "\n",
       "    .dataframe thead th {\n",
       "        text-align: right;\n",
       "    }\n",
       "</style>\n",
       "<table border=\"1\" class=\"dataframe\">\n",
       "  <thead>\n",
       "    <tr style=\"text-align: right;\">\n",
       "      <th></th>\n",
       "      <th>triple</th>\n",
       "      <th>vertical</th>\n",
       "    </tr>\n",
       "  </thead>\n",
       "  <tbody>\n",
       "    <tr>\n",
       "      <th>0</th>\n",
       "      <td>383.00</td>\n",
       "      <td>33.00</td>\n",
       "    </tr>\n",
       "    <tr>\n",
       "      <th>1</th>\n",
       "      <td>781.00</td>\n",
       "      <td>71.10</td>\n",
       "    </tr>\n",
       "    <tr>\n",
       "      <th>2</th>\n",
       "      <td>561.62</td>\n",
       "      <td>62.25</td>\n",
       "    </tr>\n",
       "    <tr>\n",
       "      <th>3</th>\n",
       "      <td>624.52</td>\n",
       "      <td>61.33</td>\n",
       "    </tr>\n",
       "    <tr>\n",
       "      <th>4</th>\n",
       "      <td>446.24</td>\n",
       "      <td>40.19</td>\n",
       "    </tr>\n",
       "    <tr>\n",
       "      <th>5</th>\n",
       "      <td>515.30</td>\n",
       "      <td>38.96</td>\n",
       "    </tr>\n",
       "    <tr>\n",
       "      <th>6</th>\n",
       "      <td>449.22</td>\n",
       "      <td>39.69</td>\n",
       "    </tr>\n",
       "    <tr>\n",
       "      <th>7</th>\n",
       "      <td>560.91</td>\n",
       "      <td>46.51</td>\n",
       "    </tr>\n",
       "    <tr>\n",
       "      <th>8</th>\n",
       "      <td>519.12</td>\n",
       "      <td>37.68</td>\n",
       "    </tr>\n",
       "  </tbody>\n",
       "</table>\n",
       "</div>"
      ],
      "text/plain": [
       "   triple  vertical\n",
       "0  383.00     33.00\n",
       "1  781.00     71.10\n",
       "2  561.62     62.25\n",
       "3  624.52     61.33\n",
       "4  446.24     40.19\n",
       "5  515.30     38.96\n",
       "6  449.22     39.69\n",
       "7  560.91     46.51\n",
       "8  519.12     37.68"
      ]
     },
     "execution_count": 12,
     "metadata": {},
     "output_type": "execute_result"
    }
   ],
   "source": [
    "jumps_df = pd.read_csv('triple_vertical.csv')\n",
    "jumps_df.head(9)"
   ]
  },
  {
   "cell_type": "markdown",
   "metadata": {},
   "source": [
    "#### Question 1\n",
    "Before running a regression, it's important to see what the data look like, because our eyes are good at picking out unusual patterns in data.  Draw a scatter plot with the triple jump distances on the horizontal axis and the vertical jump heights on vertical axis **that also shows: (i) the least squares line; and (ii) the least absolute deviations line**.  "
   ]
  },
  {
   "cell_type": "code",
   "execution_count": 23,
   "metadata": {},
   "outputs": [
    {
     "data": {
      "text/plain": [
       "array([ 0.09082004, -0.28371359])"
      ]
     },
     "execution_count": 23,
     "metadata": {},
     "output_type": "execute_result"
    }
   ],
   "source": [
    "# answer to Question 1 here and in additional cells if needed\n",
    "def line_mse(x,y):\n",
    "    if len(x)!=len(y):\n",
    "        raise ValueError('arrays are of different lengths')\n",
    "    def mse(any_slope, any_intercept):\n",
    "        estimate = any_slope*x + any_intercept\n",
    "        return (np.mean((y - estimate) ** 2)) \n",
    "    return minimize(mse) \n",
    "\n",
    "line_mse(jumps_df['triple'], jumps_df['vertical'])\n",
    "\n"
   ]
  },
  {
   "cell_type": "code",
   "execution_count": 24,
   "metadata": {},
   "outputs": [
    {
     "data": {
      "text/plain": [
       "array([ 0.09910922, -4.83302533])"
      ]
     },
     "execution_count": 24,
     "metadata": {},
     "output_type": "execute_result"
    }
   ],
   "source": [
    "def line_mae(x,y):\n",
    "    if len(x)!=len(y):\n",
    "        raise ValueError('arrays are of different lengths')\n",
    "    def mae(any_slope, any_intercept):\n",
    "        estimate = any_slope*x + any_intercept\n",
    "        return (np.mean(abs(y - estimate))) \n",
    "    return minimize(mae) \n",
    "\n",
    "line_mae(jumps_df['triple'], jumps_df['vertical'])\n"
   ]
  },
  {
   "cell_type": "code",
   "execution_count": 22,
   "metadata": {},
   "outputs": [
    {
     "data": {
      "text/plain": [
       "[<matplotlib.lines.Line2D at 0x1a1c9d9198>]"
      ]
     },
     "execution_count": 22,
     "metadata": {},
     "output_type": "execute_result"
    },
    {
     "data": {
      "image/png": "[encoded data removed]",
      "text/plain": [
       "<matplotlib.figure.Figure at 0x1a1c9202b0>"
      ]
     },
     "metadata": {},
     "output_type": "display_data"
    }
   ],
   "source": [
    "plot = jumps_df.plot.scatter('triple', 'vertical')\n",
    "xlims = np.array([350, 800])\n",
    "plots.plot(xlims, 0.09082004 * xlims - 0.28371359, lw=2,color='red') ##least squares\n",
    "plots.plot(xlims, 0.09910922 * xlims - 4.83302533, lw=2,color='green') ##least absolute deviations\n"
   ]
  },
  {
   "cell_type": "markdown",
   "metadata": {},
   "source": [
    "#### Question 2\n",
    "Based on the scatterplot, does the correlation coefficient `r` look closest to 0, .5, or -.5? Explain. "
   ]
  },
  {
   "cell_type": "markdown",
   "metadata": {},
   "source": [
    "It looks closest to 0.5. A correlation coeffecient of 0 indicates there is likely no relationship, yet here, we have a linear line. We know it is positive as the linear relationship appears to be positive where as x increases, so does y."
   ]
  },
  {
   "cell_type": "markdown",
   "metadata": {},
   "source": [
    "#### Question 3\n",
    "Create a function called `regression_parameters`. It takes as its argument a data frame with two columns.  The first column is the x-axis, and the second column is the y-axis.  It should compute the correlation between the two columns, then compute the slope and intercept of the regression line that predicts the second column from the first, in original units (centimeters).  It should return an array with three elements: the correlation coefficient of the two columns, the slope of the regression line, and the intercept of the regression line."
   ]
  },
  {
   "cell_type": "code",
   "execution_count": 37,
   "metadata": {},
   "outputs": [
    {
     "name": "stdout",
     "output_type": "stream",
     "text": [
      "r: 0.8151256059157199 ; slope: 0.09082004246076382 ; intercept: -0.28371358941200886\n"
     ]
    }
   ],
   "source": [
    "def regression_parameters(df):\n",
    "    x = df['triple']\n",
    "    y = df['vertical']\n",
    "    \n",
    "    def mse(any_slope, any_intercept):\n",
    "        estimate = any_slope*x + any_intercept\n",
    "        return (np.mean((y - estimate) ** 2)) \n",
    "    info_array = minimize(mse)\n",
    "    \n",
    "    r = info_array[0] * (np.std(x)/np.std(y))\n",
    "    slope = info_array[0]\n",
    "    intercept = info_array[1]\n",
    "    return make_array(r, slope, intercept)\n",
    "\n",
    "parameters = regression_parameters(jumps_df)\n",
    "print('r:', parameters.item(0), '; slope:', parameters.item(1), '; intercept:', parameters.item(2))"
   ]
  },
  {
   "cell_type": "markdown",
   "metadata": {},
   "source": [
    "#### Question 4\n",
    "Let's use `parameters` to predict what certain athletes' vertical jump heights would be given their triple jump distances.\n",
    "\n",
    "The world record for the triple jump distance is 18.29 *meters* by Johnathan Edwards. What's our prediction for what Edwards' vertical jump would be?"
   ]
  },
  {
   "cell_type": "code",
   "execution_count": 41,
   "metadata": {},
   "outputs": [
    {
     "name": "stdout",
     "output_type": "stream",
     "text": [
      "Predicted vertical jump distance: 166.393571 centimeters\n"
     ]
    }
   ],
   "source": [
    "triple_record_vert_est = (18.29*100*parameters.item(1)) - parameters.item(2)\n",
    "print(\"Predicted vertical jump distance: {:f} centimeters\".format(triple_record_vert_est))"
   ]
  },
  {
   "cell_type": "markdown",
   "metadata": {},
   "source": [
    "#### Question 5\n",
    "Do you expect this estimate to be accurate within a few centimeters? Why or why not?\n"
   ]
  },
  {
   "cell_type": "markdown",
   "metadata": {},
   "source": [
    "I do not expect the estimate to be fairly accurate. Although there is a demonstrated correlation between triple and vertical jumps, evidenced by our decently high r value of 0.815, the world record that we are predicting for is likely outside the data we have. So, it would be an extrapolation to use our regression equation to predict a value outside of what it was calculated for.\n",
    "\n",
    "If we can assume that the relationship and high value remain around the same at extreme values, then the accurate would likely be fairly accurate."
   ]
  },
  {
   "cell_type": "markdown",
   "metadata": {},
   "source": [
    "## 3. Cryptocurrencies (23 points)##\n",
    "\n",
    "Imagine you're an investor in December 2017. Cryptocurrencies, online currencies backed by secure software, are becoming extremely valuable, and you want in on the action!\n",
    "\n",
    "The two most valuable crpytocurrencies are Bitcoin (BTC) and Ethereum (ETH). Each one has a dollar price attatched to it at any given moment in time. For example, on December 1st, 2017, one BTC costs $\\$$10859.56 and one ETH costs $\\$$424.64. \n",
    "\n",
    "**You want to predict the price of ETH at some point in time based on the price of BTC.** \n",
    "\n",
    "There is a larger datset on [Kaggle](https://www.kaggle.com/jessevent/all-crypto-currencies/data) from which we obtained two tables called `btc` and `eth`. Each has 5 columns:\n",
    "* `date`, the date\n",
    "* `open`, the value of the currency at the beginning of the day\n",
    "* `close`, the value of the currency at the end of the day\n",
    "* `market`, the market cap or total dollar value invested in the currency\n",
    "* `day`, the number of days since the start of our data"
   ]
  },
  {
   "cell_type": "code",
   "execution_count": 42,
   "metadata": {
    "scrolled": true
   },
   "outputs": [
    {
     "data": {
      "text/html": [
       "<div>\n",
       "<style scoped>\n",
       "    .dataframe tbody tr th:only-of-type {\n",
       "        vertical-align: middle;\n",
       "    }\n",
       "\n",
       "    .dataframe tbody tr th {\n",
       "        vertical-align: top;\n",
       "    }\n",
       "\n",
       "    .dataframe thead th {\n",
       "        text-align: right;\n",
       "    }\n",
       "</style>\n",
       "<table border=\"1\" class=\"dataframe\">\n",
       "  <thead>\n",
       "    <tr style=\"text-align: right;\">\n",
       "      <th></th>\n",
       "      <th>date</th>\n",
       "      <th>open</th>\n",
       "      <th>close</th>\n",
       "      <th>market</th>\n",
       "      <th>day</th>\n",
       "    </tr>\n",
       "  </thead>\n",
       "  <tbody>\n",
       "    <tr>\n",
       "      <th>0</th>\n",
       "      <td>2015-09-29</td>\n",
       "      <td>239.02</td>\n",
       "      <td>236.69</td>\n",
       "      <td>3505090000</td>\n",
       "      <td>1</td>\n",
       "    </tr>\n",
       "    <tr>\n",
       "      <th>1</th>\n",
       "      <td>2015-09-30</td>\n",
       "      <td>236.64</td>\n",
       "      <td>236.06</td>\n",
       "      <td>3471280000</td>\n",
       "      <td>2</td>\n",
       "    </tr>\n",
       "    <tr>\n",
       "      <th>2</th>\n",
       "      <td>2015-10-01</td>\n",
       "      <td>236.00</td>\n",
       "      <td>237.55</td>\n",
       "      <td>3462800000</td>\n",
       "      <td>3</td>\n",
       "    </tr>\n",
       "    <tr>\n",
       "      <th>3</th>\n",
       "      <td>2015-10-02</td>\n",
       "      <td>237.26</td>\n",
       "      <td>237.29</td>\n",
       "      <td>3482190000</td>\n",
       "      <td>4</td>\n",
       "    </tr>\n",
       "    <tr>\n",
       "      <th>4</th>\n",
       "      <td>2015-10-03</td>\n",
       "      <td>237.20</td>\n",
       "      <td>238.73</td>\n",
       "      <td>3482100000</td>\n",
       "      <td>5</td>\n",
       "    </tr>\n",
       "    <tr>\n",
       "      <th>5</th>\n",
       "      <td>2015-10-04</td>\n",
       "      <td>238.53</td>\n",
       "      <td>238.26</td>\n",
       "      <td>3502460000</td>\n",
       "      <td>6</td>\n",
       "    </tr>\n",
       "    <tr>\n",
       "      <th>6</th>\n",
       "      <td>2015-10-05</td>\n",
       "      <td>238.15</td>\n",
       "      <td>240.38</td>\n",
       "      <td>3497740000</td>\n",
       "      <td>7</td>\n",
       "    </tr>\n",
       "    <tr>\n",
       "      <th>7</th>\n",
       "      <td>2015-10-06</td>\n",
       "      <td>240.36</td>\n",
       "      <td>246.06</td>\n",
       "      <td>3531230000</td>\n",
       "      <td>8</td>\n",
       "    </tr>\n",
       "    <tr>\n",
       "      <th>8</th>\n",
       "      <td>2015-10-07</td>\n",
       "      <td>246.17</td>\n",
       "      <td>242.97</td>\n",
       "      <td>3617400000</td>\n",
       "      <td>9</td>\n",
       "    </tr>\n",
       "    <tr>\n",
       "      <th>9</th>\n",
       "      <td>2015-10-08</td>\n",
       "      <td>243.07</td>\n",
       "      <td>242.30</td>\n",
       "      <td>3572730000</td>\n",
       "      <td>10</td>\n",
       "    </tr>\n",
       "  </tbody>\n",
       "</table>\n",
       "</div>"
      ],
      "text/plain": [
       "         date    open   close      market  day\n",
       "0  2015-09-29  239.02  236.69  3505090000    1\n",
       "1  2015-09-30  236.64  236.06  3471280000    2\n",
       "2  2015-10-01  236.00  237.55  3462800000    3\n",
       "3  2015-10-02  237.26  237.29  3482190000    4\n",
       "4  2015-10-03  237.20  238.73  3482100000    5\n",
       "5  2015-10-04  238.53  238.26  3502460000    6\n",
       "6  2015-10-05  238.15  240.38  3497740000    7\n",
       "7  2015-10-06  240.36  246.06  3531230000    8\n",
       "8  2015-10-07  246.17  242.97  3617400000    9\n",
       "9  2015-10-08  243.07  242.30  3572730000   10"
      ]
     },
     "execution_count": 42,
     "metadata": {},
     "output_type": "execute_result"
    }
   ],
   "source": [
    "btc_df=pd.read_csv('btc.csv')\n",
    "btc_df.head(10)"
   ]
  },
  {
   "cell_type": "code",
   "execution_count": 43,
   "metadata": {},
   "outputs": [
    {
     "data": {
      "text/html": [
       "<div>\n",
       "<style scoped>\n",
       "    .dataframe tbody tr th:only-of-type {\n",
       "        vertical-align: middle;\n",
       "    }\n",
       "\n",
       "    .dataframe tbody tr th {\n",
       "        vertical-align: top;\n",
       "    }\n",
       "\n",
       "    .dataframe thead th {\n",
       "        text-align: right;\n",
       "    }\n",
       "</style>\n",
       "<table border=\"1\" class=\"dataframe\">\n",
       "  <thead>\n",
       "    <tr style=\"text-align: right;\">\n",
       "      <th></th>\n",
       "      <th>date</th>\n",
       "      <th>open</th>\n",
       "      <th>close</th>\n",
       "      <th>market</th>\n",
       "      <th>day</th>\n",
       "    </tr>\n",
       "  </thead>\n",
       "  <tbody>\n",
       "    <tr>\n",
       "      <th>0</th>\n",
       "      <td>2015-09-29</td>\n",
       "      <td>0.579414</td>\n",
       "      <td>0.661146</td>\n",
       "      <td>42607700</td>\n",
       "      <td>1</td>\n",
       "    </tr>\n",
       "    <tr>\n",
       "      <th>1</th>\n",
       "      <td>2015-09-30</td>\n",
       "      <td>0.661192</td>\n",
       "      <td>0.738644</td>\n",
       "      <td>48636600</td>\n",
       "      <td>2</td>\n",
       "    </tr>\n",
       "    <tr>\n",
       "      <th>2</th>\n",
       "      <td>2015-10-01</td>\n",
       "      <td>0.734307</td>\n",
       "      <td>0.690215</td>\n",
       "      <td>54032300</td>\n",
       "      <td>3</td>\n",
       "    </tr>\n",
       "    <tr>\n",
       "      <th>3</th>\n",
       "      <td>2015-10-02</td>\n",
       "      <td>0.683732</td>\n",
       "      <td>0.678574</td>\n",
       "      <td>50328700</td>\n",
       "      <td>4</td>\n",
       "    </tr>\n",
       "    <tr>\n",
       "      <th>4</th>\n",
       "      <td>2015-10-03</td>\n",
       "      <td>0.678783</td>\n",
       "      <td>0.687171</td>\n",
       "      <td>49981900</td>\n",
       "      <td>5</td>\n",
       "    </tr>\n",
       "    <tr>\n",
       "      <th>5</th>\n",
       "      <td>2015-10-04</td>\n",
       "      <td>0.686343</td>\n",
       "      <td>0.668379</td>\n",
       "      <td>50556000</td>\n",
       "      <td>6</td>\n",
       "    </tr>\n",
       "    <tr>\n",
       "      <th>6</th>\n",
       "      <td>2015-10-05</td>\n",
       "      <td>0.666784</td>\n",
       "      <td>0.628643</td>\n",
       "      <td>49131600</td>\n",
       "      <td>7</td>\n",
       "    </tr>\n",
       "    <tr>\n",
       "      <th>7</th>\n",
       "      <td>2015-10-06</td>\n",
       "      <td>0.622218</td>\n",
       "      <td>0.650645</td>\n",
       "      <td>45863300</td>\n",
       "      <td>8</td>\n",
       "    </tr>\n",
       "    <tr>\n",
       "      <th>8</th>\n",
       "      <td>2015-10-07</td>\n",
       "      <td>0.650515</td>\n",
       "      <td>0.609388</td>\n",
       "      <td>47964700</td>\n",
       "      <td>9</td>\n",
       "    </tr>\n",
       "    <tr>\n",
       "      <th>9</th>\n",
       "      <td>2015-10-08</td>\n",
       "      <td>0.609501</td>\n",
       "      <td>0.621716</td>\n",
       "      <td>44955900</td>\n",
       "      <td>10</td>\n",
       "    </tr>\n",
       "  </tbody>\n",
       "</table>\n",
       "</div>"
      ],
      "text/plain": [
       "         date      open     close    market  day\n",
       "0  2015-09-29  0.579414  0.661146  42607700    1\n",
       "1  2015-09-30  0.661192  0.738644  48636600    2\n",
       "2  2015-10-01  0.734307  0.690215  54032300    3\n",
       "3  2015-10-02  0.683732  0.678574  50328700    4\n",
       "4  2015-10-03  0.678783  0.687171  49981900    5\n",
       "5  2015-10-04  0.686343  0.668379  50556000    6\n",
       "6  2015-10-05  0.666784  0.628643  49131600    7\n",
       "7  2015-10-06  0.622218  0.650645  45863300    8\n",
       "8  2015-10-07  0.650515  0.609388  47964700    9\n",
       "9  2015-10-08  0.609501  0.621716  44955900   10"
      ]
     },
     "execution_count": 43,
     "metadata": {},
     "output_type": "execute_result"
    }
   ],
   "source": [
    "eth_df=pd.read_csv('eth.csv')\n",
    "eth_df.head(10)"
   ]
  },
  {
   "cell_type": "markdown",
   "metadata": {},
   "source": [
    "#### Question 1\n",
    "\n",
    "In some of the questions below, we will need to pair the daily 'btc' and 'eth' price data. A simple way is to use the corresponding columns in the two data frames (assuming that they correspond to the same dates). Verify that the rows in the two data frames correspond to the same dates. You can see this for the first 10 observations by looking at the date columns above.\n",
    "\n"
   ]
  },
  {
   "cell_type": "code",
   "execution_count": 74,
   "metadata": {
    "scrolled": true
   },
   "outputs": [
    {
     "name": "stdout",
     "output_type": "stream",
     "text": [
      "all match\n"
     ]
    }
   ],
   "source": [
    "for i in range(len(btc_df)):\n",
    "    if btc_df.iloc[[i]]['date'].all() == eth_df.iloc[[i]]['date'].all():\n",
    "        print('all match')\n",
    "        break\n"
   ]
  },
  {
   "cell_type": "markdown",
   "metadata": {},
   "source": [
    "\n",
    "#### Question 2\n",
    "\n",
    "In the cell below, make one or two plots to investigate the opening prices of BTC and ETH as a function of time. Then comment on whether you think the values are correlated."
   ]
  },
  {
   "cell_type": "code",
   "execution_count": 79,
   "metadata": {},
   "outputs": [
    {
     "data": {
      "text/plain": [
       "<matplotlib.axes._subplots.AxesSubplot at 0x108120fd0>"
      ]
     },
     "execution_count": 79,
     "metadata": {},
     "output_type": "execute_result"
    },
    {
     "data": {
      "image/png": "[encoded data removed]",
      "text/plain": [
       "<matplotlib.figure.Figure at 0x1a1ca13710>"
      ]
     },
     "metadata": {},
     "output_type": "display_data"
    },
    {
     "data": {
      "image/png": "[encoded data removed]",
      "text/plain": [
       "<matplotlib.figure.Figure at 0x1a1cedf748>"
      ]
     },
     "metadata": {},
     "output_type": "display_data"
    }
   ],
   "source": [
    "btc_df.plot.scatter('day', 'open', color='red')\n",
    "eth_df.plot.scatter('day', 'open', color='blue')\n",
    "# xlims = np.array([350, 800])\n",
    "# plots.plot(xlims, 0.09082004 * xlims - 0.28371359, lw=2,color='red') ##least squares\n",
    "# plots.plot(xlims, 0.09910922 * xlims - 4.83302533, lw=2,color='green') ##least absolute deviations"
   ]
  },
  {
   "cell_type": "markdown",
   "metadata": {},
   "source": [
    "The values between time (day) and opening price (open) do seem to be correlated, although not linearly. There appears to be a potential exponential relationship.\n",
    "\n",
    "The values between opening prices for eth and btc do seem to be related as they have a very familiar shape. But, when we look at the graph below, there does not seem to be a clear linear pattern. Perhaps an logarithmic pattern for lower prices but high uncertainty for higher prices."
   ]
  },
  {
   "cell_type": "code",
   "execution_count": 104,
   "metadata": {},
   "outputs": [
    {
     "data": {
      "text/plain": [
       "<matplotlib.collections.PathCollection at 0x1a1d042160>"
      ]
     },
     "execution_count": 104,
     "metadata": {},
     "output_type": "execute_result"
    },
    {
     "data": {
      "image/png": "[encoded data removed]",
      "text/plain": [
       "<matplotlib.figure.Figure at 0x1a1c9eea58>"
      ]
     },
     "metadata": {},
     "output_type": "display_data"
    }
   ],
   "source": [
    "plots.scatter(btc_df['open'], eth_df['open'])\n",
    "\n",
    "# plots.scatter(galton_df['midparentHeight'],galton_df['childHeight'])\n"
   ]
  },
  {
   "cell_type": "markdown",
   "metadata": {},
   "source": [
    "#### Question 3\n",
    "\n",
    "Now, calculate the correlation coefficient between the opening prices of BTC and ETH."
   ]
  },
  {
   "cell_type": "code",
   "execution_count": 98,
   "metadata": {},
   "outputs": [
    {
     "data": {
      "text/plain": [
       "0.9250325762688221"
      ]
     },
     "execution_count": 98,
     "metadata": {},
     "output_type": "execute_result"
    }
   ],
   "source": [
    "x = eth_df['open']\n",
    "y = btc_df['open']\n",
    "\n",
    "def mse(any_slope, any_intercept):\n",
    "    estimate = any_slope*x + any_intercept\n",
    "    return (np.mean((y - estimate) ** 2)) \n",
    "info_array = minimize(mse)\n",
    "\n",
    "r = info_array[0] * (np.std(x)/np.std(y))\n",
    "r\n"
   ]
  },
  {
   "cell_type": "markdown",
   "metadata": {},
   "source": [
    "#### Question 4\n",
    "Regardless of your conclusions above, write a function `eth_predictor` which takes an opening BTC price and predicts the price of ETH. Again, it will be helpful to use the function `regression_parameters` that you defined earlier in this homework."
   ]
  },
  {
   "cell_type": "code",
   "execution_count": 148,
   "metadata": {},
   "outputs": [
    {
     "data": {
      "text/plain": [
       "array([0.92503258, 0.05037151, 2.13844063])"
      ]
     },
     "execution_count": 148,
     "metadata": {},
     "output_type": "execute_result"
    }
   ],
   "source": [
    "def regression_parameters_crypto(eth_df, btc_df):\n",
    "    x = btc_df['open']\n",
    "    y = eth_df['open']\n",
    "    \n",
    "    def mse(any_slope, any_intercept):\n",
    "        estimate = any_slope*x + any_intercept\n",
    "        return (np.mean((y - estimate) ** 2)) \n",
    "    info_array = minimize(mse)\n",
    "    \n",
    "    r = info_array[0] * (np.std(x)/np.std(y))\n",
    "    slope = info_array[0]\n",
    "    intercept = info_array[1]\n",
    "    return make_array(r, slope, intercept)\n",
    "\n",
    "regression_parameters_crypto(eth_df, btc_df)"
   ]
  },
  {
   "cell_type": "code",
   "execution_count": 153,
   "metadata": {},
   "outputs": [
    {
     "data": {
      "text/plain": [
       "505.1384406338634"
      ]
     },
     "execution_count": 153,
     "metadata": {},
     "output_type": "execute_result"
    }
   ],
   "source": [
    "def eth_predictor(btc_price):\n",
    "    parameters = regression_parameters_crypto(eth_df, btc_df)\n",
    "    slope = parameters.item(1)\n",
    "    intercept = parameters.item(2)\n",
    "    return int(btc_price*slope) + intercept\n",
    "\n",
    "eth_predictor(10000)"
   ]
  },
  {
   "cell_type": "markdown",
   "metadata": {},
   "source": [
    "#### Question 5\n",
    "\n",
    "Now, using the `eth_predictor` you defined in the previous question, make a scatter plot with BTC prices along the x-axis and both real and predicted ETH prices along the y-axis. The color of the dots for the real ETH prices should be different from the color for the predicted ETH prices.\n",
    "\n",
    "Hints:\n",
    "* An example of such a scatter plot is generated <a href= \"https://www.inferentialthinking.com/chapters/15/2/regression-line.html\n",
    "\"> here. </a>\n",
    "* Think about the table or data frame that must be produced and used to generate this scatter plot. What data should the columns represent? Based on the data that you need, how many columns should be present? Also, what should each row represent? Constructing the table or data frame will be the main part of this question; once you have this, generating the scatter plot should be straightforward as usual."
   ]
  },
  {
   "cell_type": "code",
   "execution_count": 154,
   "metadata": {},
   "outputs": [
    {
     "data": {
      "text/plain": [
       "[14.138440633863398,\n",
       " 13.138440633863398,\n",
       " 13.138440633863398,\n",
       " 13.138440633863398,\n",
       " 13.138440633863398,\n",
       " 14.138440633863398,\n",
       " 13.138440633863398,\n",
       " 14.138440633863398,\n",
       " 14.138440633863398,\n",
       " 14.138440633863398,\n",
       " 14.138440633863398,\n",
       " 14.138440633863398,\n",
       " 14.138440633863398,\n",
       " 14.138440633863398,\n",
       " 14.138440633863398,\n",
       " 14.138440633863398,\n",
       " 14.138440633863398,\n",
       " 14.138440633863398,\n",
       " 15.138440633863398,\n",
       " 15.138440633863398,\n",
       " 15.138440633863398,\n",
       " 15.138440633863398,\n",
       " 15.138440633863398,\n",
       " 15.138440633863398,\n",
       " 15.138440633863398,\n",
       " 15.138440633863398,\n",
       " 16.138440633863397,\n",
       " 16.138440633863397,\n",
       " 16.138440633863397,\n",
       " 16.138440633863397,\n",
       " 17.138440633863397,\n",
       " 17.138440633863397,\n",
       " 18.138440633863397,\n",
       " 17.138440633863397,\n",
       " 18.138440633863397,\n",
       " 20.138440633863397,\n",
       " 22.138440633863397,\n",
       " 22.138440633863397,\n",
       " 21.138440633863397,\n",
       " 20.138440633863397,\n",
       " 21.138440633863397,\n",
       " 20.138440633863397,\n",
       " 21.138440633863397,\n",
       " 19.138440633863397,\n",
       " 17.138440633863397,\n",
       " 19.138440633863397,\n",
       " 18.138440633863397,\n",
       " 18.138440633863397,\n",
       " 18.138440633863397,\n",
       " 18.138440633863397,\n",
       " 18.138440633863397,\n",
       " 18.138440633863397,\n",
       " 18.138440633863397,\n",
       " 18.138440633863397,\n",
       " 18.138440633863397,\n",
       " 18.138440633863397,\n",
       " 18.138440633863397,\n",
       " 18.138440633863397,\n",
       " 18.138440633863397,\n",
       " 19.138440633863397,\n",
       " 19.138440633863397,\n",
       " 20.138440633863397,\n",
       " 20.138440633863397,\n",
       " 21.138440633863397,\n",
       " 20.138440633863397,\n",
       " 20.138440633863397,\n",
       " 20.138440633863397,\n",
       " 20.138440633863397,\n",
       " 21.138440633863397,\n",
       " 21.138440633863397,\n",
       " 21.138440633863397,\n",
       " 22.138440633863397,\n",
       " 23.138440633863397,\n",
       " 22.138440633863397,\n",
       " 24.138440633863397,\n",
       " 23.138440633863397,\n",
       " 23.138440633863397,\n",
       " 24.138440633863397,\n",
       " 25.138440633863397,\n",
       " 24.138440633863397,\n",
       " 24.138440633863397,\n",
       " 25.138440633863397,\n",
       " 25.138440633863397,\n",
       " 24.138440633863397,\n",
       " 24.138440633863397,\n",
       " 23.138440633863397,\n",
       " 24.138440633863397,\n",
       " 24.138440633863397,\n",
       " 24.138440633863397,\n",
       " 22.138440633863397,\n",
       " 23.138440633863397,\n",
       " 23.138440633863397,\n",
       " 23.138440633863397,\n",
       " 23.138440633863397,\n",
       " 23.138440633863397,\n",
       " 23.138440633863397,\n",
       " 23.138440633863397,\n",
       " 23.138440633863397,\n",
       " 23.138440633863397,\n",
       " 23.138440633863397,\n",
       " 23.138440633863397,\n",
       " 25.138440633863397,\n",
       " 24.138440633863397,\n",
       " 24.138440633863397,\n",
       " 24.138440633863397,\n",
       " 24.138440633863397,\n",
       " 23.138440633863397,\n",
       " 23.138440633863397,\n",
       " 23.138440633863397,\n",
       " 20.138440633863397,\n",
       " 21.138440633863397,\n",
       " 21.138440633863397,\n",
       " 21.138440633863397,\n",
       " 21.138440633863397,\n",
       " 23.138440633863397,\n",
       " 22.138440633863397,\n",
       " 21.138440633863397,\n",
       " 21.138440633863397,\n",
       " 22.138440633863397,\n",
       " 21.138440633863397,\n",
       " 21.138440633863397,\n",
       " 21.138440633863397,\n",
       " 21.138440633863397,\n",
       " 21.138440633863397,\n",
       " 21.138440633863397,\n",
       " 20.138440633863397,\n",
       " 20.138440633863397,\n",
       " 20.138440633863397,\n",
       " 20.138440633863397,\n",
       " 21.138440633863397,\n",
       " 21.138440633863397,\n",
       " 20.138440633863397,\n",
       " 20.138440633863397,\n",
       " 20.138440633863397,\n",
       " 20.138440633863397,\n",
       " 21.138440633863397,\n",
       " 21.138440633863397,\n",
       " 21.138440633863397,\n",
       " 21.138440633863397,\n",
       " 22.138440633863397,\n",
       " 22.138440633863397,\n",
       " 22.138440633863397,\n",
       " 22.138440633863397,\n",
       " 23.138440633863397,\n",
       " 23.138440633863397,\n",
       " 24.138440633863397,\n",
       " 24.138440633863397,\n",
       " 24.138440633863397,\n",
       " 23.138440633863397,\n",
       " 23.138440633863397,\n",
       " 23.138440633863397,\n",
       " 23.138440633863397,\n",
       " 23.138440633863397,\n",
       " 23.138440633863397,\n",
       " 24.138440633863397,\n",
       " 23.138440633863397,\n",
       " 23.138440633863397,\n",
       " 23.138440633863397,\n",
       " 22.138440633863397,\n",
       " 22.138440633863397,\n",
       " 22.138440633863397,\n",
       " 22.138440633863397,\n",
       " 22.138440633863397,\n",
       " 22.138440633863397,\n",
       " 23.138440633863397,\n",
       " 23.138440633863397,\n",
       " 22.138440633863397,\n",
       " 22.138440633863397,\n",
       " 22.138440633863397,\n",
       " 22.138440633863397,\n",
       " 23.138440633863397,\n",
       " 23.138440633863397,\n",
       " 22.138440633863397,\n",
       " 22.138440633863397,\n",
       " 22.138440633863397,\n",
       " 22.138440633863397,\n",
       " 23.138440633863397,\n",
       " 23.138440633863397,\n",
       " 22.138440633863397,\n",
       " 23.138440633863397,\n",
       " 23.138440633863397,\n",
       " 23.138440633863397,\n",
       " 23.138440633863397,\n",
       " 22.138440633863397,\n",
       " 22.138440633863397,\n",
       " 22.138440633863397,\n",
       " 23.138440633863397,\n",
       " 23.138440633863397,\n",
       " 23.138440633863397,\n",
       " 23.138440633863397,\n",
       " 23.138440633863397,\n",
       " 23.138440633863397,\n",
       " 23.138440633863397,\n",
       " 23.138440633863397,\n",
       " 23.138440633863397,\n",
       " 23.138440633863397,\n",
       " 23.138440633863397,\n",
       " 23.138440633863397,\n",
       " 23.138440633863397,\n",
       " 23.138440633863397,\n",
       " 23.138440633863397,\n",
       " 23.138440633863397,\n",
       " 23.138440633863397,\n",
       " 23.138440633863397,\n",
       " 23.138440633863397,\n",
       " 24.138440633863397,\n",
       " 24.138440633863397,\n",
       " 24.138440633863397,\n",
       " 24.138440633863397,\n",
       " 25.138440633863397,\n",
       " 25.138440633863397,\n",
       " 25.138440633863397,\n",
       " 24.138440633863397,\n",
       " 24.138440633863397,\n",
       " 24.138440633863397,\n",
       " 24.138440633863397,\n",
       " 24.138440633863397,\n",
       " 24.138440633863397,\n",
       " 24.138440633863397,\n",
       " 24.138440633863397,\n",
       " 24.138440633863397,\n",
       " 25.138440633863397,\n",
       " 25.138440633863397,\n",
       " 25.138440633863397,\n",
       " 25.138440633863397,\n",
       " 24.138440633863397,\n",
       " 24.138440633863397,\n",
       " 24.138440633863397,\n",
       " 24.138440633863397,\n",
       " 24.138440633863397,\n",
       " 25.138440633863397,\n",
       " 24.138440633863397,\n",
       " 24.138440633863397,\n",
       " 24.138440633863397,\n",
       " 24.138440633863397,\n",
       " 24.138440633863397,\n",
       " 24.138440633863397,\n",
       " 24.138440633863397,\n",
       " 24.138440633863397,\n",
       " 24.138440633863397,\n",
       " 24.138440633863397,\n",
       " 24.138440633863397,\n",
       " 25.138440633863397,\n",
       " 28.138440633863397,\n",
       " 28.138440633863397,\n",
       " 28.138440633863397,\n",
       " 28.138440633863397,\n",
       " 29.138440633863397,\n",
       " 29.138440633863397,\n",
       " 30.138440633863397,\n",
       " 30.138440633863397,\n",
       " 30.138440633863397,\n",
       " 31.138440633863397,\n",
       " 31.138440633863397,\n",
       " 31.138440633863397,\n",
       " 31.138440633863397,\n",
       " 31.138440633863397,\n",
       " 32.1384406338634,\n",
       " 35.1384406338634,\n",
       " 37.1384406338634,\n",
       " 36.1384406338634,\n",
       " 37.1384406338634,\n",
       " 40.1384406338634,\n",
       " 39.1384406338634,\n",
       " 40.1384406338634,\n",
       " 40.1384406338634,\n",
       " 39.1384406338634,\n",
       " 35.1384406338634,\n",
       " 32.1384406338634,\n",
       " 33.1384406338634,\n",
       " 35.1384406338634,\n",
       " 35.1384406338634,\n",
       " 33.1384406338634,\n",
       " 35.1384406338634,\n",
       " 34.1384406338634,\n",
       " 34.1384406338634,\n",
       " 35.1384406338634,\n",
       " 36.1384406338634,\n",
       " 37.1384406338634,\n",
       " 35.1384406338634,\n",
       " 36.1384406338634,\n",
       " 35.1384406338634,\n",
       " 36.1384406338634,\n",
       " 34.1384406338634,\n",
       " 35.1384406338634,\n",
       " 34.1384406338634,\n",
       " 34.1384406338634,\n",
       " 34.1384406338634,\n",
       " 35.1384406338634,\n",
       " 34.1384406338634,\n",
       " 35.1384406338634,\n",
       " 35.1384406338634,\n",
       " 35.1384406338634,\n",
       " 36.1384406338634,\n",
       " 35.1384406338634,\n",
       " 35.1384406338634,\n",
       " 35.1384406338634,\n",
       " 35.1384406338634,\n",
       " 34.1384406338634,\n",
       " 35.1384406338634,\n",
       " 35.1384406338634,\n",
       " 34.1384406338634,\n",
       " 34.1384406338634,\n",
       " 34.1384406338634,\n",
       " 34.1384406338634,\n",
       " 35.1384406338634,\n",
       " 34.1384406338634,\n",
       " 33.1384406338634,\n",
       " 32.1384406338634,\n",
       " 29.138440633863397,\n",
       " 30.138440633863397,\n",
       " 31.138440633863397,\n",
       " 30.138440633863397,\n",
       " 31.138440633863397,\n",
       " 31.138440633863397,\n",
       " 31.138440633863397,\n",
       " 31.138440633863397,\n",
       " 31.138440633863397,\n",
       " 31.138440633863397,\n",
       " 31.138440633863397,\n",
       " 31.138440633863397,\n",
       " 30.138440633863397,\n",
       " 30.138440633863397,\n",
       " 31.138440633863397,\n",
       " 30.138440633863397,\n",
       " 30.138440633863397,\n",
       " 31.138440633863397,\n",
       " 31.138440633863397,\n",
       " 31.138440633863397,\n",
       " 31.138440633863397,\n",
       " 31.138440633863397,\n",
       " 31.138440633863397,\n",
       " 31.138440633863397,\n",
       " 31.138440633863397,\n",
       " 30.138440633863397,\n",
       " 30.138440633863397,\n",
       " 30.138440633863397,\n",
       " 31.138440633863397,\n",
       " 30.138440633863397,\n",
       " 30.138440633863397,\n",
       " 30.138440633863397,\n",
       " 32.1384406338634,\n",
       " 32.1384406338634,\n",
       " 32.1384406338634,\n",
       " 32.1384406338634,\n",
       " 32.1384406338634,\n",
       " 33.1384406338634,\n",
       " 33.1384406338634,\n",
       " 33.1384406338634,\n",
       " 32.1384406338634,\n",
       " 32.1384406338634,\n",
       " 32.1384406338634,\n",
       " 32.1384406338634,\n",
       " 32.1384406338634,\n",
       " 32.1384406338634,\n",
       " 32.1384406338634,\n",
       " 32.1384406338634,\n",
       " 32.1384406338634,\n",
       " 32.1384406338634,\n",
       " 32.1384406338634,\n",
       " 32.1384406338634,\n",
       " 32.1384406338634,\n",
       " 32.1384406338634,\n",
       " 32.1384406338634,\n",
       " 32.1384406338634,\n",
       " 32.1384406338634,\n",
       " 32.1384406338634,\n",
       " 32.1384406338634,\n",
       " 32.1384406338634,\n",
       " 32.1384406338634,\n",
       " 32.1384406338634,\n",
       " 32.1384406338634,\n",
       " 32.1384406338634,\n",
       " 32.1384406338634,\n",
       " 32.1384406338634,\n",
       " 33.1384406338634,\n",
       " 33.1384406338634,\n",
       " 33.1384406338634,\n",
       " 33.1384406338634,\n",
       " 34.1384406338634,\n",
       " 34.1384406338634,\n",
       " 34.1384406338634,\n",
       " 34.1384406338634,\n",
       " 34.1384406338634,\n",
       " 34.1384406338634,\n",
       " 34.1384406338634,\n",
       " 34.1384406338634,\n",
       " 33.1384406338634,\n",
       " 33.1384406338634,\n",
       " 33.1384406338634,\n",
       " 35.1384406338634,\n",
       " 35.1384406338634,\n",
       " 34.1384406338634,\n",
       " 35.1384406338634,\n",
       " 36.1384406338634,\n",
       " 36.1384406338634,\n",
       " 36.1384406338634,\n",
       " 37.1384406338634,\n",
       " 37.1384406338634,\n",
       " 37.1384406338634,\n",
       " 38.1384406338634,\n",
       " 39.1384406338634,\n",
       " 36.1384406338634,\n",
       " 37.1384406338634,\n",
       " 37.1384406338634,\n",
       " 37.1384406338634,\n",
       " 37.1384406338634,\n",
       " 37.1384406338634,\n",
       " 38.1384406338634,\n",
       " 38.1384406338634,\n",
       " 38.1384406338634,\n",
       " 37.1384406338634,\n",
       " 37.1384406338634,\n",
       " 37.1384406338634,\n",
       " 37.1384406338634,\n",
       " 39.1384406338634,\n",
       " 39.1384406338634,\n",
       " 39.1384406338634,\n",
       " 39.1384406338634,\n",
       " 38.1384406338634,\n",
       " 39.1384406338634,\n",
       " 39.1384406338634,\n",
       " 39.1384406338634,\n",
       " 39.1384406338634,\n",
       " 39.1384406338634,\n",
       " 39.1384406338634,\n",
       " 38.1384406338634,\n",
       " 39.1384406338634,\n",
       " 39.1384406338634,\n",
       " 39.1384406338634,\n",
       " 40.1384406338634,\n",
       " 41.1384406338634,\n",
       " 40.1384406338634,\n",
       " 40.1384406338634,\n",
       " 40.1384406338634,\n",
       " 40.1384406338634,\n",
       " 40.1384406338634,\n",
       " 40.1384406338634,\n",
       " 40.1384406338634,\n",
       " 41.1384406338634,\n",
       " 40.1384406338634,\n",
       " 41.1384406338634,\n",
       " 41.1384406338634,\n",
       " 41.1384406338634,\n",
       " 41.1384406338634,\n",
       " 41.1384406338634,\n",
       " 41.1384406338634,\n",
       " 41.1384406338634,\n",
       " 41.1384406338634,\n",
       " 42.1384406338634,\n",
       " 44.1384406338634,\n",
       " 45.1384406338634,\n",
       " 48.1384406338634,\n",
       " 47.1384406338634,\n",
       " 47.1384406338634,\n",
       " 47.1384406338634,\n",
       " 49.1384406338634,\n",
       " 51.1384406338634,\n",
       " 50.1384406338634,\n",
       " 50.1384406338634,\n",
       " 50.1384406338634,\n",
       " 52.1384406338634,\n",
       " 53.1384406338634,\n",
       " 54.1384406338634,\n",
       " 60.1384406338634,\n",
       " 53.1384406338634,\n",
       " 47.1384406338634,\n",
       " 47.1384406338634,\n",
       " 48.1384406338634,\n",
       " 47.1384406338634,\n",
       " 47.1384406338634,\n",
       " 41.1384406338634,\n",
       " 42.1384406338634,\n",
       " 43.1384406338634,\n",
       " 43.1384406338634,\n",
       " 43.1384406338634,\n",
       " 43.1384406338634,\n",
       " 47.1384406338634,\n",
       " 46.1384406338634,\n",
       " 47.1384406338634,\n",
       " 47.1384406338634,\n",
       " 48.1384406338634,\n",
       " 48.1384406338634,\n",
       " 47.1384406338634,\n",
       " 46.1384406338634,\n",
       " 47.1384406338634,\n",
       " 48.1384406338634,\n",
       " 48.1384406338634,\n",
       " 48.1384406338634,\n",
       " 48.1384406338634,\n",
       " 48.1384406338634,\n",
       " 50.1384406338634,\n",
       " 51.1384406338634,\n",
       " 52.1384406338634,\n",
       " 53.1384406338634,\n",
       " 54.1384406338634,\n",
       " 53.1384406338634,\n",
       " 54.1384406338634,\n",
       " 55.1384406338634,\n",
       " 55.1384406338634,\n",
       " 52.1384406338634,\n",
       " 51.1384406338634,\n",
       " 52.1384406338634,\n",
       " 52.1384406338634,\n",
       " 51.1384406338634,\n",
       " 52.1384406338634,\n",
       " 52.1384406338634,\n",
       " 53.1384406338634,\n",
       " 54.1384406338634,\n",
       " 55.1384406338634,\n",
       " 54.1384406338634,\n",
       " 56.1384406338634,\n",
       " 58.1384406338634,\n",
       " 58.1384406338634,\n",
       " 61.1384406338634,\n",
       " 60.1384406338634,\n",
       " 59.1384406338634,\n",
       " 60.1384406338634,\n",
       " 61.1384406338634,\n",
       " 61.1384406338634,\n",
       " 63.1384406338634,\n",
       " 65.1384406338634,\n",
       " 66.1384406338634,\n",
       " 65.1384406338634,\n",
       " 65.1384406338634,\n",
       " 66.1384406338634,\n",
       " 63.1384406338634,\n",
       " 59.1384406338634,\n",
       " 61.1384406338634,\n",
       " 58.1384406338634,\n",
       " 61.1384406338634,\n",
       " 63.1384406338634,\n",
       " 64.1384406338634,\n",
       " 64.1384406338634,\n",
       " 65.1384406338634,\n",
       " 61.1384406338634,\n",
       " 57.1384406338634,\n",
       " 51.1384406338634,\n",
       " 54.1384406338634,\n",
       " 55.1384406338634,\n",
       " 58.1384406338634,\n",
       " 54.1384406338634,\n",
       " 54.1384406338634,\n",
       " 49.1384406338634,\n",
       " 51.1384406338634,\n",
       " 50.1384406338634,\n",
       " 54.1384406338634,\n",
       " 54.1384406338634,\n",
       " 54.1384406338634,\n",
       " 53.1384406338634,\n",
       " 55.1384406338634,\n",
       " 56.1384406338634,\n",
       " 57.1384406338634,\n",
       " 59.1384406338634,\n",
       " 59.1384406338634,\n",
       " 58.1384406338634,\n",
       " 61.1384406338634,\n",
       " 61.1384406338634,\n",
       " 61.1384406338634,\n",
       " 61.1384406338634,\n",
       " 61.1384406338634,\n",
       " 62.1384406338634,\n",
       " 62.1384406338634,\n",
       " 60.1384406338634,\n",
       " 60.1384406338634,\n",
       " 61.1384406338634,\n",
       " 61.1384406338634,\n",
       " 62.1384406338634,\n",
       " 63.1384406338634,\n",
       " 63.1384406338634,\n",
       " 63.1384406338634,\n",
       " 63.1384406338634,\n",
       " 64.1384406338634,\n",
       " 62.1384406338634,\n",
       " 64.1384406338634,\n",
       " 65.1384406338634,\n",
       " 66.1384406338634,\n",
       " 68.1384406338634,\n",
       " 68.1384406338634,\n",
       " 68.1384406338634,\n",
       " 69.1384406338634,\n",
       " 73.1384406338634,\n",
       " 75.1384406338634,\n",
       " 77.1384406338634,\n",
       " 79.1384406338634,\n",
       " 80.1384406338634,\n",
       " 81.1384406338634,\n",
       " 82.1384406338634,\n",
       " 88.1384406338634,\n",
       " 90.1384406338634,\n",
       " 91.1384406338634,\n",
       " 94.1384406338634,\n",
       " 88.1384406338634,\n",
       " 92.1384406338634,\n",
       " 93.1384406338634,\n",
       " 89.1384406338634,\n",
       " 88.1384406338634,\n",
       " 93.1384406338634,\n",
       " 97.1384406338634,\n",
       " 101.1384406338634,\n",
       " 106.1384406338634,\n",
       " 104.1384406338634,\n",
       " 112.1384406338634,\n",
       " 118.1384406338634,\n",
       " 125.1384406338634,\n",
       " 118.1384406338634,\n",
       " 112.1384406338634,\n",
       " 105.1384406338634,\n",
       " 110.1384406338634,\n",
       " 115.1384406338634,\n",
       " 112.1384406338634,\n",
       " 117.1384406338634,\n",
       " 123.1384406338634,\n",
       " 127.1384406338634,\n",
       " 130.1384406338634,\n",
       " 128.1384406338634,\n",
       " 137.1384406338634,\n",
       " 146.1384406338634,\n",
       " 139.1384406338634,\n",
       " 143.1384406338634,\n",
       " 144.1384406338634,\n",
       " 150.1384406338634,\n",
       " 150.1384406338634,\n",
       " 137.1384406338634,\n",
       " 138.1384406338634,\n",
       " 127.1384406338634,\n",
       " 126.1384406338634,\n",
       " 128.1384406338634,\n",
       " 135.1384406338634,\n",
       " 130.1384406338634,\n",
       " 132.1384406338634,\n",
       " 138.1384406338634,\n",
       " 137.1384406338634,\n",
       " 138.1384406338634,\n",
       " 139.1384406338634,\n",
       " 133.1384406338634,\n",
       " 132.1384406338634,\n",
       " 126.1384406338634,\n",
       " 130.1384406338634,\n",
       " 131.1384406338634,\n",
       " 129.1384406338634,\n",
       " 127.1384406338634,\n",
       " 124.1384406338634,\n",
       " 127.1384406338634,\n",
       " 131.1384406338634,\n",
       " 133.1384406338634,\n",
       " 133.1384406338634,\n",
       " 133.1384406338634,\n",
       " 128.1384406338634,\n",
       " 131.1384406338634,\n",
       " 129.1384406338634,\n",
       " 122.1384406338634,\n",
       " 119.1384406338634,\n",
       " 123.1384406338634,\n",
       " 120.1384406338634,\n",
       " 114.1384406338634,\n",
       " 102.1384406338634,\n",
       " 99.1384406338634,\n",
       " 114.1384406338634,\n",
       " 119.1384406338634,\n",
       " 116.1384406338634,\n",
       " 144.1384406338634,\n",
       " 136.1384406338634,\n",
       " 143.1384406338634,\n",
       " 139.1384406338634,\n",
       " 140.1384406338634,\n",
       " 131.1384406338634,\n",
       " 129.1384406338634,\n",
       " 136.1384406338634,\n",
       " 143.1384406338634,\n",
       " 139.1384406338634,\n",
       " 141.1384406338634,\n",
       " 146.1384406338634,\n",
       " 139.1384406338634,\n",
       " 138.1384406338634,\n",
       " 143.1384406338634,\n",
       " 147.1384406338634,\n",
       " 166.1384406338634,\n",
       " 163.1384406338634,\n",
       " 171.1384406338634,\n",
       " 174.1384406338634,\n",
       " 170.1384406338634,\n",
       " 171.1384406338634,\n",
       " 185.1384406338634,\n",
       " 197.1384406338634,\n",
       " 206.1384406338634,\n",
       " 219.1384406338634,\n",
       " 213.1384406338634,\n",
       " 222.1384406338634,\n",
       " 219.1384406338634,\n",
       " 210.1384406338634,\n",
       " 213.1384406338634,\n",
       " 208.1384406338634,\n",
       " 203.1384406338634,\n",
       " 207.1384406338634,\n",
       " 210.1384406338634,\n",
       " 220.1384406338634,\n",
       " 222.1384406338634,\n",
       " 220.1384406338634,\n",
       " 222.1384406338634,\n",
       " 223.1384406338634,\n",
       " 232.1384406338634,\n",
       " 231.1384406338634,\n",
       " 238.1384406338634,\n",
       " 248.1384406338634,\n",
       " 232.1384406338634,\n",
       " 233.1384406338634,\n",
       " 214.1384406338634,\n",
       " 222.1384406338634,\n",
       " 233.1384406338634,\n",
       " 233.1384406338634,\n",
       " 215.1384406338634,\n",
       " 215.1384406338634,\n",
       " 209.1384406338634,\n",
       " 211.1384406338634,\n",
       " 210.1384406338634,\n",
       " 197.1384406338634,\n",
       " 161.1384406338634,\n",
       " 185.1384406338634,\n",
       " 183.1384406338634,\n",
       " 182.1384406338634,\n",
       " 207.1384406338634,\n",
       " 199.1384406338634,\n",
       " 198.1384406338634,\n",
       " 184.1384406338634,\n",
       " 184.1384406338634,\n",
       " 193.1384406338634,\n",
       " 187.1384406338634,\n",
       " 199.1384406338634,\n",
       " 198.1384406338634,\n",
       " 213.1384406338634,\n",
       " 212.1384406338634,\n",
       " 211.1384406338634,\n",
       " 220.1384406338634,\n",
       " 223.1384406338634,\n",
       " 224.1384406338634,\n",
       " 219.1384406338634,\n",
       " 215.1384406338634,\n",
       " 219.1384406338634,\n",
       " 222.1384406338634,\n",
       " 225.1384406338634,\n",
       " 234.1384406338634,\n",
       " 242.1384406338634,\n",
       " 243.1384406338634,\n",
       " 245.1384406338634,\n",
       " 277.1384406338634,\n",
       " 286.1384406338634,\n",
       " 295.1384406338634,\n",
       " 288.1384406338634,\n",
       " 291.1384406338634,\n",
       " 284.1384406338634,\n",
       " 283.1384406338634,\n",
       " 289.1384406338634,\n",
       " 304.1384406338634,\n",
       " 306.1384406338634,\n",
       " 304.1384406338634,\n",
       " 300.1384406338634,\n",
       " 280.1384406338634,\n",
       " 291.1384406338634,\n",
       " 299.1384406338634,\n",
       " 293.1384406338634,\n",
       " 291.1384406338634,\n",
       " 310.1384406338634,\n",
       " 310.1384406338634,\n",
       " 326.1384406338634,\n",
       " 343.1384406338634,\n",
       " 359.1384406338634,\n",
       " 362.1384406338634,\n",
       " 374.1384406338634,\n",
       " 374.1384406338634,\n",
       " 355.1384406338634,\n",
       " 361.1384406338634,\n",
       " 377.1384406338634,\n",
       " 363.1384406338634,\n",
       " 335.1384406338634,\n",
       " 319.1384406338634,\n",
       " 301.1384406338634,\n",
       " 332.1384406338634,\n",
       " 336.1384406338634,\n",
       " 370.1384406338634,\n",
       " 397.1384406338634,\n",
       " 389.1384406338634,\n",
       " 393.1384406338634,\n",
       " 406.1384406338634,\n",
       " 415.1384406338634,\n",
       " 408.1384406338634,\n",
       " 416.1384406338634,\n",
       " 408.1384406338634,\n",
       " 417.1384406338634,\n",
       " 444.1384406338634,\n",
       " 473.1384406338634,\n",
       " 496.1384406338634,\n",
       " 509.1384406338634,\n",
       " 501.1384406338634,\n",
       " 515.1384406338634,\n",
       " 554.1384406338634,\n",
       " 560.1384406338634,\n",
       " 571.1384406338634,\n",
       " 590.1384406338634,\n",
       " 602.1384406338634,\n",
       " 720.1384406338634,\n",
       " 898.1384406338634,\n",
       " 834.1384406338634,\n",
       " 766.1384406338634,\n",
       " 779.1384406338634,\n",
       " 854.1384406338634,\n",
       " 883.1384406338634,\n",
       " 827.1384406338634,\n",
       " 838.1384406338634,\n",
       " 896.1384406338634,\n",
       " 983.1384406338634,\n",
       " 964.1384406338634,\n",
       " 965.1384406338634,\n",
       " 896.1384406338634,\n",
       " 840.1384406338634,\n",
       " 802.1384406338634,\n",
       " 704.1384406338634,\n",
       " 737.1384406338634,\n",
       " 706.1384406338634,\n",
       " 709.1384406338634,\n",
       " 816.1384406338634,\n",
       " 801.1384406338634,\n",
       " 742.1384406338634,\n",
       " 741.1384406338634,\n",
       " 651.1384406338634,\n",
       " 712.1384406338634,\n",
       " 688.1384406338634,\n",
       " 756.1384406338634,\n",
       " 771.1384406338634,\n",
       " 781.1384406338634,\n",
       " 881.1384406338634,\n",
       " 884.1384406338634,\n",
       " 831.1384406338634,\n",
       " 763.1384406338634,\n",
       " 736.1384406338634]"
      ]
     },
     "execution_count": 154,
     "metadata": {},
     "output_type": "execute_result"
    }
   ],
   "source": [
    "# btc_orig, eth_orig, eth_pred\n",
    "preds = []\n",
    "\n",
    "for e in btc_df['open']:\n",
    "    preds.append(eth_predictor(e))\n",
    "preds\n"
   ]
  },
  {
   "cell_type": "code",
   "execution_count": 155,
   "metadata": {},
   "outputs": [
    {
     "data": {
      "text/html": [
       "<div>\n",
       "<style scoped>\n",
       "    .dataframe tbody tr th:only-of-type {\n",
       "        vertical-align: middle;\n",
       "    }\n",
       "\n",
       "    .dataframe tbody tr th {\n",
       "        vertical-align: top;\n",
       "    }\n",
       "\n",
       "    .dataframe thead th {\n",
       "        text-align: right;\n",
       "    }\n",
       "</style>\n",
       "<table border=\"1\" class=\"dataframe\">\n",
       "  <thead>\n",
       "    <tr style=\"text-align: right;\">\n",
       "      <th></th>\n",
       "      <th>btc original</th>\n",
       "      <th>eth original</th>\n",
       "      <th>eth prediction</th>\n",
       "    </tr>\n",
       "  </thead>\n",
       "  <tbody>\n",
       "    <tr>\n",
       "      <th>0</th>\n",
       "      <td>239.02</td>\n",
       "      <td>0.579414</td>\n",
       "      <td>14.138441</td>\n",
       "    </tr>\n",
       "    <tr>\n",
       "      <th>1</th>\n",
       "      <td>236.64</td>\n",
       "      <td>0.661192</td>\n",
       "      <td>13.138441</td>\n",
       "    </tr>\n",
       "    <tr>\n",
       "      <th>2</th>\n",
       "      <td>236.00</td>\n",
       "      <td>0.734307</td>\n",
       "      <td>13.138441</td>\n",
       "    </tr>\n",
       "    <tr>\n",
       "      <th>3</th>\n",
       "      <td>237.26</td>\n",
       "      <td>0.683732</td>\n",
       "      <td>13.138441</td>\n",
       "    </tr>\n",
       "    <tr>\n",
       "      <th>4</th>\n",
       "      <td>237.20</td>\n",
       "      <td>0.678783</td>\n",
       "      <td>13.138441</td>\n",
       "    </tr>\n",
       "  </tbody>\n",
       "</table>\n",
       "</div>"
      ],
      "text/plain": [
       "   btc original  eth original  eth prediction\n",
       "0        239.02      0.579414       14.138441\n",
       "1        236.64      0.661192       13.138441\n",
       "2        236.00      0.734307       13.138441\n",
       "3        237.26      0.683732       13.138441\n",
       "4        237.20      0.678783       13.138441"
      ]
     },
     "execution_count": 155,
     "metadata": {},
     "output_type": "execute_result"
    }
   ],
   "source": [
    "df = pd.DataFrame()\n",
    "\n",
    "df['btc original'] = btc_df['open']\n",
    "df['eth original'] = eth_df['open']\n",
    "df['eth prediction'] = preds\n",
    "\n",
    "df.head()"
   ]
  },
  {
   "cell_type": "code",
   "execution_count": 156,
   "metadata": {},
   "outputs": [
    {
     "data": {
      "image/png": "[encoded data removed]",
      "text/plain": [
       "<matplotlib.figure.Figure at 0x1a1c9cf4e0>"
      ]
     },
     "metadata": {},
     "output_type": "display_data"
    }
   ],
   "source": [
    "plotinfo = Table.from_df(df)\n",
    "plotinfo.scatter('btc original')\n"
   ]
  },
  {
   "cell_type": "markdown",
   "metadata": {},
   "source": [
    "#### Question 6\n",
    "For what values of BTC should you be more confident of your predictions? Considering the shape of the scatter plot of the true data, is the model we used reasonable? If so, what features make this model reasonable? If not, what features make it unreasonable?"
   ]
  },
  {
   "cell_type": "markdown",
   "metadata": {},
   "source": [
    "You can be more confident of your predictions for lower levels of btc, under 2,500 approximately. The model we used is not reasonable because the shape of the scatter plot of the true data is not linear, and we tried to fit a linear model to it."
   ]
  },
  {
   "cell_type": "markdown",
   "metadata": {},
   "source": [
    "#### Question 7\n",
    "\n",
    "Now suppose you want to go the other way: to predict a BTC  price given an ETH price. What would the regression parameters of this linear model be? How do they compare to the regression parameters from the model where you were predicting ETH price given a BTC price? Set `regression_changes` to an array of 3 elements, with each element corresponding to whether or not the corresponding item returned by `regression_parameters` changes when switching BTC and ETH as $x$ and $y$. For example, if r changes, the slope changes, but the intercept wouldn't change, the array would be `[True, True, False]`"
   ]
  },
  {
   "cell_type": "code",
   "execution_count": 157,
   "metadata": {},
   "outputs": [
    {
     "data": {
      "text/plain": [
       "[False, True, True]"
      ]
     },
     "execution_count": 157,
     "metadata": {},
     "output_type": "execute_result"
    }
   ],
   "source": [
    "regression_changes = [False, True, True]\n",
    "regression_changes"
   ]
  },
  {
   "cell_type": "code",
   "execution_count": null,
   "metadata": {},
   "outputs": [],
   "source": []
  }
 ],
 "metadata": {
  "kernelspec": {
   "display_name": "Python 3",
   "language": "python",
   "name": "python3"
  },
  "language_info": {
   "codemirror_mode": {
    "name": "ipython",
    "version": 3
   },
   "file_extension": ".py",
   "mimetype": "text/x-python",
   "name": "python",
   "nbconvert_exporter": "python",
   "pygments_lexer": "ipython3",
   "version": "3.6.4"
  }
 },
 "nbformat": 4,
 "nbformat_minor": 2
}
