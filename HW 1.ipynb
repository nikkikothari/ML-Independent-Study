{
 "cells": [
  {
   "cell_type": "code",
   "execution_count": null,
   "metadata": {},
   "outputs": [],
   "source": [
    "#HW1: \n",
    "# Ch 2 problems 8,9,10 ISL 54-57\n",
    "# Ch 3 problems 3, 9, 14"
   ]
  },
  {
   "cell_type": "code",
   "execution_count": null,
   "metadata": {},
   "outputs": [],
   "source": [
    "import pandas as pd\n",
    "import numpy as np\n",
    "import statsmodels.api as sm\n",
    "\n",
    "from matplotlib import pyplot as plt\n",
    "plt.style.use('ggplot') ##so the graphs look like those in R!\n",
    "from pandas.tools.plotting import scatter_matrix\n",
    "from mpl_toolkits.mplot3d import Axes3D\n",
    "from statsmodels.stats.outliers_influence import OLSInfluence\n"
   ]
  },
  {
   "cell_type": "markdown",
   "metadata": {},
   "source": [
    "# 8 College Dataset"
   ]
  },
  {
   "cell_type": "code",
   "execution_count": null,
   "metadata": {},
   "outputs": [],
   "source": [
    "## 8a\n",
    "college = pd.read_csv('college')"
   ]
  },
  {
   "cell_type": "code",
   "execution_count": null,
   "metadata": {},
   "outputs": [],
   "source": [
    "##8b\n",
    "\n",
    "college.head()"
   ]
  },
  {
   "cell_type": "code",
   "execution_count": null,
   "metadata": {},
   "outputs": [],
   "source": [
    "college = college.set_index('Unnamed: 0') ##makes the indices names"
   ]
  },
  {
   "cell_type": "code",
   "execution_count": null,
   "metadata": {},
   "outputs": [],
   "source": [
    "##8c.i\n",
    "college.describe()"
   ]
  },
  {
   "cell_type": "code",
   "execution_count": null,
   "metadata": {},
   "outputs": [],
   "source": [
    "##8c.ii\n",
    "scatter_matrix(college[college.columns[0:11]], alpha = 0.5, figsize=(10.7))\n"
   ]
  },
  {
   "cell_type": "code",
   "execution_count": null,
   "metadata": {},
   "outputs": [],
   "source": [
    "##8c.iii\n",
    "college.boxplot(column='Outstate', by='Private')"
   ]
  },
  {
   "cell_type": "code",
   "execution_count": null,
   "metadata": {},
   "outputs": [],
   "source": [
    "##8c.iv\n",
    "college['Elite'] = False\n",
    "college['Top10prtc']>50, 'Elite' = True\n",
    "#college['Elite'].head()\n",
    "len(college(college['Elite']==TRUE))"
   ]
  },
  {
   "cell_type": "code",
   "execution_count": null,
   "metadata": {},
   "outputs": [],
   "source": [
    "##8c.v\n",
    "college.hist(['Room.Board','Books', 'Personal', 'Expend' ],bins=100, alpha=0.5, figsize=(10,6))"
   ]
  },
  {
   "cell_type": "code",
   "execution_count": null,
   "metadata": {},
   "outputs": [],
   "source": [
    "##8.vi\n",
    "college['AcceptRate'] = college['Accept']/college['Apps']\n",
    "college.describe()"
   ]
  },
  {
   "cell_type": "code",
   "execution_count": null,
   "metadata": {},
   "outputs": [],
   "source": [
    "college.boxplot(column='AcceptRate', by='Elite')"
   ]
  },
  {
   "cell_type": "markdown",
   "metadata": {},
   "source": [
    "The acceptance rate looks to be approximately 25% lower for elite schools compare to non elite scohols."
   ]
  },
  {
   "cell_type": "code",
   "execution_count": null,
   "metadata": {},
   "outputs": [],
   "source": [
    "college.boxplot(column='Expend',by='Elite')"
   ]
  },
  {
   "cell_type": "markdown",
   "metadata": {},
   "source": [
    "Elite schools appear to spend on average 7,000 more per year than non elite schools. Elite schools also have greater spread in their expenditures."
   ]
  },
  {
   "cell_type": "code",
   "execution_count": null,
   "metadata": {},
   "outputs": [],
   "source": [
    "college['EnrollRate'] = college['Enroll']/college['college.Accept']\n",
    "\n",
    "college.boxplot(column='EnrollRate',by='Elite')"
   ]
  },
  {
   "cell_type": "markdown",
   "metadata": {},
   "source": [
    "The enrollment rates for elite versus non elite schools do not appear to be significantly different. "
   ]
  },
  {
   "cell_type": "markdown",
   "metadata": {},
   "source": [
    "Despite the fact that acceptance rates vary, enrollment rates don't. Also there seems to be the greatest variation between schools in terms of personal spend and rom and board costs. "
   ]
  },
  {
   "cell_type": "markdown",
   "metadata": {},
   "source": [
    "# 9 Auto data"
   ]
  },
  {
   "cell_type": "code",
   "execution_count": null,
   "metadata": {},
   "outputs": [],
   "source": [
    "auto = pd.read_csv('auto.csv', na_values='na')\n",
    "auto.head()"
   ]
  },
  {
   "cell_type": "markdown",
   "metadata": {},
   "source": [
    "9a.\n",
    "Quantitative predictors: mpg, cylinders, displacement, horsepower, weight, acceleration, year.\n",
    "Qualitative predictors: origin, name"
   ]
  },
  {
   "cell_type": "code",
   "execution_count": null,
   "metadata": {},
   "outputs": [],
   "source": [
    "#9b\n",
    "auto.apply(lambda x: x.max()-x.min() )"
   ]
  },
  {
   "cell_type": "code",
   "execution_count": null,
   "metadata": {},
   "outputs": [],
   "source": [
    "#9c\n",
    "auto.describe()"
   ]
  },
  {
   "cell_type": "code",
   "execution_count": null,
   "metadata": {},
   "outputs": [],
   "source": [
    "#9d\n",
    "new_auto = pd.concat([auto[0:9], auto[84:]])\n",
    "new_auto.describe()"
   ]
  },
  {
   "cell_type": "code",
   "execution_count": null,
   "metadata": {},
   "outputs": [],
   "source": [
    "#9e\n",
    "scatter_matrix(auto)"
   ]
  },
  {
   "cell_type": "markdown",
   "metadata": {},
   "source": [
    "Displacement, horsepower, and weight seem to be correlated with one another with similar trends."
   ]
  },
  {
   "cell_type": "markdown",
   "metadata": {},
   "source": [
    "9f. The most useful predictors would likely be displacement, horsepower, and weight as they are clearly negatively corelated with mpg. It is likely that year is also correlated as there seems to be a general upwards trend and cylinders has a general negative trend. These would have to be categorical variables though."
   ]
  },
  {
   "cell_type": "markdown",
   "metadata": {},
   "source": [
    "# 10 Boston data"
   ]
  },
  {
   "cell_type": "code",
   "execution_count": null,
   "metadata": {},
   "outputs": [],
   "source": [
    "from sklearn.datasets import load_boston\n",
    "#turns out, its in the ML package for python!"
   ]
  },
  {
   "cell_type": "code",
   "execution_count": null,
   "metadata": {},
   "outputs": [],
   "source": [
    "boston = load_boston()"
   ]
  },
  {
   "cell_type": "code",
   "execution_count": null,
   "metadata": {},
   "outputs": [],
   "source": [
    "print(boston.keys())"
   ]
  },
  {
   "cell_type": "code",
   "execution_count": null,
   "metadata": {},
   "outputs": [],
   "source": [
    "print(boston['DESCR'])"
   ]
  },
  {
   "cell_type": "code",
   "execution_count": null,
   "metadata": {},
   "outputs": [],
   "source": [
    "##I struggled for hours to find a way to use this dataset. \n",
    "# This code is copied from sklearn website to turn data in df that I can work with\n",
    "\n",
    "data = boston['data']\n",
    "targets = np.array([boston['target']])\n",
    "allData = np.concatenate((data, np.transpose(Targets)), axis=1)\n",
    "cols = np.append(boston['feature_names'], 'MEDV')\n",
    "\n",
    "bostondf = pd.DataFrame(allData, columns = cols)"
   ]
  },
  {
   "cell_type": "markdown",
   "metadata": {},
   "source": [
    "10a. There are 506 rows, 14 columns. Each row is a suburb in Boston. "
   ]
  },
  {
   "cell_type": "code",
   "execution_count": null,
   "metadata": {},
   "outputs": [],
   "source": [
    "#10b\n",
    "scatter_matrix(bostondf)"
   ]
  },
  {
   "cell_type": "markdown",
   "metadata": {},
   "source": [
    "#10c\n",
    "\n",
    "Crime rates seem to higer with land zones that are smaller, below around 25k sqft, when more pollutants are present, for smaller homes, suburbs with older homes, suburbs close to employment areas, suburbs near highways, suburbs with high pupil to teacher ratios, and with low median home values. Crime rates are lower when suburbs are along the river, likely because they are worth more/have higher property values.\n",
    "\n",
    "\n"
   ]
  },
  {
   "cell_type": "code",
   "execution_count": null,
   "metadata": {},
   "outputs": [],
   "source": [
    "#10d \n",
    "bostondf.describe()"
   ]
  },
  {
   "cell_type": "code",
   "execution_count": null,
   "metadata": {},
   "outputs": [],
   "source": [
    "bostondf.sort_values('CRM', ascending=FALSE)"
   ]
  },
  {
   "cell_type": "code",
   "execution_count": null,
   "metadata": {},
   "outputs": [],
   "source": [
    "bostondf.sort_values('TAX', ascending=FALSE)"
   ]
  },
  {
   "cell_type": "code",
   "execution_count": null,
   "metadata": {},
   "outputs": [],
   "source": [
    "bostondf.sort_values('PTRATIO', ascending=FALSE)"
   ]
  },
  {
   "cell_type": "code",
   "execution_count": null,
   "metadata": {},
   "outputs": [],
   "source": [
    "#10e\n",
    "np.nonzero(pd.np.array(bostondf['CHAS']))[0].size\n",
    "# 35 suburbs bound the Charles River"
   ]
  },
  {
   "cell_type": "code",
   "execution_count": null,
   "metadata": {},
   "outputs": [],
   "source": [
    "#10f\n",
    "ptratio_med = bostondf['PTRATIO'].median()\n",
    "ptratio_med\n",
    "#19.95"
   ]
  },
  {
   "cell_type": "code",
   "execution_count": null,
   "metadata": {},
   "outputs": [],
   "source": [
    "#10g\n",
    "bostondf['MEDV'].min(), bostondf['MEDV'].idxmin()\n",
    "#Suburb 398"
   ]
  },
  {
   "cell_type": "markdown",
   "metadata": {},
   "source": [
    "This suburb has higher crime rates, higher pupil to teacher ratios, more polluants, and old homes. It is overall lower condition than other suburbs."
   ]
  },
  {
   "cell_type": "code",
   "execution_count": null,
   "metadata": {},
   "outputs": [],
   "source": [
    "#10h\n",
    "#7+ rooms\n",
    "len(bostonDF[bostonDF['RM']>7]) #64\n",
    "\n",
    "#8+ rooms\n",
    "len(bostonDF[bostonDF['RM']>8]) #13\n",
    "\n",
    "upperclass = bostonDF[bostonDF['RM']>8]\n",
    "upperclass.describe()"
   ]
  },
  {
   "cell_type": "markdown",
   "metadata": {},
   "source": [
    "Overall, these suburbs have higher tax values than normal, lower crime rates, have lower ppiil to teacher ratios, and have overall better living conditions (less polutants). This makes sense as they are the wealthier suburbs with the bigger houses with more rooms."
   ]
  },
  {
   "cell_type": "markdown",
   "metadata": {},
   "source": [
    "# Chapter 3"
   ]
  },
  {
   "cell_type": "markdown",
   "metadata": {},
   "source": [
    "## 3 - Predictors"
   ]
  },
  {
   "cell_type": "markdown",
   "metadata": {},
   "source": [
    "a. iii. Since the GPA and gender interaction term is negative, in general, females who have lower gpas lose out. So, being female can add 35 to the starting salary after graduation, but can also take away from it. Just being female can add to ones salary, but being female and having a high GPA can negate. Another way to think about this is to consider each least squares line. \n",
    "For females: y^ = 85 + 10GPA + 0.07 IQ + 0.01 GPA*IQ\n",
    "For males: y^ = 40 + 20GPA + 0.07 IQ + 0.01 GPA*IQ\n",
    "\n",
    "At some GPA, males will make more than females due to that GPA coefficient regardless of women having the higher original salary.\n",
    "\n",
    "b. 50 + 20(4) + 0.07(110) + 35 + 0.01(4)(110) + -10(4) = 137.1 thousands of dollars.\n",
    "\n",
    "c. Not necessarily (false). Although the coefficient is small, IQ is usually in the hundreds. So, once multiplied by IQ and GPA, the interaction term could have a significant impact on salary overall. We would need to test this relationship to make any kind of comment on significance.\n",
    "\n"
   ]
  },
  {
   "cell_type": "markdown",
   "metadata": {},
   "source": [
    "## 9 - Auto data set multiple linear regression"
   ]
  },
  {
   "cell_type": "markdown",
   "metadata": {},
   "source": [
    "## 14 - Collinearity"
   ]
  },
  {
   "cell_type": "code",
   "execution_count": null,
   "metadata": {},
   "outputs": [],
   "source": []
  }
 ],
 "metadata": {
  "kernelspec": {
   "display_name": "Python 3",
   "language": "python",
   "name": "python3"
  },
  "language_info": {
   "codemirror_mode": {
    "name": "ipython",
    "version": 3
   },
   "file_extension": ".py",
   "mimetype": "text/x-python",
   "name": "python",
   "nbconvert_exporter": "python",
   "pygments_lexer": "ipython3",
   "version": "3.6.4"
  }
 },
 "nbformat": 4,
 "nbformat_minor": 2
}
