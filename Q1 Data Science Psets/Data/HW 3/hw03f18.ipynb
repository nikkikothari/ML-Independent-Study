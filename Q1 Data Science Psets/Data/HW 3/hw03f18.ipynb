{
 "cells": [
  {
   "cell_type": "markdown",
   "metadata": {},
   "source": [
    "# Homework 3: Tables and Charts (50 points)\n",
    "\n",
    "Please complete this notebook by filling in the cells provided. The solved homework should be uploaded to Canvas.\n"
   ]
  },
  {
   "cell_type": "markdown",
   "metadata": {},
   "source": [
    "\n",
    "\n",
    "**Reading**: \n",
    "\n",
    "Data8 textbook chapters [5](http://www.inferentialthinking.com/chapters/05/sequences.html) and [6](http://www.inferentialthinking.com/chapters/06/tables.html) and [7.1](http://www.inferentialthinking.com/chapters/07/1/Visualizing_Categorical_Distributions).\n",
    "\n",
    "**Deadline**:\n",
    "\n",
    "This assignment is due on Tuesday, October 23 at 9:30am. Late work will not be accepted unless you have made special arrangements with the instructors.\n",
    "\n",
    "Directly sharing answers is not okay, but discussing problems with the course staff or with other students is encouraged.\n",
    "\n",
    "You should start early so that you have time to get help if you're stuck."
   ]
  },
  {
   "cell_type": "code",
   "execution_count": 106,
   "metadata": {},
   "outputs": [],
   "source": [
    "# Don't change this cell; just run it. \n",
    "\n",
    "import numpy as np\n",
    "from datascience import *\n",
    "\n",
    "%matplotlib inline\n",
    "import matplotlib.pyplot as plots\n",
    "plots.style.use('fivethirtyeight')\n"
   ]
  },
  {
   "cell_type": "markdown",
   "metadata": {},
   "source": [
    "## 1. Unemployment (12 points)\n"
   ]
  },
  {
   "cell_type": "markdown",
   "metadata": {},
   "source": [
    "The Federal Reserve Bank of St. Louis publishes data about jobs in the US.  Below we've loaded data on unemployment in the United States.  There are many ways of defining unemployment, and our dataset includes two notions of the unemployment rate:\n",
    "\n",
    "1. Among people who are able to work and are looking for a full-time job, the percentage who can't find a job.  This is called the Non-Employment Index, or NEI.\n",
    "2. Among people who are able to work and are looking for a full-time job, the percentage who can't find any job *or* are only working at a part-time job.  The latter group is called \"Part-Time for Economic Reasons\", so the acronym for this index is NEI-PTER.  (Economists are great at marketing.)\n",
    "\n",
    "The source of the data is [here](https://fred.stlouisfed.org/categories/33509)."
   ]
  },
  {
   "cell_type": "markdown",
   "metadata": {},
   "source": [
    "**Question 1.** The data are in a CSV file called `unemployment.csv`.  Load that file into a table called `unemployment`."
   ]
  },
  {
   "cell_type": "code",
   "execution_count": 107,
   "metadata": {},
   "outputs": [
    {
     "data": {
      "text/html": [
       "<table border=\"1\" class=\"dataframe\">\n",
       "    <thead>\n",
       "        <tr>\n",
       "            <th>Date</th> <th>NEI</th> <th>NEI-PTER</th>\n",
       "        </tr>\n",
       "    </thead>\n",
       "    <tbody>\n",
       "        <tr>\n",
       "            <td>1994-01-01</td> <td>10.0974</td> <td>11.172  </td>\n",
       "        </tr>\n",
       "        <tr>\n",
       "            <td>1994-04-01</td> <td>9.6239 </td> <td>10.7883 </td>\n",
       "        </tr>\n",
       "        <tr>\n",
       "            <td>1994-07-01</td> <td>9.3276 </td> <td>10.4831 </td>\n",
       "        </tr>\n",
       "        <tr>\n",
       "            <td>1994-10-01</td> <td>9.1071 </td> <td>10.2361 </td>\n",
       "        </tr>\n",
       "        <tr>\n",
       "            <td>1995-01-01</td> <td>8.9693 </td> <td>10.1832 </td>\n",
       "        </tr>\n",
       "        <tr>\n",
       "            <td>1995-04-01</td> <td>9.0314 </td> <td>10.1071 </td>\n",
       "        </tr>\n",
       "        <tr>\n",
       "            <td>1995-07-01</td> <td>8.9802 </td> <td>10.1084 </td>\n",
       "        </tr>\n",
       "        <tr>\n",
       "            <td>1995-10-01</td> <td>8.9932 </td> <td>10.1046 </td>\n",
       "        </tr>\n",
       "        <tr>\n",
       "            <td>1996-01-01</td> <td>9.0002 </td> <td>10.0531 </td>\n",
       "        </tr>\n",
       "        <tr>\n",
       "            <td>1996-04-01</td> <td>8.9038 </td> <td>9.9782  </td>\n",
       "        </tr>\n",
       "    </tbody>\n",
       "</table>\n",
       "<p>... (80 rows omitted)</p>"
      ],
      "text/plain": [
       "Date       | NEI     | NEI-PTER\n",
       "1994-01-01 | 10.0974 | 11.172\n",
       "1994-04-01 | 9.6239  | 10.7883\n",
       "1994-07-01 | 9.3276  | 10.4831\n",
       "1994-10-01 | 9.1071  | 10.2361\n",
       "1995-01-01 | 8.9693  | 10.1832\n",
       "1995-04-01 | 9.0314  | 10.1071\n",
       "1995-07-01 | 8.9802  | 10.1084\n",
       "1995-10-01 | 8.9932  | 10.1046\n",
       "1996-01-01 | 9.0002  | 10.0531\n",
       "1996-04-01 | 8.9038  | 9.9782\n",
       "... (80 rows omitted)"
      ]
     },
     "execution_count": 107,
     "metadata": {},
     "output_type": "execute_result"
    }
   ],
   "source": [
    "unemployment = Table.read_table('unemployment.csv')\n",
    "unemployment"
   ]
  },
  {
   "cell_type": "markdown",
   "metadata": {},
   "source": [
    "**Question 2.** Sort the data in decreasing order by NEI, naming the sorted table `by_nei`.  Create another table called `by_nei_pter` that's sorted in decreasing order by NEI-PTER instead."
   ]
  },
  {
   "cell_type": "code",
   "execution_count": 108,
   "metadata": {},
   "outputs": [],
   "source": [
    "by_nei = unemployment.sort('NEI', descending='TRUE')\n",
    "by_nei_pter = unemployment.sort('NEI-PTER', descending='TRUE')"
   ]
  },
  {
   "cell_type": "markdown",
   "metadata": {},
   "source": [
    "**Question 3.** Use `take` to make a table containing the data for the 10 quarters when NEI was greatest.  Call that table `greatest_nei`."
   ]
  },
  {
   "cell_type": "code",
   "execution_count": 109,
   "metadata": {},
   "outputs": [
    {
     "data": {
      "text/html": [
       "<table border=\"1\" class=\"dataframe\">\n",
       "    <thead>\n",
       "        <tr>\n",
       "            <th>Date</th> <th>NEI</th> <th>NEI-PTER</th>\n",
       "        </tr>\n",
       "    </thead>\n",
       "    <tbody>\n",
       "        <tr>\n",
       "            <td>2009-10-01</td> <td>10.9698</td> <td>12.8557 </td>\n",
       "        </tr>\n",
       "        <tr>\n",
       "            <td>2010-01-01</td> <td>10.9054</td> <td>12.7311 </td>\n",
       "        </tr>\n",
       "        <tr>\n",
       "            <td>2009-07-01</td> <td>10.8089</td> <td>12.7404 </td>\n",
       "        </tr>\n",
       "        <tr>\n",
       "            <td>2009-04-01</td> <td>10.7082</td> <td>12.5497 </td>\n",
       "        </tr>\n",
       "        <tr>\n",
       "            <td>2010-04-01</td> <td>10.6597</td> <td>12.5664 </td>\n",
       "        </tr>\n",
       "        <tr>\n",
       "            <td>2010-10-01</td> <td>10.5856</td> <td>12.4329 </td>\n",
       "        </tr>\n",
       "        <tr>\n",
       "            <td>2010-07-01</td> <td>10.5521</td> <td>12.3897 </td>\n",
       "        </tr>\n",
       "        <tr>\n",
       "            <td>2011-01-01</td> <td>10.5024</td> <td>12.3017 </td>\n",
       "        </tr>\n",
       "        <tr>\n",
       "            <td>2011-07-01</td> <td>10.4856</td> <td>12.2507 </td>\n",
       "        </tr>\n",
       "        <tr>\n",
       "            <td>2011-04-01</td> <td>10.4409</td> <td>12.247  </td>\n",
       "        </tr>\n",
       "    </tbody>\n",
       "</table>"
      ],
      "text/plain": [
       "Date       | NEI     | NEI-PTER\n",
       "2009-10-01 | 10.9698 | 12.8557\n",
       "2010-01-01 | 10.9054 | 12.7311\n",
       "2009-07-01 | 10.8089 | 12.7404\n",
       "2009-04-01 | 10.7082 | 12.5497\n",
       "2010-04-01 | 10.6597 | 12.5664\n",
       "2010-10-01 | 10.5856 | 12.4329\n",
       "2010-07-01 | 10.5521 | 12.3897\n",
       "2011-01-01 | 10.5024 | 12.3017\n",
       "2011-07-01 | 10.4856 | 12.2507\n",
       "2011-04-01 | 10.4409 | 12.247"
      ]
     },
     "execution_count": 109,
     "metadata": {},
     "output_type": "execute_result"
    }
   ],
   "source": [
    "greatest_nei = by_nei.take(np.arange(0, 10))\n",
    "greatest_nei"
   ]
  },
  {
   "cell_type": "markdown",
   "metadata": {},
   "source": [
    "**Question 4.** It's believed that many people became PTER (recall: \"Part-Time for Economic Reasons\") in the \"Great Recession\" of 2008-2009.  NEI-PTER is the percentage of people who are unemployed (and counted in the NEI) plus the percentage of people who are PTER.  Compute an array containing the percentage of people who were PTER in each quarter.  (The first element of the array should correspond to the first row of `unemployment`, and so on.)\n",
    "\n",
    "*Note:* Use the original `unemployment` table for this."
   ]
  },
  {
   "cell_type": "code",
   "execution_count": 110,
   "metadata": {},
   "outputs": [
    {
     "data": {
      "text/plain": [
       "array([1.0746, 1.1644, 1.1555, 1.129 , 1.2139, 1.0757, 1.1282, 1.1114,\n",
       "       1.0529, 1.0744, 1.1004, 1.0747, 1.0705, 1.0455, 1.008 , 0.9734,\n",
       "       0.9753, 0.8931, 0.9451, 0.8367, 0.8208, 0.8105, 0.8248, 0.7578,\n",
       "       0.7251, 0.7445, 0.7543, 0.7423, 0.7399, 0.7687, 0.8418, 0.9923,\n",
       "       0.9181, 0.9629, 0.9703, 0.9575, 1.0333, 1.0781, 1.0675, 1.0354,\n",
       "       1.0601, 1.01  , 1.0042, 1.0368, 0.9704, 0.923 , 0.9759, 0.93  ,\n",
       "       0.889 , 0.821 , 0.9409, 0.955 , 0.898 , 0.8948, 0.9523, 0.9579,\n",
       "       1.0149, 1.0762, 1.2873, 1.4335, 1.7446, 1.8415, 1.9315, 1.8859,\n",
       "       1.8257, 1.9067, 1.8376, 1.8473, 1.7993, 1.8061, 1.7651, 1.7927,\n",
       "       1.7286, 1.6387, 1.6808, 1.6805, 1.6629, 1.6253, 1.6477, 1.6298,\n",
       "       1.4796, 1.5131, 1.4866, 1.4345, 1.3675, 1.3097, 1.2319, 1.1735,\n",
       "       1.1844, 1.1746])"
      ]
     },
     "execution_count": 110,
     "metadata": {},
     "output_type": "execute_result"
    }
   ],
   "source": [
    "pter = unemployment.column('NEI-PTER') - unemployment.column('NEI')\n",
    "pter"
   ]
  },
  {
   "cell_type": "markdown",
   "metadata": {},
   "source": [
    "**Question 5.** Add `pter` as a column to `unemployment` (named \"PTER\") and sort the resulting table by that column in decreasing order.  Call the table `by_pter`.\n",
    "\n",
    "Try to do this with a single line of code, if you can."
   ]
  },
  {
   "cell_type": "code",
   "execution_count": 111,
   "metadata": {},
   "outputs": [
    {
     "data": {
      "text/html": [
       "<table border=\"1\" class=\"dataframe\">\n",
       "    <thead>\n",
       "        <tr>\n",
       "            <th>Date</th> <th>NEI</th> <th>NEI-PTER</th> <th>PTER</th>\n",
       "        </tr>\n",
       "    </thead>\n",
       "    <tbody>\n",
       "        <tr>\n",
       "            <td>2009-07-01</td> <td>10.8089</td> <td>12.7404 </td> <td>1.9315</td>\n",
       "        </tr>\n",
       "        <tr>\n",
       "            <td>2010-04-01</td> <td>10.6597</td> <td>12.5664 </td> <td>1.9067</td>\n",
       "        </tr>\n",
       "        <tr>\n",
       "            <td>2009-10-01</td> <td>10.9698</td> <td>12.8557 </td> <td>1.8859</td>\n",
       "        </tr>\n",
       "        <tr>\n",
       "            <td>2010-10-01</td> <td>10.5856</td> <td>12.4329 </td> <td>1.8473</td>\n",
       "        </tr>\n",
       "        <tr>\n",
       "            <td>2009-04-01</td> <td>10.7082</td> <td>12.5497 </td> <td>1.8415</td>\n",
       "        </tr>\n",
       "        <tr>\n",
       "            <td>2010-07-01</td> <td>10.5521</td> <td>12.3897 </td> <td>1.8376</td>\n",
       "        </tr>\n",
       "        <tr>\n",
       "            <td>2010-01-01</td> <td>10.9054</td> <td>12.7311 </td> <td>1.8257</td>\n",
       "        </tr>\n",
       "        <tr>\n",
       "            <td>2011-04-01</td> <td>10.4409</td> <td>12.247  </td> <td>1.8061</td>\n",
       "        </tr>\n",
       "        <tr>\n",
       "            <td>2011-01-01</td> <td>10.5024</td> <td>12.3017 </td> <td>1.7993</td>\n",
       "        </tr>\n",
       "        <tr>\n",
       "            <td>2011-10-01</td> <td>10.3287</td> <td>12.1214 </td> <td>1.7927</td>\n",
       "        </tr>\n",
       "    </tbody>\n",
       "</table>\n",
       "<p>... (80 rows omitted)</p>"
      ],
      "text/plain": [
       "Date       | NEI     | NEI-PTER | PTER\n",
       "2009-07-01 | 10.8089 | 12.7404  | 1.9315\n",
       "2010-04-01 | 10.6597 | 12.5664  | 1.9067\n",
       "2009-10-01 | 10.9698 | 12.8557  | 1.8859\n",
       "2010-10-01 | 10.5856 | 12.4329  | 1.8473\n",
       "2009-04-01 | 10.7082 | 12.5497  | 1.8415\n",
       "2010-07-01 | 10.5521 | 12.3897  | 1.8376\n",
       "2010-01-01 | 10.9054 | 12.7311  | 1.8257\n",
       "2011-04-01 | 10.4409 | 12.247   | 1.8061\n",
       "2011-01-01 | 10.5024 | 12.3017  | 1.7993\n",
       "2011-10-01 | 10.3287 | 12.1214  | 1.7927\n",
       "... (80 rows omitted)"
      ]
     },
     "execution_count": 111,
     "metadata": {},
     "output_type": "execute_result"
    }
   ],
   "source": [
    "by_pter = unemployment.with_columns('PTER', pter).sort('PTER', descending='TRUE')\n",
    "by_pter"
   ]
  },
  {
   "cell_type": "markdown",
   "metadata": {},
   "source": [
    "**Question 6.** Does it seem true that the PTER rate was very high during the Great Recession, compared to other periods in the dataset? Justify your answer by referring to specific values in the table or by generating a chart."
   ]
  },
  {
   "cell_type": "markdown",
   "metadata": {
    "manual_grade": true,
    "manual_problem_id": "basic_sorting_6"
   },
   "source": [
    "Google says the Great Recession lasted from Dec 2007 to June 2009.\n",
    "It does not seem true that the PTER rate was very high. Ranked from highest to lowest PTER score, the highest at 1.93 is after the Great Recession. Out of the top 10 results, only one is actually during the Great Recession (April 2009, PTER = 1.84). Other than that, they are all after June 2009. Therefore, it does not seem true that the PTER rate was very high during the Great Recession. If anything, it was very high in the period after the great Recession (2009-2011)."
   ]
  },
  {
   "cell_type": "markdown",
   "metadata": {},
   "source": [
    "## 2. Birth Rates (15 points)\n"
   ]
  },
  {
   "cell_type": "markdown",
   "metadata": {},
   "source": [
    "The following table gives census-based population estimates for each state on July 1, 2015 and July 1, 2016. The last four columns describe the components of the estimated change in population during this time interval. *For all questions below, assume that the word \"states\" refers to all 52 rows including Puerto Rico & the District of Columbia.*"
   ]
  },
  {
   "cell_type": "code",
   "execution_count": 112,
   "metadata": {
    "scrolled": true
   },
   "outputs": [
    {
     "data": {
      "text/html": [
       "<table border=\"1\" class=\"dataframe\">\n",
       "    <thead>\n",
       "        <tr>\n",
       "            <th>REGION</th> <th>NAME</th> <th>2015</th> <th>2016</th> <th>BIRTHS</th> <th>DEATHS</th> <th>MIGRATION</th> <th>OTHER</th>\n",
       "        </tr>\n",
       "    </thead>\n",
       "    <tbody>\n",
       "        <tr>\n",
       "            <td>3     </td> <td>Alabama   </td> <td>4,853,875 </td> <td>4,863,300 </td> <td>58,556 </td> <td>52,405 </td> <td>3,874    </td> <td>-600  </td>\n",
       "        </tr>\n",
       "        <tr>\n",
       "            <td>4     </td> <td>Alaska    </td> <td>737,709   </td> <td>741,894   </td> <td>11,255 </td> <td>4,511  </td> <td>-2,557   </td> <td>-2    </td>\n",
       "        </tr>\n",
       "        <tr>\n",
       "            <td>4     </td> <td>Arizona   </td> <td>6,817,565 </td> <td>6,931,071 </td> <td>87,204 </td> <td>56,564 </td> <td>76,405   </td> <td>6,461 </td>\n",
       "        </tr>\n",
       "        <tr>\n",
       "            <td>3     </td> <td>Arkansas  </td> <td>2,977,853 </td> <td>2,988,248 </td> <td>37,936 </td> <td>30,581 </td> <td>3,530    </td> <td>-490  </td>\n",
       "        </tr>\n",
       "        <tr>\n",
       "            <td>4     </td> <td>California</td> <td>38,993,940</td> <td>39,250,017</td> <td>502,848</td> <td>273,850</td> <td>33,530   </td> <td>-6,451</td>\n",
       "        </tr>\n",
       "    </tbody>\n",
       "</table>\n",
       "<p>... (47 rows omitted)</p>"
      ],
      "text/plain": [
       "<IPython.core.display.HTML object>"
      ]
     },
     "metadata": {},
     "output_type": "display_data"
    }
   ],
   "source": [
    "# Don't change this cell; just run it.\n",
    "# From http://www2.census.gov/programs-surveys/popest/datasets/2010-2016/national/totals/nst-est2016-alldata.csv\n",
    "# See http://www2.census.gov/programs-surveys/popest/datasets/2010-2015/national/totals/nst-est2015-alldata.pdf\n",
    "#     for column descriptions. (As of Feb 2017, no descriptions were posted for 2010-2016.)\n",
    "pop = Table.read_table('nst-est2016-alldata.csv').where('SUMLEV', 40).select([1, 4, 12, 13, 27, 34, 62, 69])\n",
    "pop = pop.relabeled(2, '2015').relabeled(3, '2016')\n",
    "pop = pop.relabeled(4, 'BIRTHS').relabeled(5, 'DEATHS')\n",
    "pop = pop.relabeled(6, 'MIGRATION').relabeled(7, 'OTHER')\n",
    "pop.set_format([2, 3, 4, 5, 6, 7], NumberFormatter(decimals=0)).show(5)"
   ]
  },
  {
   "cell_type": "markdown",
   "metadata": {},
   "source": [
    "**Question 1.** Assign `us_birth_rate` to the total US annual birth rate during this time interval. The annual birth rate for a year-long period is the number of births in that period as a proportion of the population at the start of the period."
   ]
  },
  {
   "cell_type": "code",
   "execution_count": 113,
   "metadata": {},
   "outputs": [
    {
     "data": {
      "text/plain": [
       "0.012358536498646102"
      ]
     },
     "execution_count": 113,
     "metadata": {},
     "output_type": "execute_result"
    }
   ],
   "source": [
    "us_birth_rate = sum(pop.column('BIRTHS'))/sum(pop.column('2015'))\n",
    "us_birth_rate"
   ]
  },
  {
   "cell_type": "markdown",
   "metadata": {},
   "source": [
    "**Question 2.** Assign `fastest_growth` to an array of the names of the five states with the fastest population growth rates in *descending order of growth rate*."
   ]
  },
  {
   "cell_type": "code",
   "execution_count": 114,
   "metadata": {},
   "outputs": [
    {
     "data": {
      "text/html": [
       "<table border=\"1\" class=\"dataframe\">\n",
       "    <thead>\n",
       "        <tr>\n",
       "            <th>REGION</th> <th>NAME</th> <th>2015</th> <th>2016</th> <th>BIRTHS</th> <th>DEATHS</th> <th>MIGRATION</th> <th>OTHER</th> <th>growth</th>\n",
       "        </tr>\n",
       "    </thead>\n",
       "    <tbody>\n",
       "        <tr>\n",
       "            <td>4     </td> <td>Utah      </td> <td>2,990,632 </td> <td>3,051,217 </td> <td>51,444 </td> <td>16,447 </td> <td>25,412   </td> <td>176   </td> <td>0.0202583</td>\n",
       "        </tr>\n",
       "        <tr>\n",
       "            <td>4     </td> <td>Nevada    </td> <td>2,883,758 </td> <td>2,940,058 </td> <td>36,462 </td> <td>23,771 </td> <td>41,967   </td> <td>1,642 </td> <td>0.0195231</td>\n",
       "        </tr>\n",
       "        <tr>\n",
       "            <td>4     </td> <td>Idaho     </td> <td>1,652,828 </td> <td>1,683,140 </td> <td>22,792 </td> <td>12,496 </td> <td>18,869   </td> <td>1,147 </td> <td>0.0183395</td>\n",
       "        </tr>\n",
       "        <tr>\n",
       "            <td>3     </td> <td>Florida   </td> <td>20,244,914</td> <td>20,612,439</td> <td>222,793</td> <td>201,485</td> <td>325,986  </td> <td>20,231</td> <td>0.0181539</td>\n",
       "        </tr>\n",
       "        <tr>\n",
       "            <td>4     </td> <td>Washington</td> <td>7,160,290 </td> <td>7,288,000 </td> <td>89,982 </td> <td>55,979 </td> <td>91,981   </td> <td>1,726 </td> <td>0.0178359</td>\n",
       "        </tr>\n",
       "    </tbody>\n",
       "</table>"
      ],
      "text/plain": [
       "REGION | NAME       | 2015       | 2016       | BIRTHS  | DEATHS  | MIGRATION | OTHER  | growth\n",
       "4      | Utah       | 2,990,632  | 3,051,217  | 51,444  | 16,447  | 25,412    | 176    | 0.0202583\n",
       "4      | Nevada     | 2,883,758  | 2,940,058  | 36,462  | 23,771  | 41,967    | 1,642  | 0.0195231\n",
       "4      | Idaho      | 1,652,828  | 1,683,140  | 22,792  | 12,496  | 18,869    | 1,147  | 0.0183395\n",
       "3      | Florida    | 20,244,914 | 20,612,439 | 222,793 | 201,485 | 325,986   | 20,231 | 0.0181539\n",
       "4      | Washington | 7,160,290  | 7,288,000  | 89,982  | 55,979  | 91,981    | 1,726  | 0.0178359"
      ]
     },
     "execution_count": 114,
     "metadata": {},
     "output_type": "execute_result"
    }
   ],
   "source": [
    "growth = (pop.column('2016') - pop.column('2015'))/pop.column('2015')\n",
    "fastest_growth = pop.with_columns('growth', growth).sort('growth', descending='TRUE').take(np.arange(0,5))\n",
    "fastest_growth"
   ]
  },
  {
   "cell_type": "markdown",
   "metadata": {},
   "source": [
    "**Question 3.** Assign `movers` to the number of states for which the absolute annual rate of migration was higher than 1%. The annual rate of migration for a year-long period is the net number of migrations (in and out) as a proportion of the population at the start of the period. The `MIGRATION` column contains estimated annual net migration counts by state."
   ]
  },
  {
   "cell_type": "code",
   "execution_count": 115,
   "metadata": {},
   "outputs": [
    {
     "data": {
      "text/plain": [
       "9"
      ]
     },
     "execution_count": 115,
     "metadata": {},
     "output_type": "execute_result"
    }
   ],
   "source": [
    "migration = abs(pop.column('MIGRATION')/pop.column('2015'))\n",
    "table_mig = pop.with_columns('rate of mig', migration)\n",
    "\n",
    "movers = pop.where(migration, are.above(.01)).num_rows\n",
    "movers"
   ]
  },
  {
   "cell_type": "markdown",
   "metadata": {},
   "source": [
    "**Question 4.** Assign `west_births` to the total number of births that occurred in region 4 (the Western US)."
   ]
  },
  {
   "cell_type": "code",
   "execution_count": 116,
   "metadata": {},
   "outputs": [
    {
     "data": {
      "text/plain": [
       "979657"
      ]
     },
     "execution_count": 116,
     "metadata": {},
     "output_type": "execute_result"
    }
   ],
   "source": [
    "region4 = pop.where(pop.column('REGION'), are.containing('4'))\n",
    "west_births = sum(region4.column('BIRTHS'))\n",
    "west_births"
   ]
  },
  {
   "cell_type": "markdown",
   "metadata": {},
   "source": [
    "**Question 5.** Assign `less_than_west_births` to the number of states that had a total population in 2016 that was smaller than the *number of babies born in region 4 (the Western US)* during this time interval."
   ]
  },
  {
   "cell_type": "code",
   "execution_count": 117,
   "metadata": {},
   "outputs": [
    {
     "data": {
      "text/plain": [
       "7"
      ]
     },
     "execution_count": 117,
     "metadata": {},
     "output_type": "execute_result"
    }
   ],
   "source": [
    "less_than_west_births = pop.where(pop.column('2016'), are.below(west_births)).num_rows\n",
    "less_than_west_births"
   ]
  },
  {
   "cell_type": "markdown",
   "metadata": {},
   "source": [
    "**Question 6.** Was there an association between numbers of births and numbers of deaths across states during this time interval? Use the code cell below to support your conclusion with a chart. If an association exists, what might explain it?"
   ]
  },
  {
   "cell_type": "markdown",
   "metadata": {
    "manual_grade": true,
    "manual_problem_id": "births_6"
   },
   "source": [
    "There does seem to be an association between numbers of births and number of deaths across states. The chart below shows a positive, linear correlation where as the number of births increases, so does the number of deaths. This could be a function of population where both births and deaths are a factor of the overall population. The more people you have in a state, the more people are going to both be born and die due to a natural life cycle. "
   ]
  },
  {
   "cell_type": "code",
   "execution_count": 118,
   "metadata": {},
   "outputs": [
    {
     "data": {
      "image/png": "[encoded data removed]",
      "text/plain": [
       "<matplotlib.figure.Figure at 0x11d71ccf8>"
      ]
     },
     "metadata": {},
     "output_type": "display_data"
    }
   ],
   "source": [
    "# Generate a chart here to support your conclusion\n",
    "pop.scatter('BIRTHS','DEATHS')"
   ]
  },
  {
   "cell_type": "markdown",
   "metadata": {},
   "source": [
    "## 3. Colleges (18 points)\n"
   ]
  },
  {
   "cell_type": "markdown",
   "metadata": {},
   "source": [
    "The question uses data on colleges from Homework 1. Recall that the dataset was posted on Kaggle at the beginning of 2018, and was grabbed from US-News: https://www.usnews.com. It includes statistics for 311 US Universities. \n",
    "\n",
    "To make your tasks easiear, we removed many of the columns and kept only 11. The corresponding file can be found here:\n",
    "\n",
    "http://www.stat.uchicago.edu/~nicolae/118/colleges1.csv\n",
    "\n",
    "\n",
    "#### Run the next cell that contains code that will allow you to read the data into a table called \"colleges_table\". It also shows the first 10 rows.\n"
   ]
  },
  {
   "cell_type": "code",
   "execution_count": 119,
   "metadata": {
    "scrolled": true
   },
   "outputs": [
    {
     "data": {
      "text/html": [
       "<table border=\"1\" class=\"dataframe\">\n",
       "    <thead>\n",
       "        <tr>\n",
       "            <th>act-avg</th> <th>sat-avg</th> <th>enrollment</th> <th>acceptance-rate</th> <th>rankingDisplayScore</th> <th>percent-receiving-aid</th> <th>cost-after-aid</th> <th>tuition</th> <th>displayName</th> <th>overallRank</th> <th>institutionalControl</th>\n",
       "        </tr>\n",
       "    </thead>\n",
       "    <tbody>\n",
       "        <tr>\n",
       "            <td>32     </td> <td>1400   </td> <td>5400      </td> <td>7              </td> <td>100                </td> <td>60                   </td> <td>16793         </td> <td>47140  </td> <td>Princeton University                 </td> <td>1          </td> <td>private             </td>\n",
       "        </tr>\n",
       "        <tr>\n",
       "            <td>32     </td> <td>1430   </td> <td>6710      </td> <td>5              </td> <td>98                 </td> <td>55                   </td> <td>16338         </td> <td>48949  </td> <td>Harvard University                   </td> <td>2          </td> <td>private             </td>\n",
       "        </tr>\n",
       "        <tr>\n",
       "            <td>32     </td> <td>1450   </td> <td>5941      </td> <td>8              </td> <td>96                 </td> <td>42                   </td> <td>27767         </td> <td>54825  </td> <td>University of Chicago                </td> <td>3          </td> <td>private             </td>\n",
       "        </tr>\n",
       "        <tr>\n",
       "            <td>32     </td> <td>1420   </td> <td>5472      </td> <td>6              </td> <td>96                 </td> <td>50                   </td> <td>18385         </td> <td>51400  </td> <td>Yale University                      </td> <td>3          </td> <td>private             </td>\n",
       "        </tr>\n",
       "        <tr>\n",
       "            <td>32     </td> <td>1430   </td> <td>6113      </td> <td>6              </td> <td>95                 </td> <td>48                   </td> <td>21041         </td> <td>57208  </td> <td>Columbia University                  </td> <td>5          </td> <td>private             </td>\n",
       "        </tr>\n",
       "        <tr>\n",
       "            <td>33     </td> <td>1460   </td> <td>4524      </td> <td>8              </td> <td>95                 </td> <td>58                   </td> <td>20331         </td> <td>49892  </td> <td>Massachusetts Institute of Technology</td> <td>5          </td> <td>private             </td>\n",
       "        </tr>\n",
       "        <tr>\n",
       "            <td>31     </td> <td>1380   </td> <td>7034      </td> <td>5              </td> <td>95                 </td> <td>47                   </td> <td>19296         </td> <td>49617  </td> <td>Stanford University                  </td> <td>5          </td> <td>private             </td>\n",
       "        </tr>\n",
       "        <tr>\n",
       "            <td>32     </td> <td>1380   </td> <td>10019     </td> <td>9              </td> <td>93                 </td> <td>47                   </td> <td>25441         </td> <td>53534  </td> <td>University of Pennsylvania           </td> <td>8          </td> <td>private             </td>\n",
       "        </tr>\n",
       "        <tr>\n",
       "            <td>31     </td> <td>1380   </td> <td>6609      </td> <td>11             </td> <td>92                 </td> <td>41                   </td> <td>23374         </td> <td>53744  </td> <td>Duke University                      </td> <td>9          </td> <td>private             </td>\n",
       "        </tr>\n",
       "        <tr>\n",
       "            <td>34     </td> <td>1510   </td> <td>979       </td> <td>8              </td> <td>91                 </td> <td>51                   </td> <td>23973         </td> <td>49908  </td> <td>California Institute of Technology   </td> <td>10         </td> <td>private             </td>\n",
       "        </tr>\n",
       "    </tbody>\n",
       "</table>\n",
       "<p>... (301 rows omitted)</p>"
      ],
      "text/plain": [
       "act-avg | sat-avg | enrollment | acceptance-rate | rankingDisplayScore | percent-receiving-aid | cost-after-aid | tuition | displayName                           | overallRank | institutionalControl\n",
       "32      | 1400    | 5400       | 7               | 100                 | 60                    | 16793          | 47140   | Princeton University                  | 1           | private\n",
       "32      | 1430    | 6710       | 5               | 98                  | 55                    | 16338          | 48949   | Harvard University                    | 2           | private\n",
       "32      | 1450    | 5941       | 8               | 96                  | 42                    | 27767          | 54825   | University of Chicago                 | 3           | private\n",
       "32      | 1420    | 5472       | 6               | 96                  | 50                    | 18385          | 51400   | Yale University                       | 3           | private\n",
       "32      | 1430    | 6113       | 6               | 95                  | 48                    | 21041          | 57208   | Columbia University                   | 5           | private\n",
       "33      | 1460    | 4524       | 8               | 95                  | 58                    | 20331          | 49892   | Massachusetts Institute of Technology | 5           | private\n",
       "31      | 1380    | 7034       | 5               | 95                  | 47                    | 19296          | 49617   | Stanford University                   | 5           | private\n",
       "32      | 1380    | 10019      | 9               | 93                  | 47                    | 25441          | 53534   | University of Pennsylvania            | 8           | private\n",
       "31      | 1380    | 6609       | 11              | 92                  | 41                    | 23374          | 53744   | Duke University                       | 9           | private\n",
       "34      | 1510    | 979        | 8               | 91                  | 51                    | 23973          | 49908   | California Institute of Technology    | 10          | private\n",
       "... (301 rows omitted)"
      ]
     },
     "execution_count": 119,
     "metadata": {},
     "output_type": "execute_result"
    }
   ],
   "source": [
    "# Just run this cell.\n",
    "colleges_table=Table.read_table('http://www.stat.uchicago.edu/~nicolae/118/colleges1.csv')\n",
    "colleges_table"
   ]
  },
  {
   "cell_type": "markdown",
   "metadata": {},
   "source": [
    "**Run the following command that will make a scatterplot of SAT average scores (x-axis) and tuition (y-axis).**"
   ]
  },
  {
   "cell_type": "code",
   "execution_count": 120,
   "metadata": {
    "scrolled": false
   },
   "outputs": [
    {
     "data": {
      "image/png": "[encoded data removed]",
      "text/plain": [
       "<matplotlib.figure.Figure at 0x11d88c630>"
      ]
     },
     "metadata": {},
     "output_type": "display_data"
    }
   ],
   "source": [
    "colleges_table.scatter('sat-avg','tuition')"
   ]
  },
  {
   "cell_type": "markdown",
   "metadata": {},
   "source": [
    "**Question 1.**  Describe in few words the pattern you see. Then give three alternative explanations for this pattern using the three possibilities/models for an association we discussed in Lecture 3: causality, common response, confounding. You need to give possible explanations for all three models. Which model makes most sense to you? Explain."
   ]
  },
  {
   "cell_type": "markdown",
   "metadata": {},
   "source": [
    "I see a generally strong, positive, linear correlation between average SAT score and tuition. \n",
    "\n",
    "Causality: Higher sat scores cause schools to have higher tuition.\n",
    "\n",
    "Common Response: Tuition and SAT scores both happen to be caused by some other variable. For example, quality of the school. The changes in SAT score will vary with quality of school. The tuition will also vary with quality of the school. \n",
    "\n",
    "Confounding: There could be factors we are not considering that affect either average SAT scores or tuition that we do not know the relationship for. For example, student wealth may impact school tuition as the school accepts those who can pay but those same people are likely doing well on the SAT because they have the resources to study.\n",
    "\n",
    "The common response model makes the most sense to me because I expect there to be a lurking variable that directly accounts for both average sat scores and tuition such as school quality or reputation. While there may be multiple other confounding variables, the common response model more directly accounts for the trend."
   ]
  },
  {
   "cell_type": "markdown",
   "metadata": {},
   "source": [
    "**Question 2.** Draw a scatterplot of SAT average (x-axis) and 'cost-after-aid' (y-axis) and then describe the pattern you see. Provide an explanation for this pattern."
   ]
  },
  {
   "cell_type": "code",
   "execution_count": 121,
   "metadata": {},
   "outputs": [
    {
     "data": {
      "image/png": "[encoded data removed]",
      "text/plain": [
       "<matplotlib.figure.Figure at 0x11d8cda20>"
      ]
     },
     "metadata": {},
     "output_type": "display_data"
    }
   ],
   "source": [
    "# use this cell for the code that will draw the scatterplot\n",
    "\n",
    "colleges_table.scatter('sat-avg','cost-after-aid')"
   ]
  },
  {
   "cell_type": "markdown",
   "metadata": {},
   "source": [
    "I see a moderate to weak negatively linear relationship, where as average sat score increases, cost after aid decreases. I expect that this is due to lurking variables such as student intelligence. If we take the SAT to be a good measure of student intelligence, it makes sense that as their scores increase, schools may offer them more merit aid therefore reducing cost after aid. "
   ]
  },
  {
   "cell_type": "markdown",
   "metadata": {},
   "source": [
    "**Question 3.** Use the `Table` functions to construct a table that contains the colleges for which 'percent-receiving-aid' is greater than 0. Call this table 'aid_table'.\n",
    "\n",
    "Recall that this dataset has missing data points (for example, not all colleges report the percentage of students who receive aid), and the table you created has eliminated the colleges with no information on aid."
   ]
  },
  {
   "cell_type": "code",
   "execution_count": 122,
   "metadata": {
    "scrolled": true
   },
   "outputs": [
    {
     "data": {
      "text/html": [
       "<table border=\"1\" class=\"dataframe\">\n",
       "    <thead>\n",
       "        <tr>\n",
       "            <th>act-avg</th> <th>sat-avg</th> <th>enrollment</th> <th>acceptance-rate</th> <th>rankingDisplayScore</th> <th>percent-receiving-aid</th> <th>cost-after-aid</th> <th>tuition</th> <th>displayName</th> <th>overallRank</th> <th>institutionalControl</th>\n",
       "        </tr>\n",
       "    </thead>\n",
       "    <tbody>\n",
       "        <tr>\n",
       "            <td>32     </td> <td>1400   </td> <td>5400      </td> <td>7              </td> <td>100                </td> <td>60                   </td> <td>16793         </td> <td>47140  </td> <td>Princeton University                 </td> <td>1          </td> <td>private             </td>\n",
       "        </tr>\n",
       "        <tr>\n",
       "            <td>32     </td> <td>1430   </td> <td>6710      </td> <td>5              </td> <td>98                 </td> <td>55                   </td> <td>16338         </td> <td>48949  </td> <td>Harvard University                   </td> <td>2          </td> <td>private             </td>\n",
       "        </tr>\n",
       "        <tr>\n",
       "            <td>32     </td> <td>1450   </td> <td>5941      </td> <td>8              </td> <td>96                 </td> <td>42                   </td> <td>27767         </td> <td>54825  </td> <td>University of Chicago                </td> <td>3          </td> <td>private             </td>\n",
       "        </tr>\n",
       "        <tr>\n",
       "            <td>32     </td> <td>1420   </td> <td>5472      </td> <td>6              </td> <td>96                 </td> <td>50                   </td> <td>18385         </td> <td>51400  </td> <td>Yale University                      </td> <td>3          </td> <td>private             </td>\n",
       "        </tr>\n",
       "        <tr>\n",
       "            <td>32     </td> <td>1430   </td> <td>6113      </td> <td>6              </td> <td>95                 </td> <td>48                   </td> <td>21041         </td> <td>57208  </td> <td>Columbia University                  </td> <td>5          </td> <td>private             </td>\n",
       "        </tr>\n",
       "        <tr>\n",
       "            <td>33     </td> <td>1460   </td> <td>4524      </td> <td>8              </td> <td>95                 </td> <td>58                   </td> <td>20331         </td> <td>49892  </td> <td>Massachusetts Institute of Technology</td> <td>5          </td> <td>private             </td>\n",
       "        </tr>\n",
       "        <tr>\n",
       "            <td>31     </td> <td>1380   </td> <td>7034      </td> <td>5              </td> <td>95                 </td> <td>47                   </td> <td>19296         </td> <td>49617  </td> <td>Stanford University                  </td> <td>5          </td> <td>private             </td>\n",
       "        </tr>\n",
       "        <tr>\n",
       "            <td>32     </td> <td>1380   </td> <td>10019     </td> <td>9              </td> <td>93                 </td> <td>47                   </td> <td>25441         </td> <td>53534  </td> <td>University of Pennsylvania           </td> <td>8          </td> <td>private             </td>\n",
       "        </tr>\n",
       "        <tr>\n",
       "            <td>31     </td> <td>1380   </td> <td>6609      </td> <td>11             </td> <td>92                 </td> <td>41                   </td> <td>23374         </td> <td>53744  </td> <td>Duke University                      </td> <td>9          </td> <td>private             </td>\n",
       "        </tr>\n",
       "        <tr>\n",
       "            <td>34     </td> <td>1510   </td> <td>979       </td> <td>8              </td> <td>91                 </td> <td>51                   </td> <td>23973         </td> <td>49908  </td> <td>California Institute of Technology   </td> <td>10         </td> <td>private             </td>\n",
       "        </tr>\n",
       "    </tbody>\n",
       "</table>\n",
       "<p>... (133 rows omitted)</p>"
      ],
      "text/plain": [
       "act-avg | sat-avg | enrollment | acceptance-rate | rankingDisplayScore | percent-receiving-aid | cost-after-aid | tuition | displayName                           | overallRank | institutionalControl\n",
       "32      | 1400    | 5400       | 7               | 100                 | 60                    | 16793          | 47140   | Princeton University                  | 1           | private\n",
       "32      | 1430    | 6710       | 5               | 98                  | 55                    | 16338          | 48949   | Harvard University                    | 2           | private\n",
       "32      | 1450    | 5941       | 8               | 96                  | 42                    | 27767          | 54825   | University of Chicago                 | 3           | private\n",
       "32      | 1420    | 5472       | 6               | 96                  | 50                    | 18385          | 51400   | Yale University                       | 3           | private\n",
       "32      | 1430    | 6113       | 6               | 95                  | 48                    | 21041          | 57208   | Columbia University                   | 5           | private\n",
       "33      | 1460    | 4524       | 8               | 95                  | 58                    | 20331          | 49892   | Massachusetts Institute of Technology | 5           | private\n",
       "31      | 1380    | 7034       | 5               | 95                  | 47                    | 19296          | 49617   | Stanford University                   | 5           | private\n",
       "32      | 1380    | 10019      | 9               | 93                  | 47                    | 25441          | 53534   | University of Pennsylvania            | 8           | private\n",
       "31      | 1380    | 6609       | 11              | 92                  | 41                    | 23374          | 53744   | Duke University                       | 9           | private\n",
       "34      | 1510    | 979        | 8               | 91                  | 51                    | 23973          | 49908   | California Institute of Technology    | 10          | private\n",
       "... (133 rows omitted)"
      ]
     },
     "execution_count": 122,
     "metadata": {},
     "output_type": "execute_result"
    }
   ],
   "source": [
    "aid_table= colleges_table.where(colleges_table.column('percent-receiving-aid'), are.above(0))\n",
    "aid_table"
   ]
  },
  {
   "cell_type": "markdown",
   "metadata": {},
   "source": [
    "**Question 4.**  Calculate the proportion of students who receive aid in private universities. Similarly calculate the\n",
    "proportion of students who receive aid in public universities. (Hint: the answer will not come from directly averaging  the 'percent-receiving-aid' column)"
   ]
  },
  {
   "cell_type": "code",
   "execution_count": 123,
   "metadata": {
    "manual_grade": true,
    "manual_problem_id": "cfpb_complaints_4"
   },
   "outputs": [
    {
     "name": "stdout",
     "output_type": "stream",
     "text": [
      "47.71830985915493\n",
      "47.05555555555556\n"
     ]
    }
   ],
   "source": [
    "# use this cell to write the code that will output the two numbers\n",
    "private_aid_table = aid_table.where(aid_table.column('institutionalControl'), are.containing('private'))\n",
    "private_prop = sum(private_aid_table.column('percent-receiving-aid'))/(private_aid_table.num_rows)\n",
    "print(private_prop)\n",
    "\n",
    "public_aid_table = aid_table.where(aid_table.column('institutionalControl'), are.containing('public'))\n",
    "public_prop = sum(private_aid_table.column('percent-receiving-aid'))/(public_aid_table.num_rows)\n",
    "print(public_prop)\n"
   ]
  },
  {
   "cell_type": "markdown",
   "metadata": {},
   "source": [
    "**Question 5.** Construct a table with two rows (for private and public) and two columns: (i) first column should contain the strings 'public' and 'private'; (ii) second column should contain the percent of students receiving aid that you calculated in Question 4."
   ]
  },
  {
   "cell_type": "code",
   "execution_count": 124,
   "metadata": {},
   "outputs": [
    {
     "data": {
      "text/html": [
       "<table border=\"1\" class=\"dataframe\">\n",
       "    <thead>\n",
       "        <tr>\n",
       "            <th>Type of institution</th> <th>Percent of students recieving aid</th>\n",
       "        </tr>\n",
       "    </thead>\n",
       "    <tbody>\n",
       "        <tr>\n",
       "            <td>public             </td> <td>47.7                             </td>\n",
       "        </tr>\n",
       "        <tr>\n",
       "            <td>private            </td> <td>47.1                             </td>\n",
       "        </tr>\n",
       "    </tbody>\n",
       "</table>"
      ],
      "text/plain": [
       "Type of institution | Percent of students recieving aid\n",
       "public              | 47.7\n",
       "private             | 47.1"
      ]
     },
     "execution_count": 124,
     "metadata": {},
     "output_type": "execute_result"
    }
   ],
   "source": [
    "# code for constructing the table\n",
    "type_aid = Table().with_columns(\n",
    "    'Type of institution', make_array('public', 'private'),\n",
    "    'Percent of students recieving aid', make_array(47.7, 47.1)\n",
    ")\n",
    "type_aid"
   ]
  },
  {
   "cell_type": "markdown",
   "metadata": {},
   "source": [
    "**Question 6.** Make a bar chart that shows the aid information in the Question 5 table.\n",
    "\n",
    "**Note:** Graphs aren't very useful without accurate labels.  "
   ]
  },
  {
   "cell_type": "code",
   "execution_count": 125,
   "metadata": {},
   "outputs": [
    {
     "data": {
      "image/png": "[encoded data removed]",
      "text/plain": [
       "<matplotlib.figure.Figure at 0x11d93d9e8>"
      ]
     },
     "metadata": {},
     "output_type": "display_data"
    }
   ],
   "source": [
    "# the bar chart\n",
    "type_aid.barh('Type of institution', 'Percent of students recieving aid')\n"
   ]
  },
  {
   "cell_type": "markdown",
   "metadata": {},
   "source": [
    "## 4. Marginal Histograms (5 points)\n"
   ]
  },
  {
   "attachments": {
    "scatter.png": {
     "image/png": "[encoded data removed]"
    }
   },
   "cell_type": "markdown",
   "metadata": {},
   "source": [
    "Consider the following scatter plot: ![scatter.png](attachment:scatter.png)\n",
    "\n",
    "The axes of the plot represent values of two variables: $x$ and $y$. "
   ]
  },
  {
   "cell_type": "markdown",
   "metadata": {},
   "source": [
    "Suppose we have a table called `t` that has two columns in it:\n",
    "\n",
    "- `x`: a column containing the x-values of the points in the scatter plot\n",
    "- `y`: a column containing the y-values of the points in the scatter plot"
   ]
  },
  {
   "cell_type": "markdown",
   "metadata": {},
   "source": [
    "**Question 1:** Match each of the following lines of code to the histograms they produce. Explain your reasoning.\n",
    "\n",
    "**Line 1:** `t.hist('x')` \n",
    "\n",
    "**Line 2:** `t.hist('y')` \n"
   ]
  },
  {
   "attachments": {
    "var1.png": {
     "image/png": "[encoded data removed]"
    },
    "var2.png": {
     "image/png": "[encoded data removed]"
    }
   },
   "cell_type": "markdown",
   "metadata": {},
   "source": [
    "**Histogram A:** ![var1.png](attachment:var1.png)\n",
    "**Histogram B:** ![var2.png](attachment:var2.png)"
   ]
  },
  {
   "cell_type": "markdown",
   "metadata": {
    "for_assignment_type": "student"
   },
   "source": [
    "**Histogram for Line 1:** Histogram B\n",
    "\n",
    "**Explanation:** The points are fairly evenly distributed on the x axis where the values of x range from -3 to 3 with points at almost all numbers especially between -1 and 0. Histogram B reflects this normal distribution of data with the correct concentration of data."
   ]
  },
  {
   "cell_type": "markdown",
   "metadata": {
    "for_assignment_type": "student"
   },
   "source": [
    "**Histogram for Line 2:** Histogram A\n",
    "\n",
    "**Explanation:** The points are clustered between -1.5 and -.5 and between .5 and 1.5 on the y axis. This is reflected in a bimodal chart in Histogram A as that is where the data is clustered percentage and density wise."
   ]
  },
  {
   "cell_type": "code",
   "execution_count": null,
   "metadata": {},
   "outputs": [],
   "source": []
  }
 ],
 "metadata": {
  "kernelspec": {
   "display_name": "Python 3",
   "language": "python",
   "name": "python3"
  },
  "language_info": {
   "codemirror_mode": {
    "name": "ipython",
    "version": 3
   },
   "file_extension": ".py",
   "mimetype": "text/x-python",
   "name": "python",
   "nbconvert_exporter": "python",
   "pygments_lexer": "ipython3",
   "version": "3.6.4"
  }
 },
 "nbformat": 4,
 "nbformat_minor": 1
}
