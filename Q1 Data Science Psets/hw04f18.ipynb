{
 "cells": [
  {
   "cell_type": "markdown",
   "metadata": {},
   "source": [
    "# Homework 4: Functions, Histograms, and Sampling"
   ]
  },
  {
   "cell_type": "markdown",
   "metadata": {},
   "source": [
    "**Reading**: Textbook chapters [7](https://www.inferentialthinking.com/chapters/07/Visualization), [8](https://www.inferentialthinking.com/chapters/08/functions-and-tables.html), and [9](https://www.inferentialthinking.com/chapters/09/Randomness) (Sections 9.1-9.3)"
   ]
  },
  {
   "cell_type": "markdown",
   "metadata": {},
   "source": [
    "Please complete this notebook by filling in the cells provided. Before you begin, execute the following cell to load the provided tests. Each time you start your server, you will need to execute this cell again to load the tests.  Homework 4 is due Wednesday, 10/31 at 2pm. Late work will not be accepted.  \n",
    "\n",
    "NOTE: This homework uses data files of over a 1MB which might slow things down a bit depending on what system you run it on."
   ]
  },
  {
   "cell_type": "code",
   "execution_count": 24,
   "metadata": {},
   "outputs": [],
   "source": [
    "# Don't change this cell; just run it. \n",
    "\n",
    "import numpy as np\n",
    "from datascience import *\n",
    "\n",
    "# These lines do some fancy plotting magic.\\n\",\n",
    "import matplotlib\n",
    "%matplotlib inline\n",
    "import matplotlib.pyplot as plots\n",
    "plots.style.use('fivethirtyeight')"
   ]
  },
  {
   "cell_type": "markdown",
   "metadata": {},
   "source": [
    "## 1. Working with Text using Functions (15 points)\n"
   ]
  },
  {
   "cell_type": "markdown",
   "metadata": {},
   "source": [
    "The following table contains the words from four chapters of Charles Dickens' [*A Tale of Two Cities*](http://www.gutenberg.org/cache/epub/98/pg98.txt).  We're going to compute some simple facts about each chapter.  Since we're performing the same computation on each chapter, it's best to encapsulate each computational procedure in a function, and then call the function several times. Run the cell below to create a table with one column."
   ]
  },
  {
   "cell_type": "code",
   "execution_count": 2,
   "metadata": {},
   "outputs": [
    {
     "data": {
      "text/html": [
       "<table border=\"1\" class=\"dataframe\">\n",
       "    <thead>\n",
       "        <tr>\n",
       "            <th>Chapter text</th>\n",
       "        </tr>\n",
       "    </thead>\n",
       "    <tbody>\n",
       "        <tr>\n",
       "            <td>I. The Period\n",
       "\n",
       "It was the best of times,\n",
       "it was the wors ...</td>\n",
       "        </tr>\n",
       "        <tr>\n",
       "            <td>II. The Mail\n",
       "\n",
       "\n",
       "It was the Dover road that lay, on a Frid ...</td>\n",
       "        </tr>\n",
       "        <tr>\n",
       "            <td>III. The Night Shadows\n",
       "\n",
       "\n",
       "A wonderful fact to reflect upo ...</td>\n",
       "        </tr>\n",
       "        <tr>\n",
       "            <td>IV. The Preparation\n",
       "\n",
       "\n",
       "When the mail got successfully to  ...</td>\n",
       "        </tr>\n",
       "    </tbody>\n",
       "</table>"
      ],
      "text/plain": [
       "Chapter text\n",
       "I. The Period\n",
       "\n",
       "It was the best of times,\n",
       "it was the wors ...\n",
       "II. The Mail\n",
       "\n",
       "\n",
       "It was the Dover road that lay, on a Frid ...\n",
       "III. The Night Shadows\n",
       "\n",
       "\n",
       "A wonderful fact to reflect upo ...\n",
       "IV. The Preparation\n",
       "\n",
       "\n",
       "When the mail got successfully to  ..."
      ]
     },
     "execution_count": 2,
     "metadata": {},
     "output_type": "execute_result"
    }
   ],
   "source": [
    "# Just run this cell to load the data.\n",
    "tale_chapters = Table.read_table(\"tale.csv\")\n",
    "tale_chapters"
   ]
  },
  {
   "cell_type": "markdown",
   "metadata": {},
   "source": [
    "**Question 1.** Write a function called `word_count` that takes a single argument, the text of a single chapter, and returns the number of words in that chapter.  Assume that words are separated from each other by spaces. \n",
    "\n",
    "*Hint:* Try the string method [`split`](https://docs.python.org/3/library/stdtypes.html#str.split) and the function [`len`](https://docs.python.org/3/library/functions.html#len)."
   ]
  },
  {
   "cell_type": "code",
   "execution_count": 3,
   "metadata": {
    "for_assignment_type": "student"
   },
   "outputs": [
    {
     "data": {
      "text/plain": [
       "911"
      ]
     },
     "execution_count": 3,
     "metadata": {},
     "output_type": "execute_result"
    }
   ],
   "source": [
    "def word_count(tale_chapter):\n",
    "    return len(tale_chapter.split(\" \"))\n",
    "word_count(tale_chapters.column(\"Chapter text\").item(0))"
   ]
  },
  {
   "cell_type": "markdown",
   "metadata": {},
   "source": [
    "**Question 2.** Use the `apply` function on the table from before to create an array called `chapter_lengths` which contains the length of each chapter in `tale_chapters`."
   ]
  },
  {
   "cell_type": "code",
   "execution_count": 4,
   "metadata": {},
   "outputs": [
    {
     "data": {
      "text/plain": [
       "array([ 911, 1827, 1468, 3994])"
      ]
     },
     "execution_count": 4,
     "metadata": {},
     "output_type": "execute_result"
    }
   ],
   "source": [
    "chapter_lengths = tale_chapters.apply(word_count,'Chapter text')\n",
    "chapter_lengths"
   ]
  },
  {
   "cell_type": "markdown",
   "metadata": {},
   "source": [
    "**Question 3.** Write a function called `character_count`.  It should take a string as its argument and return the number of characters in that string that aren't spaces (\" \"), periods (\".\"), exclamation marks (\"!\"), or question marks (\"?\"). Remember that `tale_chapters` is a table, and that the function takes in only the text of one chapter as input.\n",
    "\n",
    "*Hint:* Try using the string method `replace` several times to remove the characters we don't want to count."
   ]
  },
  {
   "cell_type": "code",
   "execution_count": 5,
   "metadata": {
    "for_assignment_type": "student"
   },
   "outputs": [
    {
     "data": {
      "text/plain": [
       "3"
      ]
     },
     "execution_count": 5,
     "metadata": {},
     "output_type": "execute_result"
    }
   ],
   "source": [
    "def character_count(input_str):\n",
    "    a=input_str.replace(\" \", \"\")\n",
    "    b=a.replace(\".\",\"\")\n",
    "    c=b.replace(\"!\",\"\")\n",
    "    d=c.replace(\"?\",\"\")\n",
    "    return len(d)\n",
    "character_count(\"ABC... !?!\")"
   ]
  },
  {
   "cell_type": "markdown",
   "metadata": {},
   "source": [
    "**Question 4.** Write a function called `chapter_number`.  It should take a single argument, the text of a chapter from our dataset, and return the number of that chapter, as a Roman numeral.  (For example, it should return the string \"I\" for the first chapter and \"II\" for the second.)  If the argument doesn't have a chapter number in the same place as the chapters in our dataset, `chapter_number` can return whatever you like."
   ]
  },
  {
   "cell_type": "code",
   "execution_count": 6,
   "metadata": {},
   "outputs": [
    {
     "data": {
      "text/plain": [
       "'IV'"
      ]
     },
     "execution_count": 6,
     "metadata": {},
     "output_type": "execute_result"
    }
   ],
   "source": [
    "def chapter_number(full_text):\n",
    "    return full_text[0:int(full_text.find('.'))]\n",
    "chapter_number(\"IV. The Period It was the best of times, it was the world\")"
   ]
  },
  {
   "cell_type": "markdown",
   "metadata": {
    "deletable": false,
    "manual_problem_id": "faculty_1",
    "scrolled": true
   },
   "source": [
    "**Question 5**. Write a command that creates a table that has a single column labled \"Ch\" that contains the Roman numeral for each of the chapters in our book."
   ]
  },
  {
   "cell_type": "code",
   "execution_count": 7,
   "metadata": {},
   "outputs": [
    {
     "data": {
      "text/html": [
       "<table border=\"1\" class=\"dataframe\">\n",
       "    <thead>\n",
       "        <tr>\n",
       "            <th>Ch</th>\n",
       "        </tr>\n",
       "    </thead>\n",
       "    <tbody>\n",
       "        <tr>\n",
       "            <td>I   </td>\n",
       "        </tr>\n",
       "        <tr>\n",
       "            <td>II  </td>\n",
       "        </tr>\n",
       "        <tr>\n",
       "            <td>III </td>\n",
       "        </tr>\n",
       "        <tr>\n",
       "            <td>IV  </td>\n",
       "        </tr>\n",
       "    </tbody>\n",
       "</table>"
      ],
      "text/plain": [
       "Ch\n",
       "I\n",
       "II\n",
       "III\n",
       "IV"
      ]
     },
     "execution_count": 7,
     "metadata": {},
     "output_type": "execute_result"
    }
   ],
   "source": [
    "tale_chapters = Table.read_table(\"tale.csv\")\n",
    "allChapNumbers=[]\n",
    "for chapter in tale_chapters.column(\"Chapter text\"):\n",
    "    allChapNumbers.append(chapter_number(chapter))\n",
    "t=Table().with_column(\"Ch\", allChapNumbers)\n",
    "t\n"
   ]
  },
  {
   "cell_type": "markdown",
   "metadata": {},
   "source": [
    "## 2. Uber (20 points)\n"
   ]
  },
  {
   "cell_type": "markdown",
   "metadata": {},
   "source": [
    "Below we load tables containing 200,000 weekday Uber rides in the Manila, Philippines, and Boston, Massachusetts metropolitan areas from the [Uber Movement](https://movement.uber.com) project. The `sourceid` and `dstid` columns contain codes corresponding to start and end locations of each ride. The `hod` column in each table represents the hour of the day during which the Uber was called. 0 corresponds to 12-1 AM, 1 to 1-2 AM, 13 to 1-2 PM, etc. The `ride time` table contains the length of the ride, in minutes."
   ]
  },
  {
   "cell_type": "code",
   "execution_count": 27,
   "metadata": {
    "for_question_type": "solution",
    "scrolled": true
   },
   "outputs": [
    {
     "name": "stdout",
     "output_type": "stream",
     "text": [
      "Boston\n"
     ]
    },
    {
     "data": {
      "text/html": [
       "<table border=\"1\" class=\"dataframe\">\n",
       "    <thead>\n",
       "        <tr>\n",
       "            <th>sourceid</th> <th>dstid</th> <th>hod</th> <th>ride time</th>\n",
       "        </tr>\n",
       "    </thead>\n",
       "    <tbody>\n",
       "        <tr>\n",
       "            <td>584     </td> <td>33   </td> <td>7   </td> <td>11.866   </td>\n",
       "        </tr>\n",
       "        <tr>\n",
       "            <td>1013    </td> <td>1116 </td> <td>13  </td> <td>17.7993  </td>\n",
       "        </tr>\n",
       "        <tr>\n",
       "            <td>884     </td> <td>1190 </td> <td>22  </td> <td>19.3488  </td>\n",
       "        </tr>\n",
       "        <tr>\n",
       "            <td>211     </td> <td>364  </td> <td>1   </td> <td>1.7235   </td>\n",
       "        </tr>\n",
       "    </tbody>\n",
       "</table>\n",
       "<p>... (199996 rows omitted)</p>"
      ],
      "text/plain": [
       "<IPython.core.display.HTML object>"
      ]
     },
     "metadata": {},
     "output_type": "display_data"
    },
    {
     "name": "stdout",
     "output_type": "stream",
     "text": [
      "Manila\n"
     ]
    },
    {
     "data": {
      "text/html": [
       "<table border=\"1\" class=\"dataframe\">\n",
       "    <thead>\n",
       "        <tr>\n",
       "            <th>sourceid</th> <th>dstid</th> <th>hod</th> <th>ride time</th>\n",
       "        </tr>\n",
       "    </thead>\n",
       "    <tbody>\n",
       "        <tr>\n",
       "            <td>544     </td> <td>5    </td> <td>22  </td> <td>22.8115  </td>\n",
       "        </tr>\n",
       "        <tr>\n",
       "            <td>302     </td> <td>240  </td> <td>21  </td> <td>7.02267  </td>\n",
       "        </tr>\n",
       "        <tr>\n",
       "            <td>278     </td> <td>99   </td> <td>16  </td> <td>21.6437  </td>\n",
       "        </tr>\n",
       "        <tr>\n",
       "            <td>720     </td> <td>775  </td> <td>18  </td> <td>13.0597  </td>\n",
       "        </tr>\n",
       "    </tbody>\n",
       "</table>\n",
       "<p>... (199996 rows omitted)</p>"
      ],
      "text/plain": [
       "<IPython.core.display.HTML object>"
      ]
     },
     "metadata": {},
     "output_type": "display_data"
    }
   ],
   "source": [
    "boston = Table.read_table(\"boston.csv\")\n",
    "manila = Table.read_table(\"manila.csv\")\n",
    "print(\"Boston\")\n",
    "boston.show(4)\n",
    "print(\"Manila\")\n",
    "manila.show(4)"
   ]
  },
  {
   "cell_type": "markdown",
   "metadata": {},
   "source": [
    "**Question 1.**\n",
    "Produce histograms of all ride times in Boston and in Manila, using the given bins. Please put the code for both of them in the following cell, and put the ride times for Boston first.  "
   ]
  },
  {
   "cell_type": "code",
   "execution_count": 28,
   "metadata": {
    "deletable": false,
    "manual_problem_id": "uber_1"
   },
   "outputs": [
    {
     "data": {
      "text/plain": [
       "Text(0.5,1,'Ride Times')"
      ]
     },
     "execution_count": 28,
     "metadata": {},
     "output_type": "execute_result"
    },
    {
     "data": {
      "image/png": "[encoded data removed]",
      "text/plain": [
       "<matplotlib.figure.Figure at 0x1127b2b70>"
      ]
     },
     "metadata": {},
     "output_type": "display_data"
    }
   ],
   "source": [
    "time_bins = np.arange(0, 120, 5)\n",
    "plots.hist(boston[\"ride time\"],time_bins)\n",
    "plots.hist(manila[\"ride time\"],time_bins)\n",
    "plots.title('Ride Times')"
   ]
  },
  {
   "cell_type": "markdown",
   "metadata": {},
   "source": [
    "** Question 2.** Set the two variables below to estimates of what percentage of rides are less than 10 minutes in Boston and Manila. Find your estimates by visually assessing the histograms. "
   ]
  },
  {
   "cell_type": "code",
   "execution_count": 37,
   "metadata": {
    "deletable": false,
    "manual_problem_id": "uber_2"
   },
   "outputs": [],
   "source": [
    "boston_under_10 = sum(boston.where(boston.column('ride time'), are.below(10)).column('ride time'))/sum(boston.column('ride time'))\n",
    "manila_under_10 = sum(manila.where(manila.column('ride time'), are.below(10)).column('ride time'))/sum(manila.column('ride time'))"
   ]
  },
  {
   "cell_type": "markdown",
   "metadata": {},
   "source": [
    "**Question 3.** Comment on the main difference between the two histograms. What might be causing this?"
   ]
  },
  {
   "cell_type": "markdown",
   "metadata": {
    "deletable": false,
    "for_assignment_type": "student",
    "manual_problem_id": "uber_3"
   },
   "source": [
    "**Type Your Answer Here**: The main difference between the histograms is that the proportion of rides that are between 0 and 30ish minutes is far greater for boston than in manila. This could be that boston is a city and more people are communting within the city whereas people are taking longer trips in manila. "
   ]
  },
  {
   "cell_type": "markdown",
   "metadata": {},
   "source": [
    "**Question 4**. Draw a line graph that shows the number of rides (y-axis) vs hour of day (x-axis) for both cities (one line for each)."
   ]
  },
  {
   "cell_type": "code",
   "execution_count": 50,
   "metadata": {},
   "outputs": [
    {
     "data": {
      "image/png": "[encoded data removed]",
      "text/plain": [
       "<matplotlib.figure.Figure at 0x1a1dcc9a20>"
      ]
     },
     "metadata": {},
     "output_type": "display_data"
    },
    {
     "data": {
      "image/png": "[encoded data removed]",
      "text/plain": [
       "<matplotlib.figure.Figure at 0x1a1e945c88>"
      ]
     },
     "metadata": {},
     "output_type": "display_data"
    }
   ],
   "source": [
    "boston.plot('hod', 'ride time')\n",
    "manila.plot('hod', 'ride time')"
   ]
  },
  {
   "cell_type": "markdown",
   "metadata": {},
   "source": [
    "**Question 5.**  Write a function that takes in a table like `boston` or `manila`, and an `hod` number between 0 and 23, and displays a histogram of ride lengths from that hour in that city. Use the same bins as in Question 1."
   ]
  },
  {
   "cell_type": "code",
   "execution_count": 39,
   "metadata": {
    "deletable": false,
    "for_assignment_type": "student"
   },
   "outputs": [
    {
     "data": {
      "image/png": "[encoded data removed]",
      "text/plain": [
       "<matplotlib.figure.Figure at 0x113469e80>"
      ]
     },
     "metadata": {},
     "output_type": "display_data"
    }
   ],
   "source": [
    "def hist_for_time(tbl, hod):\n",
    "    time_bins = np.arange(0, 120, 5)\n",
    "    sub_tbl = tbl.where(tbl.column('hod'), are.equal_to(hod))\n",
    "    plots.hist(sub_tbl[\"ride time\"],time_bins)\n",
    "\n",
    "#DO NOT DELETE THIS LINE! \n",
    "hist_for_time(boston, 12)"
   ]
  },
  {
   "cell_type": "markdown",
   "metadata": {},
   "source": [
    "**Question 6.** Between the two cities, which has a larger difference in ride times between Uber calls at 10 AM and 10 PM? You can use the function you just created to answer this question.  What might explain this? (show the code you ran in the first cell below and your text answer in the second)."
   ]
  },
  {
   "cell_type": "code",
   "execution_count": 51,
   "metadata": {
    "deletable": false,
    "for_assignment_type": "student",
    "manual_problem_id": "manual_grading"
   },
   "outputs": [
    {
     "data": {
      "image/png": "[encoded data removed]",
      "text/plain": [
       "<matplotlib.figure.Figure at 0x1a2bc14710>"
      ]
     },
     "metadata": {},
     "output_type": "display_data"
    }
   ],
   "source": [
    "#Analysis code goes here\n",
    "\n",
    "# hist_for_time(boston, 22)\n",
    "# hist_for_time(boston, 10)\n",
    "\n",
    "hist_for_time(manila, 22)\n",
    "hist_for_time(manila, 10)"
   ]
  },
  {
   "cell_type": "markdown",
   "metadata": {},
   "source": [
    "Manila has a larger difference in ride times. This could be explained by the difference of when people culturally call ubers. It may be more common to call an uber to get to work at 10am rather than 10pm. Also, perhaps there is a general attitude of being at home at 10pm rather than out, hence less rides. Less people out at night means less ubers needed at night."
   ]
  },
  {
   "cell_type": "markdown",
   "metadata": {},
   "source": [
    "## 3. Earthquakes (15 points)"
   ]
  },
  {
   "cell_type": "markdown",
   "metadata": {},
   "source": [
    "The next cell loads a table containing information about every earthquake above a magnitude of 4.5 in 2017, compiled by the US Geological Survey. (source: https://earthquake.usgs.gov/earthquakes/search/)"
   ]
  },
  {
   "cell_type": "code",
   "execution_count": 11,
   "metadata": {},
   "outputs": [
    {
     "data": {
      "text/html": [
       "<table border=\"1\" class=\"dataframe\">\n",
       "    <thead>\n",
       "        <tr>\n",
       "            <th>time</th> <th>mag</th> <th>place</th>\n",
       "        </tr>\n",
       "    </thead>\n",
       "    <tbody>\n",
       "        <tr>\n",
       "            <td>2017-12-31T23:48:50.980Z</td> <td>4.8 </td> <td>30km SSE of Pagan, Northern Mariana Islands      </td>\n",
       "        </tr>\n",
       "        <tr>\n",
       "            <td>2017-12-31T20:59:02.500Z</td> <td>5.1 </td> <td>Southern East Pacific Rise                       </td>\n",
       "        </tr>\n",
       "        <tr>\n",
       "            <td>2017-12-31T20:27:49.450Z</td> <td>5.2 </td> <td>Chagos Archipelago region                        </td>\n",
       "        </tr>\n",
       "        <tr>\n",
       "            <td>2017-12-31T19:42:41.250Z</td> <td>4.6 </td> <td>18km NE of Hasaki, Japan                         </td>\n",
       "        </tr>\n",
       "        <tr>\n",
       "            <td>2017-12-31T16:02:59.920Z</td> <td>4.5 </td> <td>Western Xizang                                   </td>\n",
       "        </tr>\n",
       "        <tr>\n",
       "            <td>2017-12-31T15:50:22.510Z</td> <td>4.5 </td> <td>156km SSE of Longyearbyen, Svalbard and Jan Mayen</td>\n",
       "        </tr>\n",
       "        <tr>\n",
       "            <td>2017-12-31T14:53:32.590Z</td> <td>5.1 </td> <td>41km S of Daliao, Philippines                    </td>\n",
       "        </tr>\n",
       "        <tr>\n",
       "            <td>2017-12-31T14:51:58.200Z</td> <td>5.1 </td> <td>132km SSW of Lata, Solomon Islands               </td>\n",
       "        </tr>\n",
       "        <tr>\n",
       "            <td>2017-12-31T12:24:13.150Z</td> <td>4.6 </td> <td>79km SSW of Hirara, Japan                        </td>\n",
       "        </tr>\n",
       "        <tr>\n",
       "            <td>2017-12-31T04:02:18.500Z</td> <td>4.8 </td> <td>10km W of Korini, Greece                         </td>\n",
       "        </tr>\n",
       "    </tbody>\n",
       "</table>\n",
       "<p>... (6350 rows omitted)</p>"
      ],
      "text/plain": [
       "time                     | mag  | place\n",
       "2017-12-31T23:48:50.980Z | 4.8  | 30km SSE of Pagan, Northern Mariana Islands\n",
       "2017-12-31T20:59:02.500Z | 5.1  | Southern East Pacific Rise\n",
       "2017-12-31T20:27:49.450Z | 5.2  | Chagos Archipelago region\n",
       "2017-12-31T19:42:41.250Z | 4.6  | 18km NE of Hasaki, Japan\n",
       "2017-12-31T16:02:59.920Z | 4.5  | Western Xizang\n",
       "2017-12-31T15:50:22.510Z | 4.5  | 156km SSE of Longyearbyen, Svalbard and Jan Mayen\n",
       "2017-12-31T14:53:32.590Z | 5.1  | 41km S of Daliao, Philippines\n",
       "2017-12-31T14:51:58.200Z | 5.1  | 132km SSW of Lata, Solomon Islands\n",
       "2017-12-31T12:24:13.150Z | 4.6  | 79km SSW of Hirara, Japan\n",
       "2017-12-31T04:02:18.500Z | 4.8  | 10km W of Korini, Greece\n",
       "... (6350 rows omitted)"
      ]
     },
     "execution_count": 11,
     "metadata": {},
     "output_type": "execute_result"
    }
   ],
   "source": [
    "earthquakes = Table().read_table('earthquakes_2017.csv').select(['time', 'mag', 'place'])\n",
    "earthquakes"
   ]
  },
  {
   "cell_type": "markdown",
   "metadata": {},
   "source": [
    "There are a lot of earthquakes that occured over the year 2017 that are of interest, and generally, we won't have access to this large population. Instead, if we sample correctly, we can take a small subsample of earthquakes in this year to get an idea about the distribution of magnitudes throughout the year!"
   ]
  },
  {
   "cell_type": "markdown",
   "metadata": {},
   "source": [
    "**Question 1**. In the following lines of code, we take two different samples from the earthquake table, and calculate the mean of the magnitudes of these earthquakes. Are these samples representative of the population of earthquakes in the original table (that is, the should we expect the mean to be close to the population mean)?   Justify your answer and state any assumptions you are making.\n",
    "\n",
    "**Hint**: Consider the ordering of the earthquakes table."
   ]
  },
  {
   "cell_type": "code",
   "execution_count": 15,
   "metadata": {},
   "outputs": [
    {
     "data": {
      "text/plain": [
       "[6.422999999999999, 4.8]"
      ]
     },
     "execution_count": 15,
     "metadata": {},
     "output_type": "execute_result"
    }
   ],
   "source": [
    "sample1 = earthquakes.sort('mag', descending = True).take(np.arange(100))\n",
    "sample1_magnitude_mean = np.mean(sample1.column('mag'))\n",
    "sample2 = earthquakes.take(100)\n",
    "sample2_magnitude_mean = np.mean(sample2.column('mag'))\n",
    "[sample1_magnitude_mean, sample2_magnitude_mean]"
   ]
  },
  {
   "cell_type": "markdown",
   "metadata": {},
   "source": [
    "We want a representative sample of the population to be chosen randomly from the population. The first sample is not random, as it is sorted by magnitude. Therefore, taking the first 100 are the 100 largest in magnitude. It is not representative of all the earthquakes. This sample mean will be significantly larger than the population mean and I do not expect it to be close. \n",
    "\n",
    "\n",
    "The second sample is also not completely random as it takes the first 100 rows in the table. Looking at the table, it seems that the table is ordered in decreasing order by time. There may be some inherent bias in earthquakes during certain times of the year. But, for the sake of this question, I'm going to assume that the time of year does not afffect magnitude at all. So, this sample mean will be closer to the population mean as there is random variation in magnitude and place in the first 100.\n",
    "\n",
    "Ultimately, I would suggest taking a random sample from the population across time, magnitudes, and place to get a sample mean close to the true population mean.\n"
   ]
  },
  {
   "cell_type": "markdown",
   "metadata": {},
   "source": [
    "**Question 2.** Write code producing a sample of size 500 that represents the population, then take the mean of the magnitudes of the earthquakes in this sample. Assign these to `representative_sample` and `representative_mean` respectively. "
   ]
  },
  {
   "cell_type": "code",
   "execution_count": null,
   "metadata": {},
   "outputs": [],
   "source": [
    "representative_sample = earthquakes.take(np.arange(500))\n",
    "representative_mean = np.mean(representative_sample.column('mag'))\n",
    "representative_mean"
   ]
  },
  {
   "cell_type": "markdown",
   "metadata": {},
   "source": [
    "**Question 3.** Suppose we want to figure out what the biggest magnitude earthquake was in 2017, but we are tasked with doing this only with a sample of 500 from the earthquakes table. \n",
    "\n",
    "To determine whether trying to find the biggest magnitude from a sample is a plausible idea, write code that simulates the maximum of a random sample of size 500 from the `earthquakes` table 5000 times. Assign your array of maximums to `maximums`. "
   ]
  },
  {
   "cell_type": "code",
   "execution_count": 16,
   "metadata": {},
   "outputs": [],
   "source": [
    "maximums = []\n",
    "for i in np.arange(5000): \n",
    "    maximums.append(max(np.random.choice(earthquakes.column('mag'), 500)))"
   ]
  },
  {
   "cell_type": "code",
   "execution_count": 17,
   "metadata": {},
   "outputs": [
    {
     "data": {
      "image/png": "[encoded data removed]",
      "text/plain": [
       "<matplotlib.figure.Figure at 0x1120944e0>"
      ]
     },
     "metadata": {},
     "output_type": "display_data"
    }
   ],
   "source": [
    "#Plot a Histogram of your maximums using the code below\n",
    "plots.hist(maximums)\n",
    "plots.title('Largest magnitude in sample')\n",
    "plots.show() "
   ]
  },
  {
   "cell_type": "markdown",
   "metadata": {},
   "source": [
    "**Question 4.** Find the magnitude of the (actual) strongest earthquake in 2017 to help you determine your answer."
   ]
  },
  {
   "cell_type": "code",
   "execution_count": 18,
   "metadata": {},
   "outputs": [
    {
     "data": {
      "text/plain": [
       "8.2"
      ]
     },
     "execution_count": 18,
     "metadata": {},
     "output_type": "execute_result"
    }
   ],
   "source": [
    "strongest_earthquake_magnitude = max(earthquakes.column('mag'))\n",
    "strongest_earthquake_magnitude"
   ]
  },
  {
   "cell_type": "markdown",
   "metadata": {},
   "source": [
    "**Question 5**. Based on your experiment above, is a random sample of size 500 likely to help you determine the largest magnitude earthquake in the population?  Why or why not? "
   ]
  },
  {
   "cell_type": "markdown",
   "metadata": {},
   "source": [
    "It's unlikely to help you determine the largest. The largest earthquake is likely to be an outlier, while there are many 4,5 magnitude earthquakes, there is only one largest, and very few large earthquakes. Therefore, our samples of 500 are unlikely to capture that highest magnitude earthquake in most of its samples. \n",
    "\n",
    "For example, in our histogram of maxes, the most common max was between 6.5 and 7, seconded by closer to 7.5. The highest magnitude, 8.2, was captured less often and not for most of the samples. The random sample size of 500 will not help determine the largest magnitude in the population. "
   ]
  },
  {
   "cell_type": "code",
   "execution_count": null,
   "metadata": {},
   "outputs": [],
   "source": []
  }
 ],
 "metadata": {
  "kernelspec": {
   "display_name": "Python 3",
   "language": "python",
   "name": "python3"
  },
  "language_info": {
   "codemirror_mode": {
    "name": "ipython",
    "version": 3
   },
   "file_extension": ".py",
   "mimetype": "text/x-python",
   "name": "python",
   "nbconvert_exporter": "python",
   "pygments_lexer": "ipython3",
   "version": "3.6.4"
  }
 },
 "nbformat": 4,
 "nbformat_minor": 1
}
