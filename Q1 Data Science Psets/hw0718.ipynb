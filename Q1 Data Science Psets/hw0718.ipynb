{
 "cells": [
  {
   "cell_type": "markdown",
   "metadata": {},
   "source": [
    "# Homework 7: A/B testing and fuzzy matching (50 points)\n",
    "\n",
    "**Reading**: Textbook chapter [12](https://www.inferentialthinking.com/chapters/12/Comparing_Two_Samples) .\n",
    "\n",
    "Please complete this notebook by filling in the cells provided. Before you begin, execute the following cell to load the needed functions. Each time you start your server, you will need to execute this cell again to load them.  \n",
    "\n",
    "Homework 7 is due Wednesday, 12/05 at 2:00pm. Late work will not be accepted.  "
   ]
  },
  {
   "cell_type": "code",
   "execution_count": 23,
   "metadata": {},
   "outputs": [],
   "source": [
    "# Don't change this cell; just run it. \n",
    "\n",
    "import numpy as np\n",
    "from datascience import *\n",
    "import matplotlib\n",
    "%matplotlib inline\n",
    "import matplotlib.pyplot as plots\n",
    "plots.style.use('fivethirtyeight')"
   ]
  },
  {
   "cell_type": "markdown",
   "metadata": {},
   "source": [
    "## 1. Birth weight data (25 points)##\n",
    "\n",
    "We discussed in class a dataset that contains the following variables for 1,174 mother-baby pairs: the baby’s birth weight in ounces, the number of gestational days, the mother’s age in completed years, the mother’s height in inches, pregnancy weight in pounds, and whether or not the mother smoked during pregnancy.  The code to read the data is in the next cell, and the data file is on Canvas.\n"
   ]
  },
  {
   "cell_type": "code",
   "execution_count": 24,
   "metadata": {},
   "outputs": [
    {
     "data": {
      "text/html": [
       "<table border=\"1\" class=\"dataframe\">\n",
       "    <thead>\n",
       "        <tr>\n",
       "            <th>Birth Weight</th> <th>Gestational Days</th> <th>Maternal Age</th> <th>Maternal Height</th> <th>Maternal Pregnancy Weight</th> <th>Maternal Smoker</th>\n",
       "        </tr>\n",
       "    </thead>\n",
       "    <tbody>\n",
       "        <tr>\n",
       "            <td>120         </td> <td>284             </td> <td>27          </td> <td>62             </td> <td>100                      </td> <td>False          </td>\n",
       "        </tr>\n",
       "        <tr>\n",
       "            <td>113         </td> <td>282             </td> <td>33          </td> <td>64             </td> <td>135                      </td> <td>False          </td>\n",
       "        </tr>\n",
       "        <tr>\n",
       "            <td>128         </td> <td>279             </td> <td>28          </td> <td>64             </td> <td>115                      </td> <td>True           </td>\n",
       "        </tr>\n",
       "        <tr>\n",
       "            <td>108         </td> <td>282             </td> <td>23          </td> <td>67             </td> <td>125                      </td> <td>True           </td>\n",
       "        </tr>\n",
       "        <tr>\n",
       "            <td>136         </td> <td>286             </td> <td>25          </td> <td>62             </td> <td>93                       </td> <td>False          </td>\n",
       "        </tr>\n",
       "        <tr>\n",
       "            <td>138         </td> <td>244             </td> <td>33          </td> <td>62             </td> <td>178                      </td> <td>False          </td>\n",
       "        </tr>\n",
       "        <tr>\n",
       "            <td>132         </td> <td>245             </td> <td>23          </td> <td>65             </td> <td>140                      </td> <td>False          </td>\n",
       "        </tr>\n",
       "        <tr>\n",
       "            <td>120         </td> <td>289             </td> <td>25          </td> <td>62             </td> <td>125                      </td> <td>False          </td>\n",
       "        </tr>\n",
       "        <tr>\n",
       "            <td>143         </td> <td>299             </td> <td>30          </td> <td>66             </td> <td>136                      </td> <td>True           </td>\n",
       "        </tr>\n",
       "        <tr>\n",
       "            <td>140         </td> <td>351             </td> <td>27          </td> <td>68             </td> <td>120                      </td> <td>False          </td>\n",
       "        </tr>\n",
       "    </tbody>\n",
       "</table>\n",
       "<p>... (1164 rows omitted)</p>"
      ],
      "text/plain": [
       "Birth Weight | Gestational Days | Maternal Age | Maternal Height | Maternal Pregnancy Weight | Maternal Smoker\n",
       "120          | 284              | 27           | 62              | 100                       | False\n",
       "113          | 282              | 33           | 64              | 135                       | False\n",
       "128          | 279              | 28           | 64              | 115                       | True\n",
       "108          | 282              | 23           | 67              | 125                       | True\n",
       "136          | 286              | 25           | 62              | 93                        | False\n",
       "138          | 244              | 33           | 62              | 178                       | False\n",
       "132          | 245              | 23           | 65              | 140                       | False\n",
       "120          | 289              | 25           | 62              | 125                       | False\n",
       "143          | 299              | 30           | 66              | 136                       | True\n",
       "140          | 351              | 27           | 68              | 120                       | False\n",
       "... (1164 rows omitted)"
      ]
     },
     "execution_count": 24,
     "metadata": {},
     "output_type": "execute_result"
    }
   ],
   "source": [
    "baby = Table.read_table('baby.csv')\n",
    "baby"
   ]
  },
  {
   "cell_type": "markdown",
   "metadata": {},
   "source": [
    "The analysis in class (a permutation test for the difference in means) showed that there is strong evidence for unequal distributions of birth weights for smoker and non-smoker mothers. Here we will investigate differences in BMI between mothers who smoked and did not.\n",
    "\n",
    "Body Mass Index (BMI) is a person’s weight in kilograms divided by the square of height in meters.  BMI can be used to screen for weight categories that may lead to health problems but it is not diagnostic of the health of an individual.\n",
    "\n",
    "#### Question 1\n",
    "\n",
    "Calculate the BMI for the mothers in this dataset and save it in a variable called `bmi`"
   ]
  },
  {
   "cell_type": "code",
   "execution_count": 25,
   "metadata": {},
   "outputs": [
    {
     "data": {
      "text/html": [
       "<table border=\"1\" class=\"dataframe\">\n",
       "    <thead>\n",
       "        <tr>\n",
       "            <th>Birth Weight</th> <th>Gestational Days</th> <th>Maternal Age</th> <th>Maternal Height</th> <th>Maternal Pregnancy Weight</th> <th>Maternal Smoker</th> <th>BMI</th>\n",
       "        </tr>\n",
       "    </thead>\n",
       "    <tbody>\n",
       "        <tr>\n",
       "            <td>120         </td> <td>284             </td> <td>27          </td> <td>62             </td> <td>100                      </td> <td>False          </td> <td>28.7982</td>\n",
       "        </tr>\n",
       "        <tr>\n",
       "            <td>113         </td> <td>282             </td> <td>33          </td> <td>64             </td> <td>135                      </td> <td>False          </td> <td>37.6626</td>\n",
       "        </tr>\n",
       "        <tr>\n",
       "            <td>128         </td> <td>279             </td> <td>28          </td> <td>64             </td> <td>115                      </td> <td>True           </td> <td>32.083 </td>\n",
       "        </tr>\n",
       "        <tr>\n",
       "            <td>108         </td> <td>282             </td> <td>23          </td> <td>67             </td> <td>125                      </td> <td>True           </td> <td>33.3113</td>\n",
       "        </tr>\n",
       "        <tr>\n",
       "            <td>136         </td> <td>286             </td> <td>25          </td> <td>62             </td> <td>93                       </td> <td>False          </td> <td>26.7823</td>\n",
       "        </tr>\n",
       "        <tr>\n",
       "            <td>138         </td> <td>244             </td> <td>33          </td> <td>62             </td> <td>178                      </td> <td>False          </td> <td>51.2608</td>\n",
       "        </tr>\n",
       "        <tr>\n",
       "            <td>132         </td> <td>245             </td> <td>23          </td> <td>65             </td> <td>140                      </td> <td>False          </td> <td>38.4567</td>\n",
       "        </tr>\n",
       "        <tr>\n",
       "            <td>120         </td> <td>289             </td> <td>25          </td> <td>62             </td> <td>125                      </td> <td>False          </td> <td>35.9977</td>\n",
       "        </tr>\n",
       "        <tr>\n",
       "            <td>143         </td> <td>299             </td> <td>30          </td> <td>66             </td> <td>136                      </td> <td>True           </td> <td>36.7919</td>\n",
       "        </tr>\n",
       "        <tr>\n",
       "            <td>140         </td> <td>351             </td> <td>27          </td> <td>68             </td> <td>120                      </td> <td>False          </td> <td>31.5086</td>\n",
       "        </tr>\n",
       "    </tbody>\n",
       "</table>\n",
       "<p>... (1164 rows omitted)</p>"
      ],
      "text/plain": [
       "Birth Weight | Gestational Days | Maternal Age | Maternal Height | Maternal Pregnancy Weight | Maternal Smoker | BMI\n",
       "120          | 284              | 27           | 62              | 100                       | False           | 28.7982\n",
       "113          | 282              | 33           | 64              | 135                       | False           | 37.6626\n",
       "128          | 279              | 28           | 64              | 115                       | True            | 32.083\n",
       "108          | 282              | 23           | 67              | 125                       | True            | 33.3113\n",
       "136          | 286              | 25           | 62              | 93                        | False           | 26.7823\n",
       "138          | 244              | 33           | 62              | 178                       | False           | 51.2608\n",
       "132          | 245              | 23           | 65              | 140                       | False           | 38.4567\n",
       "120          | 289              | 25           | 62              | 125                       | False           | 35.9977\n",
       "143          | 299              | 30           | 66              | 136                       | True            | 36.7919\n",
       "140          | 351              | 27           | 68              | 120                       | False           | 31.5086\n",
       "... (1164 rows omitted)"
      ]
     },
     "execution_count": 25,
     "metadata": {},
     "output_type": "execute_result"
    }
   ],
   "source": [
    "bmi= (baby.column('Maternal Pregnancy Weight')/2.205) / (baby.column('Maternal Height')/39.37)\n",
    "baby = baby.with_column('BMI', bmi)\n",
    "baby"
   ]
  },
  {
   "cell_type": "markdown",
   "metadata": {},
   "source": [
    "#### Question 2\n",
    "\n",
    "Similarly to what we did in class, generate two plots: (i) overlapping histograms of mother BMI for smokers and non-smokers; (ii) back-to-back boxplots of mother BMI for smokers and non-smokers.\n",
    "\n",
    "Interpret the plots.\n"
   ]
  },
  {
   "cell_type": "code",
   "execution_count": 26,
   "metadata": {},
   "outputs": [
    {
     "data": {
      "image/png": "[encoded data removed]",
      "text/plain": [
       "<matplotlib.figure.Figure at 0x119100588>"
      ]
     },
     "metadata": {},
     "output_type": "display_data"
    }
   ],
   "source": [
    "# histograms\n",
    "smoking_and_bmi = baby.select('Maternal Smoker', 'BMI')\n",
    "#smoking_and_bmi.group('Maternal Smoker')\n",
    "smoking_and_bmi.hist('BMI', group = 'Maternal Smoker')"
   ]
  },
  {
   "cell_type": "code",
   "execution_count": 27,
   "metadata": {},
   "outputs": [
    {
     "data": {
      "image/png": "[encoded data removed]",
      "text/plain": [
       "<matplotlib.figure.Figure at 0x1191082e8>"
      ]
     },
     "metadata": {},
     "output_type": "display_data"
    }
   ],
   "source": [
    "# boxplots\n",
    "plots.boxplot([baby.where('Maternal Smoker',False).column('BMI'),baby.where('Maternal Smoker',True).column('BMI')],\n",
    "             labels=(\"Nonsmokers\",\"Smokers\"));"
   ]
  },
  {
   "cell_type": "markdown",
   "metadata": {},
   "source": [
    "*Comment here on the plots:*\n",
    "\n",
    "Although nonsmokers have a greater range of BMIs, overall, the spreads look fairly similar. The means are about the same as are the IQRs and lower tail lengths. The median and IQR do seem to be slightly lower for smokers than for nonsmokers."
   ]
  },
  {
   "cell_type": "markdown",
   "metadata": {},
   "source": [
    "#### Question 3 (means)\n",
    "\n",
    "We want to investigate if the distributions of the BMI in mothers who smoke and mother who do not smoke are the same. \n",
    "The null and alternative hypotheses are similar to what we stated in the class. We will use first the following test statistic: **the difference in BMI sample means** (between smokers and non-smokers).  \n",
    "\n",
    "Write the code that generates a null distribution for this test statistic (using shuffling/permutations) and calculate the p-value associated with this test statistic.\n"
   ]
  },
  {
   "cell_type": "code",
   "execution_count": 223,
   "metadata": {},
   "outputs": [],
   "source": [
    "bmi = smoking_and_bmi.select('BMI')\n",
    "group_labels = baby.select('Maternal Smoker')"
   ]
  },
  {
   "cell_type": "code",
   "execution_count": 246,
   "metadata": {},
   "outputs": [],
   "source": [
    "def simulations_hist(collect, num_iters):\n",
    "     diff_hist = make_array()\n",
    "\n",
    "     for i in np.arange(num_iters):\n",
    "        shuffled_bmi = bmi.sample(with_replacement = False).column(0)\n",
    "        shuffled_tbl = group_labels.with_column('Shuffled BMI', shuffled_bmi)\n",
    "        collect_tbl = shuffled_tbl.group(0, collect)\n",
    "        hist_diff = (collect_tbl.column(1).item(1) - collect_tbl.column(1).item(0))\n",
    "        diff_hist = np.append(diff_hist, hist_diff)\n",
    "     return diff_hist\n",
    "\n",
    "def simulations(collect, num_iters):\n",
    "    differences = make_array()\n",
    "   \n",
    "    for i in np.arange(num_iters):\n",
    "        shuffled_bmi = bmi.sample(with_replacement = False).column(0)\n",
    "        shuffled_tbl = group_labels.with_column('Shuffled BMI', shuffled_bmi)\n",
    "        collect_tbl = shuffled_tbl.group(0, collect)\n",
    "        new_diff = abs(collect_tbl.column(1).item(1) - collect_tbl.column(1).item(0))\n",
    "        differences = np.append(differences, new_diff)\n",
    "    return differences\n",
    "\n",
    "def get_pvalue(collect, differences):\n",
    "    collect_tbl = smoking_and_bmi.group('Maternal Smoker', collect)\n",
    "    collected = collect_tbl.column(1)\n",
    "    observed_difference = abs(collected.item(1) - collected.item(0)) \n",
    "#np.count_nonzero(differences > 1)\n",
    "#np.count_nonzero(differences >= observed_difference), len(differences)\n",
    "    p_collected = (np.count_nonzero(differences >= observed_difference)) / len(differences)\n",
    "    return p_collected\n"
   ]
  },
  {
   "cell_type": "code",
   "execution_count": 247,
   "metadata": {
    "scrolled": true
   },
   "outputs": [
    {
     "data": {
      "image/png": "[encoded data removed]",
      "text/plain": [
       "<matplotlib.figure.Figure at 0x1a1ccd0da0>"
      ]
     },
     "metadata": {},
     "output_type": "display_data"
    }
   ],
   "source": [
    "diff_hist = simulations_hist(np.mean, 10000)\n",
    "plots.hist(diff_hist,bins=np.arange(-1,1,0.1))\n",
    "plots.title(\"Difference Between Means\");"
   ]
  },
  {
   "cell_type": "code",
   "execution_count": 248,
   "metadata": {},
   "outputs": [
    {
     "data": {
      "text/plain": [
       "0.0159"
      ]
     },
     "execution_count": 248,
     "metadata": {},
     "output_type": "execute_result"
    }
   ],
   "source": [
    "differences = simulations(np.mean, 10000)\n",
    "p_mean = get_pvalue(np.mean, differences)\n",
    "p_mean"
   ]
  },
  {
   "cell_type": "markdown",
   "metadata": {},
   "source": [
    "#### Question 4 (medians)\n",
    "\n",
    "Repeat what is asked in Question 3 for the following test statistic: **the difference in BMI sample medians**."
   ]
  },
  {
   "cell_type": "code",
   "execution_count": 249,
   "metadata": {},
   "outputs": [
    {
     "data": {
      "image/png": "[encoded data removed]",
      "text/plain": [
       "<matplotlib.figure.Figure at 0x1a1cc96780>"
      ]
     },
     "metadata": {},
     "output_type": "display_data"
    }
   ],
   "source": [
    "diff_med_hist = simulations_hist(np.median, 10000)\n",
    "plots.hist(diff_med_hist,bins=np.arange(-1,1,0.1))\n",
    "plots.title(\"Difference Between Medians\");"
   ]
  },
  {
   "cell_type": "code",
   "execution_count": 250,
   "metadata": {},
   "outputs": [
    {
     "data": {
      "text/plain": [
       "0.0141"
      ]
     },
     "execution_count": 250,
     "metadata": {},
     "output_type": "execute_result"
    }
   ],
   "source": [
    "differences_med = simulations(np.median, 10000)\n",
    "p_median = get_pvalue(np.median, differences)\n",
    "p_median"
   ]
  },
  {
   "cell_type": "markdown",
   "metadata": {},
   "source": [
    "#### Question 5 (Inter Quartile  Range or IQR)\n",
    "\n",
    "Repeat what is asked in Question 3 for the following test statistic: **the difference in BMI sample IQRs**. Recall that IQR is the difference of the two quartiles.\n"
   ]
  },
  {
   "cell_type": "code",
   "execution_count": 229,
   "metadata": {},
   "outputs": [],
   "source": [
    "def iqr(tbl):\n",
    "    q3 = np.percentile(tbl,75)\n",
    "    q1 = np.percentile(tbl,25)\n",
    "    return q3 - q1"
   ]
  },
  {
   "cell_type": "code",
   "execution_count": 255,
   "metadata": {},
   "outputs": [
    {
     "data": {
      "image/png": "[encoded data removed]",
      "text/plain": [
       "<matplotlib.figure.Figure at 0x1a1cba64e0>"
      ]
     },
     "metadata": {},
     "output_type": "display_data"
    }
   ],
   "source": [
    "diff_iqr_hist = simulations_hist(iqr, 10000)\n",
    "plots.hist(diff_iqr_hist,bins=np.arange(-1.5,1.5,0.1))\n",
    "plots.title(\"Difference Between IQRs\");"
   ]
  },
  {
   "cell_type": "code",
   "execution_count": 252,
   "metadata": {},
   "outputs": [
    {
     "data": {
      "text/plain": [
       "0.5611"
      ]
     },
     "execution_count": 252,
     "metadata": {},
     "output_type": "execute_result"
    }
   ],
   "source": [
    "differences_iqr = simulations(iqr, 10000)\n",
    "p_iqr = get_pvalue(iqr, differences)\n",
    "p_iqr"
   ]
  },
  {
   "cell_type": "markdown",
   "metadata": {},
   "source": [
    "#### Question 6 (standard deviations)\n",
    "\n",
    "Repeat what is asked in Question 3 for the following test statistic: **the difference in BMI sample standard deviations**."
   ]
  },
  {
   "cell_type": "code",
   "execution_count": 256,
   "metadata": {
    "scrolled": true
   },
   "outputs": [
    {
     "data": {
      "image/png": "[encoded data removed]",
      "text/plain": [
       "<matplotlib.figure.Figure at 0x1a1ccb00b8>"
      ]
     },
     "metadata": {},
     "output_type": "display_data"
    }
   ],
   "source": [
    "diff_sds_hist = simulations_hist(np.std, 10000) \n",
    "plots.hist(diff_sds_hist,bins=np.arange(-1.5,1.5,0.1))\n",
    "plots.title(\"Difference Between SDS\");"
   ]
  },
  {
   "cell_type": "code",
   "execution_count": 254,
   "metadata": {},
   "outputs": [
    {
     "data": {
      "text/plain": [
       "0.2435"
      ]
     },
     "execution_count": 254,
     "metadata": {},
     "output_type": "execute_result"
    }
   ],
   "source": [
    "differences_sds = simulations(np.std, 10000) \n",
    "p_sds = get_pvalue(np.std, differences)\n",
    "p_sds"
   ]
  },
  {
   "cell_type": "markdown",
   "metadata": {},
   "source": [
    "#### Question 7\n",
    "\n",
    "Write a very brief discussion on the interpretation of the four p-values you calculated."
   ]
  },
  {
   "cell_type": "markdown",
   "metadata": {},
   "source": [
    "The p values for the differences in means and differences in medians are both significant as they are approximately between 0.01 and 0.02 each. This indicates that we reject the null hypothesis that the differences in center are not different.\n",
    "\n",
    "The p values for the differences in IQR and standard deviation are not significant as they are both greater than 0.05. We fail to reject the null hypothesis that the differences in measures of spread are not different."
   ]
  },
  {
   "cell_type": "markdown",
   "metadata": {},
   "source": [
    "## 2. Plagiarism detector (25 points) ##\n",
    "\n",
    "We will use the matching techniques discussed in Lecture 15 to construct **a naive plagiarism detector**. We modified the code from the class notebook in two ways: (i) we generalized it to q-character tokens; and (ii) we added space instead of # at the ends of the strings.\n",
    "\n",
    "This code allows you to calculate the Jaccard distance for bigrams, trigrams etc."
   ]
  },
  {
   "cell_type": "code",
   "execution_count": 152,
   "metadata": {},
   "outputs": [],
   "source": [
    "#A Function to break a string into qgrams (q-character tokens)\n",
    "#we'll pad the string with spaces on the front and end\n",
    "def qgram(str,q):\n",
    "    str = ' ' + str + ' '\n",
    "    return([str[i:i+q] for i in range(len(str)-(q-1))])\n",
    "\n",
    "#compute the jaccard similarity of two strings using trigrams\n",
    "#call jaccard_sim3(string1,string2,True) to see intermediate values\n",
    "#call jaccard_sim3(string1,sring2) or jaccard_sim(string1,string2,False) to just get the answer\n",
    "def jaccard_simq(str1, str2,q,verbose=False): \n",
    "    set1 = set(qgram(str1,q)) \n",
    "    set2 = set(qgram(str2,q))\n",
    "    common_tokens = set1.intersection(set2)\n",
    "    all_tokens = set1.union(set2)\n",
    "    if verbose:\n",
    "        print('set1 =',set1)\n",
    "        print('set2 =',set2)\n",
    "        print('Intersection =',common_tokens)\n",
    "        print('Union =',all_tokens)\n",
    "        print('Common Tokens =',len(common_tokens),\n",
    "              'Total Tokens =',len(all_tokens))\n",
    "    return float(len(common_tokens) / len(all_tokens))\n"
   ]
  },
  {
   "cell_type": "markdown",
   "metadata": {},
   "source": [
    "To familiarize yourself with the function, you should try it on several examples and with different values of q. The `verbose=True` option is useful when you want to understand what the function is doing."
   ]
  },
  {
   "cell_type": "code",
   "execution_count": 4,
   "metadata": {},
   "outputs": [
    {
     "name": "stdout",
     "output_type": "stream",
     "text": [
      "set1 = {'wn', 'br', 'ui', 'ox', ' q', ' b', 'ck', 'qu', 'n ', 'ow', 'fo', 'e ', 'th', 'k ', ' f', 'x ', 'ic', ' t', 'ro', 'he'}\n",
      "set2 = {'wn', 'br', 'ox', 'ui', ' q', ' b', 'ck', 'qu', 'n ', 'ow', 'fo', 'e ', 'th', 'k ', ' f', 'x ', 'ic', ' t', 'ro', 'he'}\n",
      "Intersection = {'wn', 'br', 'ox', 'ui', ' q', ' b', 'ck', 'qu', 'n ', 'ow', 'fo', 'e ', 'th', 'k ', ' f', 'x ', 'ic', ' t', 'ro', 'he'}\n",
      "Union = {'wn', 'ox', ' q', ' b', 'ck', 'qu', 'n ', 'ow', 'fo', 'k ', 'ic', 'br', 'ui', 'e ', 'th', ' f', 'x ', ' t', 'ro', 'he'}\n",
      "Common Tokens = 20 Total Tokens = 20\n"
     ]
    },
    {
     "data": {
      "text/plain": [
       "1.0"
      ]
     },
     "execution_count": 4,
     "metadata": {},
     "output_type": "execute_result"
    }
   ],
   "source": [
    "jaccard_simq('the quick brown fox','fox quick brown the',2,True)"
   ]
  },
  {
   "cell_type": "code",
   "execution_count": 5,
   "metadata": {
    "scrolled": true
   },
   "outputs": [
    {
     "data": {
      "text/plain": [
       "1.0"
      ]
     },
     "execution_count": 5,
     "metadata": {},
     "output_type": "execute_result"
    }
   ],
   "source": [
    "jaccard_simq('the quick brown fox','fox quick brown the',2)"
   ]
  },
  {
   "cell_type": "code",
   "execution_count": 6,
   "metadata": {
    "scrolled": true
   },
   "outputs": [
    {
     "name": "stdout",
     "output_type": "stream",
     "text": [
      "set1 = {'fox ', 'ck b', 'the ', ' qui', 'rown', 'k br', ' the', 'quic', 'uick', 'n fo', 'wn f', 'ick ', 'e qu', ' fox', ' bro', 'brow', 'he q', 'own '}\n",
      "set2 = {'fox ', 'ox q', 'ck b', ' qui', 'rown', 'the ', 'k br', 'quic', ' the', 'uick', 'wn t', 'x qu', 'n th', 'ick ', ' fox', ' bro', 'brow', 'own '}\n",
      "Intersection = {'fox ', 'ck b', 'the ', 'rown', ' qui', 'k br', 'quic', ' the', 'uick', 'ick ', ' fox', ' bro', 'brow', 'own '}\n",
      "Union = {'fox ', 'ox q', ' qui', ' the', 'uick', 'n th', 'e qu', 'n fo', ' bro', 'he q', 'own ', 'ck b', 'the ', 'rown', 'k br', 'quic', 'wn t', 'x qu', 'wn f', 'ick ', ' fox', 'brow'}\n",
      "Common Tokens = 14 Total Tokens = 22\n"
     ]
    },
    {
     "data": {
      "text/plain": [
       "0.6363636363636364"
      ]
     },
     "execution_count": 6,
     "metadata": {},
     "output_type": "execute_result"
    }
   ],
   "source": [
    "jaccard_simq('the quick brown fox','fox quick brown the',4,True)"
   ]
  },
  {
   "cell_type": "code",
   "execution_count": 7,
   "metadata": {},
   "outputs": [
    {
     "data": {
      "text/plain": [
       "0.2"
      ]
     },
     "execution_count": 7,
     "metadata": {},
     "output_type": "execute_result"
    }
   ],
   "source": [
    "jaccard_simq('the quick brown fox','fox quick brown the',10)"
   ]
  },
  {
   "cell_type": "markdown",
   "metadata": {},
   "source": [
    "The goal of this exercise is to use this function to investigate possible plagiarism in a homework assignment. A homework question asked students to define PageRank. The instructor was worried that the students will copy the answer from Wikipedia, so she/he decided to use that as a reference. The relevant part of the Wikipedia entry is saved in the file `original.txt` and the command below reads that file into a string."
   ]
  },
  {
   "cell_type": "code",
   "execution_count": 8,
   "metadata": {
    "scrolled": true
   },
   "outputs": [
    {
     "data": {
      "text/plain": [
       "'PageRank is a link analysis algorithm used by the Google Internet search engine that assigns a numerical weighting to each element of a hyperlinked set of documents, such as the World Wide Web, with the purpose of \"measuring\" its relative importance within the set. The algorithm may be applied to any collection of entities with reciprocal quotations and references. The numerical weight that it assigns to any given element E is also called the PageRank of E and denoted by PR(E).\\nThe name \"PageRank\" is a trademark of Google, and the PageRank process has been patented (U.S. Patent 6,285,999 ). However, the patent is assigned to Stanford University and not to Google. Google has exclusive license rights on the patent from Stanford University. The university received 1.8 million shares in Google in exchange for use of the patent; the shares were sold in 2005 for $336 million.\\nGoogle describes PageRank:\\n“ \\tPageRank relies on the uniquely democratic nature of the web by using its vast link structure as an indicator of an individual page\\'s value. In essence, Google interprets a link from page A to page B as a vote, by page A, for page B. But, Google looks at more than the sheer volume of votes, or links a page receives; it also analyzes the page that casts the vote. Votes cast by pages that are themselves \"important\" weigh more heavily and help to make other pages \"important\". \\t”\\nIn other words, a PageRank results from a \"ballot\" among all the other pages on the World Wide Web about how important a page is. A hyperlink to a page counts as a vote of support. The PageRank of a page is defined recursively and depends on the number and PageRank metric of all pages that link to it (\"incoming links\"). A page that is linked to by many pages with high PageRank receives a high rank itself. If there are no links to a web page there is no support for that page.\\nGoogle assigns a numeric weighting from 0-10 for each webpage on the Internet; this PageRank denotes a site’s importance in the eyes of Google. The PageRank is derived from a theoretical probability value on a logarithmic scale like the Richter Scale. The PageRank of a particular page is roughly based upon the quantity of inbound links as well as the PageRank of the pages providing the links. It is known that other factors, e.g. relevance of search words on the page and actual visits to the page reported by the Google toolbar also influence the PageRank. In order to prevent manipulation, spoofing and Spamdexing, Google provides no specific details about how other factors influence PageRank.\\nNumerous academic papers concerning PageRank have been published since Page and Brin\\'s original paper. In practice, the PageRank concept has proven to be vulnerable to manipulation, and extensive research has been devoted to identifying falsely inflated PageRank and ways to ignore links from documents with falsely inflated PageRank.\\nOther link-based ranking algorithms for Web pages include the HITS algorithm invented by Jon Kleinberg (used by Teoma and now Ask.com), the IBM CLEVER project, and the TrustRank algorithm.\\n'"
      ]
     },
     "execution_count": 8,
     "metadata": {},
     "output_type": "execute_result"
    }
   ],
   "source": [
    "open(\"original.txt\",\"r\").read()"
   ]
  },
  {
   "cell_type": "markdown",
   "metadata": {},
   "source": [
    "Files containing the answer of five students (A,B,C,D, and E) are provided. They are read as strings using the code below. "
   ]
  },
  {
   "cell_type": "code",
   "execution_count": 153,
   "metadata": {},
   "outputs": [],
   "source": [
    "original=open(\"original.txt\",\"r\").read()\n",
    "studentA=open(\"studentA.txt\",\"r\").read()\n",
    "studentB=open(\"studentB.txt\",\"r\").read()\n",
    "studentC=open(\"studentC.txt\",\"r\").read()\n",
    "studentD=open(\"studentD.txt\",\"r\").read()\n",
    "studentE=open(\"studentE.txt\",\"r\").read()\n"
   ]
  },
  {
   "cell_type": "markdown",
   "metadata": {},
   "source": [
    "#### Question 1\n",
    "\n",
    "One decision to make is the choice of q in the Jaccard distance (whether to use 2-character tokens, 20-character tokens etc.) \n"
   ]
  },
  {
   "cell_type": "markdown",
   "metadata": {},
   "source": [
    "Write one advantage and one disadvantage when using 2-character tokens.\n",
    "\n",
    "(+): Accounts for potential typos in identifying overlap. \n",
    "\n",
    "(-): Because there are only 26 letters, there will inevitably be high overlap in 2 character tokens and these could be by chance rather than genuine plaigerism. \n",
    "\n",
    "Write one advantage and one disadvantage when using 20-character tokens.\n",
    "\n",
    "(+): Rigorous in identifying plaigerism, would make copy pasters and reworders very obvious with higher scores. \n",
    "\n",
    "(-): Probably too large to notice if people are strong re-writers. If different words/synonyms are used (even if sentence structure is same), it would not pick up on it."
   ]
  },
  {
   "cell_type": "markdown",
   "metadata": {},
   "source": [
    "#### Question 2\n",
    "\n",
    "Calculate the Jaccard distances between each of the five student responses and the original Wikipedia reference. This should be done for all q between 2 and 20.\n",
    "\n",
    "Save the results in a table with 19 rows and 6 columns: (i) the first column shows the values of q; (ii) the next five columns show the Jaccard distances for the five student answers."
   ]
  },
  {
   "cell_type": "code",
   "execution_count": 166,
   "metadata": {},
   "outputs": [
    {
     "name": "stderr",
     "output_type": "stream",
     "text": [
      "/anaconda3/lib/python3.6/site-packages/datascience/tables.py:81: FutureWarning: Table.empty(labels) is deprecated. Use Table(labels)\n",
      "  warnings.warn(\"Table.empty(labels) is deprecated. Use Table(labels)\", FutureWarning)\n"
     ]
    },
    {
     "data": {
      "text/html": [
       "<table border=\"1\" class=\"dataframe\">\n",
       "    <thead>\n",
       "        <tr>\n",
       "            <th>q</th> <th>Student A</th> <th>Student B</th> <th>Student C</th> <th>Student D</th> <th>Student E</th>\n",
       "        </tr>\n",
       "    </thead>\n",
       "    <tbody>\n",
       "        <tr>\n",
       "            <td>2   </td> <td>0.713959 </td> <td>0.436647 </td> <td>0.449561  </td> <td>0.413242 </td> <td>0.454148 </td>\n",
       "        </tr>\n",
       "        <tr>\n",
       "            <td>3   </td> <td>0.528192 </td> <td>0.261528 </td> <td>0.232156  </td> <td>0.244681 </td> <td>0.2847   </td>\n",
       "        </tr>\n",
       "        <tr>\n",
       "            <td>4   </td> <td>0.457965 </td> <td>0.162698 </td> <td>0.128345  </td> <td>0.17714  </td> <td>0.200939 </td>\n",
       "        </tr>\n",
       "        <tr>\n",
       "            <td>5   </td> <td>0.42492  </td> <td>0.108565 </td> <td>0.0793766 </td> <td>0.150758 </td> <td>0.166093 </td>\n",
       "        </tr>\n",
       "        <tr>\n",
       "            <td>6   </td> <td>0.402108 </td> <td>0.0777298</td> <td>0.0480556 </td> <td>0.131777 </td> <td>0.147793 </td>\n",
       "        </tr>\n",
       "        <tr>\n",
       "            <td>7   </td> <td>0.387012 </td> <td>0.0540997</td> <td>0.0283729 </td> <td>0.118185 </td> <td>0.134663 </td>\n",
       "        </tr>\n",
       "        <tr>\n",
       "            <td>8   </td> <td>0.374911 </td> <td>0.0387063</td> <td>0.0155738 </td> <td>0.108296 </td> <td>0.125763 </td>\n",
       "        </tr>\n",
       "        <tr>\n",
       "            <td>9   </td> <td>0.365854 </td> <td>0.0269172</td> <td>0.00841662</td> <td>0.100334 </td> <td>0.120944 </td>\n",
       "        </tr>\n",
       "        <tr>\n",
       "            <td>10  </td> <td>0.358409 </td> <td>0.0194725</td> <td>0.00332651</td> <td>0.0940755</td> <td>0.117798 </td>\n",
       "        </tr>\n",
       "        <tr>\n",
       "            <td>11  </td> <td>0.351749 </td> <td>0.0146953</td> <td>0.00100402</td> <td>0.0888252</td> <td>0.11425  </td>\n",
       "        </tr>\n",
       "    </tbody>\n",
       "</table>\n",
       "<p>... (9 rows omitted)</p>"
      ],
      "text/plain": [
       "q    | Student A | Student B | Student C  | Student D | Student E\n",
       "2    | 0.713959  | 0.436647  | 0.449561   | 0.413242  | 0.454148\n",
       "3    | 0.528192  | 0.261528  | 0.232156   | 0.244681  | 0.2847\n",
       "4    | 0.457965  | 0.162698  | 0.128345   | 0.17714   | 0.200939\n",
       "5    | 0.42492   | 0.108565  | 0.0793766  | 0.150758  | 0.166093\n",
       "6    | 0.402108  | 0.0777298 | 0.0480556  | 0.131777  | 0.147793\n",
       "7    | 0.387012  | 0.0540997 | 0.0283729  | 0.118185  | 0.134663\n",
       "8    | 0.374911  | 0.0387063 | 0.0155738  | 0.108296  | 0.125763\n",
       "9    | 0.365854  | 0.0269172 | 0.00841662 | 0.100334  | 0.120944\n",
       "10   | 0.358409  | 0.0194725 | 0.00332651 | 0.0940755 | 0.117798\n",
       "11   | 0.351749  | 0.0146953 | 0.00100402 | 0.0888252 | 0.11425\n",
       "... (9 rows omitted)"
      ]
     },
     "execution_count": 166,
     "metadata": {},
     "output_type": "execute_result"
    }
   ],
   "source": [
    "# the code that generates the table\n",
    "\n",
    "q = np.arange(2, 21, 1) #column 1\n",
    "\n",
    "def get_Jaccard(q, student):\n",
    "    jaccard_values = make_array()\n",
    "    for i in q:\n",
    "        jaccard_values = np.append(jaccard_values, jaccard_simq(original, student, i))\n",
    "    return jaccard_values\n",
    "\n",
    "distances = Table.empty()\n",
    "a= get_Jaccard(q, studentA)\n",
    "b= get_Jaccard(q, studentB)\n",
    "c= get_Jaccard(q, studentC)\n",
    "d= get_Jaccard(q, studentD)\n",
    "e= get_Jaccard(q, studentE)\n",
    "\n",
    "distances = distances.with_column('q', q, 'Student A', a, 'Student B', b, 'Student C', c, 'Student D', d, 'Student E', e)\n",
    "\n",
    "\n",
    "#(make_array('q', 'Student A', 'Student B', 'Student C', 'Student D', 'Student E'))\n",
    "distances"
   ]
  },
  {
   "cell_type": "markdown",
   "metadata": {},
   "source": [
    "#### Question 3\n",
    "\n",
    "Draw five overlaid line plots for the Jaccard distances of the five texts. The plot should show the Jaccard distances (on y-axis) against q (on x-axis). Make sure that it is clear which line corresponds to which student/answer."
   ]
  },
  {
   "cell_type": "code",
   "execution_count": 173,
   "metadata": {},
   "outputs": [
    {
     "data": {
      "text/plain": [
       "Text(0,0.5,'Jaccard distance')"
      ]
     },
     "execution_count": 173,
     "metadata": {},
     "output_type": "execute_result"
    },
    {
     "data": {
      "image/png": "[encoded data removed]",
      "text/plain": [
       "<matplotlib.figure.Figure at 0x119012da0>"
      ]
     },
     "metadata": {},
     "output_type": "display_data"
    }
   ],
   "source": [
    "# the code to draw the overlaid line plots\n",
    "distances.plot('q')\n",
    "plots.ylabel('Jaccard distance')"
   ]
  },
  {
   "cell_type": "markdown",
   "metadata": {},
   "source": [
    "#### Question 4\n",
    "\n",
    "What do the distances you calculated say about the five students (A,B,C, D and E)? Is there evidence for plagiarism for any of them? Write a short discussion of your findings.\n"
   ]
  },
  {
   "cell_type": "markdown",
   "metadata": {},
   "source": [
    "As expected, when we use shorter tokens, or smaller q's, the jaccard distance is significantly higher as there will inevitable be overlap as there are only so many 2 letter combinations in words that can be made. All the students follow the same curve pattern indicating the same amount of overlap.\n",
    "\n",
    "It seems likely that student A plaigerized based on their way higher jaccard distance score than the other students across q's. "
   ]
  },
  {
   "cell_type": "markdown",
   "metadata": {},
   "source": [
    "#### Question 5\n",
    "\n",
    "Do the length of the texts/answers affect the Jaccard distances? Would a plagiarized short paper (1-2 sentences) have a different Jaccard distance than a plagiarized long paper (few paragraphs)? Is this important for our five student scenario?\n",
    "\n",
    "Here you assume that the reference (the original text) does not change.\n",
    "\n",
    "This is an open-ended question. You can answer it by changing the length of a plagiarized text and calculating distances. You can argue it mathematically. \n",
    "\n"
   ]
  },
  {
   "cell_type": "code",
   "execution_count": 238,
   "metadata": {},
   "outputs": [
    {
     "data": {
      "text/plain": [
       "(1243, 1368, 1076, 493, 610, 3098)"
      ]
     },
     "execution_count": 238,
     "metadata": {},
     "output_type": "execute_result"
    }
   ],
   "source": [
    "# if you use code to make your argument\n",
    "len(studentA), len(studentB), len(studentC), len(studentD), len(studentE), len(original)"
   ]
  },
  {
   "cell_type": "markdown",
   "metadata": {},
   "source": [
    "The length does affect the distances, because the length of the paper will change the denominator in the Jaccard calculation. The longer the paper, the more tokens it will have. Therefore, even with the same amount of plaigerism, the shorter paper will have a higher Jaccard distance than a longer paper. This is relevant to our five student scenario as Student D and student E have far shorter papers. If they had plaigerized, we would expect their numbers to be higher than others due to there being less tokens in the union, or overlap. Student A actually had the second longest paper, yet the Jaccard distance was way higher indicating plaigerism."
   ]
  }
 ],
 "metadata": {
  "kernelspec": {
   "display_name": "Python 3",
   "language": "python",
   "name": "python3"
  },
  "language_info": {
   "codemirror_mode": {
    "name": "ipython",
    "version": 3
   },
   "file_extension": ".py",
   "mimetype": "text/x-python",
   "name": "python",
   "nbconvert_exporter": "python",
   "pygments_lexer": "ipython3",
   "version": "3.6.4"
  }
 },
 "nbformat": 4,
 "nbformat_minor": 2
}
