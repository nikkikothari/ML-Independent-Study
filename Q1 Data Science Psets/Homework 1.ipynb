{
 "cells": [
  {
   "cell_type": "markdown",
   "metadata": {},
   "source": [
    "# Homework 1: Expressions  (50 points)\n",
    "\n",
    "Please complete this notebook by filling in the cells provided. The solved homework should be uploaded to Canvas."
   ]
  },
  {
   "cell_type": "markdown",
   "metadata": {},
   "source": [
    "#### Reading:\n",
    "- Data8 Textbook chapters [2](http://www.inferentialthinking.com/chapters/02/causality-and-experiments.html), \n",
    " [3](http://www.inferentialthinking.com/chapters/03/programming-in-python.html) and \n",
    "[4](https://www.inferentialthinking.com/chapters/04/Data_Types).\n",
    "\n",
    "#### Deadline:\n",
    "\n",
    "This assignment is due on Tuesday, October 9 at 9:30am. Late work will not be accepted unless you have made special arrangements with the instructors.\n",
    "\n",
    "Directly sharing answers is not okay, but discussing problems with the course staff or with other students is encouraged. \n",
    "\n",
    "You should start early so that you have time to get help if you're stuck. "
   ]
  },
  {
   "cell_type": "markdown",
   "metadata": {},
   "source": [
    "## 1. Scary Arithmetic (5 points)"
   ]
  },
  {
   "cell_type": "markdown",
   "metadata": {},
   "source": [
    "An ad for ADT Security Systems says,\n",
    "\n",
    "> \"When you go on vacation, burglars go to work [...] According to FBI statistics, over 25% of home burglaries occur between Memorial Day and Labor Day.\"\n",
    "\n",
    "Do the data in the ad support the claim that burglars are more likely to go to work during the time between Memorial Day and Labor Day than at other times? Please explain your answer."
   ]
  },
  {
   "cell_type": "markdown",
   "metadata": {},
   "source": [
    "The data does not support the claim. Although there is some percent of home burglaries during the time, there is no indication that there are significantly more burglaries during that time than other times. For example, 30% of burglaries may happen during the winter holidays. In addition, the time between Memorial Day and Labor Day is ~3 months, which is 25% of the year. If 25% of home burglaries happen over 25% of the year, then this may not be more than usual (although more data would be needed to support the assumption that the likelihood is constant as well).  Overall, 75% (which is 3x greater than 25%) of burglaries happen outside of that time, and therefore it is too vague to really draw any conclusions about the likelihood that burglaries are more likely to happen because there is not evidence on the other times of the year and more information."
   ]
  },
  {
   "cell_type": "markdown",
   "metadata": {},
   "source": [
    "## 2. Names and Assignment Statements (15 points)"
   ]
  },
  {
   "cell_type": "markdown",
   "metadata": {},
   "source": [
    "**Question 1.** When you run the following cell, Python produces a cryptic error message."
   ]
  },
  {
   "cell_type": "code",
   "execution_count": 2,
   "metadata": {},
   "outputs": [
    {
     "ename": "SyntaxError",
     "evalue": "can't assign to literal (<ipython-input-2-765ef5e0d615>, line 1)",
     "output_type": "error",
     "traceback": [
      "\u001b[0;36m  File \u001b[0;32m\"<ipython-input-2-765ef5e0d615>\"\u001b[0;36m, line \u001b[0;32m1\u001b[0m\n\u001b[0;31m    4=2+2\u001b[0m\n\u001b[0m         ^\u001b[0m\n\u001b[0;31mSyntaxError\u001b[0m\u001b[0;31m:\u001b[0m can't assign to literal\n"
     ]
    }
   ],
   "source": [
    "4=2+2"
   ]
  },
  {
   "cell_type": "markdown",
   "metadata": {},
   "source": [
    "Choose the best explanation of what's wrong with the code, and then assign 1, 2, 3, or 4 to `names_q1` below to indicate your answer.\n",
    "\n",
    "1. Python is smart and already knows `4 = 2 + 2`.\n",
    "\n",
    "2. `4` is a number, and it doesn't make sense to make a number be a name for something else. In Python, \"`x = 2 + 2`\" means \"assign `x` as the name for the value of `2 + 2`.\"\n",
    "\n",
    "3. It should be `2 + 2 = 4`.\n",
    "\n",
    "4. I don't get an error message. This is a trick question."
   ]
  },
  {
   "cell_type": "code",
   "execution_count": 1,
   "metadata": {},
   "outputs": [],
   "source": [
    "names_q1 = 2"
   ]
  },
  {
   "cell_type": "markdown",
   "metadata": {},
   "source": [
    "Answer = 2"
   ]
  },
  {
   "cell_type": "markdown",
   "metadata": {},
   "source": [
    "**Question 2.** When you run the following cell, Python will produce another cryptic error message."
   ]
  },
  {
   "cell_type": "code",
   "execution_count": 4,
   "metadata": {},
   "outputs": [
    {
     "ename": "SyntaxError",
     "evalue": "invalid syntax (<ipython-input-4-820d4d61e3dd>, line 2)",
     "output_type": "error",
     "traceback": [
      "\u001b[0;36m  File \u001b[0;32m\"<ipython-input-4-820d4d61e3dd>\"\u001b[0;36m, line \u001b[0;32m2\u001b[0m\n\u001b[0;31m    six = two plus two\u001b[0m\n\u001b[0m                 ^\u001b[0m\n\u001b[0;31mSyntaxError\u001b[0m\u001b[0;31m:\u001b[0m invalid syntax\n"
     ]
    }
   ],
   "source": [
    "two = 3\n",
    "six = two plus two"
   ]
  },
  {
   "cell_type": "markdown",
   "metadata": {},
   "source": [
    "Choose the best explanation of what's wrong with the code and assign 1, 2, 3, or 4 to `names_q2` below to indicate your answer.\n",
    "\n",
    "1. The `plus` operation only applies to numbers, not the word \"two\".\n",
    "\n",
    "2. The name \"two\" cannot be assigned to the number 3.\n",
    "\n",
    "3. Two plus two is four, not six.\n",
    "\n",
    "4. The name `two` cannot be followed directly by another name."
   ]
  },
  {
   "cell_type": "code",
   "execution_count": 3,
   "metadata": {},
   "outputs": [],
   "source": [
    "names_q2 = 4"
   ]
  },
  {
   "cell_type": "markdown",
   "metadata": {},
   "source": [
    "Answer = 4"
   ]
  },
  {
   "cell_type": "markdown",
   "metadata": {},
   "source": [
    "**Question 3. Volume of a sphere** - finish the code in the following cell so that it calculates the volume of a sphere of radius 10, and it prints **\"Volume of a sphere of radius 10 is ?\"** (with \"?\" replace by the correct answer)."
   ]
  },
  {
   "cell_type": "code",
   "execution_count": 10,
   "metadata": {},
   "outputs": [
    {
     "name": "stdout",
     "output_type": "stream",
     "text": [
      "Volume of a sphere of radius 10 is 4188.790204786391\n"
     ]
    }
   ],
   "source": [
    "pi = 3.1415926535897931\n",
    "r = 10\n",
    "V = (4/3)*pi*(r**3)\n",
    "print(\"Volume of a sphere of radius 10 is\", V)"
   ]
  },
  {
   "cell_type": "markdown",
   "metadata": {},
   "source": [
    "## 3. Colleges (30 points)\n",
    "\n",
    "The question uses data that we donwloaded from Kaggle.com; more precisely from here:\n",
    "\n",
    "https://www.kaggle.com/theriley106/university-statistics\n",
    "\n",
    "The dataset was posted at the beginning of 2018, and was grabbed from US-News: https://www.usnews.com. It includes statistics for 311 US Universities. \n",
    "\n",
    "To make your tasks easiear, we removed many of the columns and kept only 11. The corresponding file can be found here:\n",
    "\n",
    "http://www.stat.uchicago.edu/~nicolae/118/colleges1.csv\n",
    "\n",
    "We will use these data in other homeworks. If you want, you can open it on your computer and get a better understanding of it. For example, there are universities for which there is incomplete data.\n",
    "\n",
    "#### Run the next cell that contains code that will allow you to read the data into a table called \"colleges_table\". It also shows the first 10 rows.\n"
   ]
  },
  {
   "cell_type": "code",
   "execution_count": 13,
   "metadata": {
    "scrolled": true
   },
   "outputs": [
    {
     "data": {
      "text/html": [
       "<table border=\"1\" class=\"dataframe\">\n",
       "    <thead>\n",
       "        <tr>\n",
       "            <th>act-avg</th> <th>sat-avg</th> <th>enrollment</th> <th>acceptance-rate</th> <th>rankingDisplayScore</th> <th>percent-receiving-aid</th> <th>cost-after-aid</th> <th>tuition</th> <th>displayName</th> <th>overallRank</th> <th>institutionalControl</th>\n",
       "        </tr>\n",
       "    </thead>\n",
       "    <tbody>\n",
       "        <tr>\n",
       "            <td>32     </td> <td>1400   </td> <td>5400      </td> <td>7              </td> <td>100                </td> <td>60                   </td> <td>16793         </td> <td>47140  </td> <td>Princeton University                 </td> <td>1          </td> <td>private             </td>\n",
       "        </tr>\n",
       "        <tr>\n",
       "            <td>32     </td> <td>1430   </td> <td>6710      </td> <td>5              </td> <td>98                 </td> <td>55                   </td> <td>16338         </td> <td>48949  </td> <td>Harvard University                   </td> <td>2          </td> <td>private             </td>\n",
       "        </tr>\n",
       "        <tr>\n",
       "            <td>32     </td> <td>1450   </td> <td>5941      </td> <td>8              </td> <td>96                 </td> <td>42                   </td> <td>27767         </td> <td>54825  </td> <td>University of Chicago                </td> <td>3          </td> <td>private             </td>\n",
       "        </tr>\n",
       "        <tr>\n",
       "            <td>32     </td> <td>1420   </td> <td>5472      </td> <td>6              </td> <td>96                 </td> <td>50                   </td> <td>18385         </td> <td>51400  </td> <td>Yale University                      </td> <td>3          </td> <td>private             </td>\n",
       "        </tr>\n",
       "        <tr>\n",
       "            <td>32     </td> <td>1430   </td> <td>6113      </td> <td>6              </td> <td>95                 </td> <td>48                   </td> <td>21041         </td> <td>57208  </td> <td>Columbia University                  </td> <td>5          </td> <td>private             </td>\n",
       "        </tr>\n",
       "        <tr>\n",
       "            <td>33     </td> <td>1460   </td> <td>4524      </td> <td>8              </td> <td>95                 </td> <td>58                   </td> <td>20331         </td> <td>49892  </td> <td>Massachusetts Institute of Technology</td> <td>5          </td> <td>private             </td>\n",
       "        </tr>\n",
       "        <tr>\n",
       "            <td>31     </td> <td>1380   </td> <td>7034      </td> <td>5              </td> <td>95                 </td> <td>47                   </td> <td>19296         </td> <td>49617  </td> <td>Stanford University                  </td> <td>5          </td> <td>private             </td>\n",
       "        </tr>\n",
       "        <tr>\n",
       "            <td>32     </td> <td>1380   </td> <td>10019     </td> <td>9              </td> <td>93                 </td> <td>47                   </td> <td>25441         </td> <td>53534  </td> <td>University of Pennsylvania           </td> <td>8          </td> <td>private             </td>\n",
       "        </tr>\n",
       "        <tr>\n",
       "            <td>31     </td> <td>1380   </td> <td>6609      </td> <td>11             </td> <td>92                 </td> <td>41                   </td> <td>23374         </td> <td>53744  </td> <td>Duke University                      </td> <td>9          </td> <td>private             </td>\n",
       "        </tr>\n",
       "        <tr>\n",
       "            <td>34     </td> <td>1510   </td> <td>979       </td> <td>8              </td> <td>91                 </td> <td>51                   </td> <td>23973         </td> <td>49908  </td> <td>California Institute of Technology   </td> <td>10         </td> <td>private             </td>\n",
       "        </tr>\n",
       "    </tbody>\n",
       "</table>\n",
       "<p>... (301 rows omitted)</p>"
      ],
      "text/plain": [
       "act-avg | sat-avg | enrollment | acceptance-rate | rankingDisplayScore | percent-receiving-aid | cost-after-aid | tuition | displayName                           | overallRank | institutionalControl\n",
       "32      | 1400    | 5400       | 7               | 100                 | 60                    | 16793          | 47140   | Princeton University                  | 1           | private\n",
       "32      | 1430    | 6710       | 5               | 98                  | 55                    | 16338          | 48949   | Harvard University                    | 2           | private\n",
       "32      | 1450    | 5941       | 8               | 96                  | 42                    | 27767          | 54825   | University of Chicago                 | 3           | private\n",
       "32      | 1420    | 5472       | 6               | 96                  | 50                    | 18385          | 51400   | Yale University                       | 3           | private\n",
       "32      | 1430    | 6113       | 6               | 95                  | 48                    | 21041          | 57208   | Columbia University                   | 5           | private\n",
       "33      | 1460    | 4524       | 8               | 95                  | 58                    | 20331          | 49892   | Massachusetts Institute of Technology | 5           | private\n",
       "31      | 1380    | 7034       | 5               | 95                  | 47                    | 19296          | 49617   | Stanford University                   | 5           | private\n",
       "32      | 1380    | 10019      | 9               | 93                  | 47                    | 25441          | 53534   | University of Pennsylvania            | 8           | private\n",
       "31      | 1380    | 6609       | 11              | 92                  | 41                    | 23374          | 53744   | Duke University                       | 9           | private\n",
       "34      | 1510    | 979        | 8               | 91                  | 51                    | 23973          | 49908   | California Institute of Technology    | 10          | private\n",
       "... (301 rows omitted)"
      ]
     },
     "execution_count": 13,
     "metadata": {},
     "output_type": "execute_result"
    }
   ],
   "source": [
    "from datascience import *\n",
    "\n",
    "colleges_table=Table.read_table('http://www.stat.uchicago.edu/~nicolae/118/colleges1.csv')\n",
    "colleges_table"
   ]
  },
  {
   "cell_type": "markdown",
   "metadata": {},
   "source": [
    "# **Question 1.** \n",
    "\n",
    "**In the next cell, finish the code that has the goal of displaying the university with largest tuition (but only showing the university name and the tuition account).**\n",
    "\n",
    "The first line of code uses 'select' to construct a table with only two columns.\n",
    "\n",
    "The second line a code defines a variable called 'Tuition' by extracting the corrresponding column from our \"colleges_table\" table.\n",
    "\n",
    "Run first the code as is and then modify it to achieve what it is asked above."
   ]
  },
  {
   "cell_type": "code",
   "execution_count": 20,
   "metadata": {},
   "outputs": [
    {
     "data": {
      "text/html": [
       "<table border=\"1\" class=\"dataframe\">\n",
       "    <thead>\n",
       "        <tr>\n",
       "            <th>displayName</th> <th>tuition</th>\n",
       "        </tr>\n",
       "    </thead>\n",
       "    <tbody>\n",
       "        <tr>\n",
       "            <td>Columbia University</td> <td>57208  </td>\n",
       "        </tr>\n",
       "    </tbody>\n",
       "</table>"
      ],
      "text/plain": [
       "displayName         | tuition\n",
       "Columbia University | 57208"
      ]
     },
     "execution_count": 20,
     "metadata": {},
     "output_type": "execute_result"
    }
   ],
   "source": [
    "name_tuition=colleges_table.select('displayName','tuition')\n",
    "Tuition=colleges_table.column('tuition')\n",
    "\n",
    "colleges_table.where('tuition',max(Tuition))\n",
    "name_tuition.where('tuition', max(Tuition))"
   ]
  },
  {
   "cell_type": "markdown",
   "metadata": {},
   "source": [
    "**Question 2.** \n",
    "\n",
    "You are now ready for a slightly more independent exercise. In the next cell, write code that displays for the universities that are ranked 14 the following: name, tuition, average of SAT scores. (in the order indicated)\n",
    "\n",
    "Note that ranks can be found in the column called \"overallRank\". For example, in this data set, Columbia, MIT and Stanford are all ranked 5 because they have the same ranking score and there are 4 schools that have higher scores. There is no university ranked 4th. The code should be in a way that is trivial to modify to show this information for any rank, let's say rank 5."
   ]
  },
  {
   "cell_type": "code",
   "execution_count": 23,
   "metadata": {},
   "outputs": [
    {
     "data": {
      "text/html": [
       "<table border=\"1\" class=\"dataframe\">\n",
       "    <thead>\n",
       "        <tr>\n",
       "            <th>displayName</th> <th>tuition</th> <th>sat-avg</th>\n",
       "        </tr>\n",
       "    </thead>\n",
       "    <tbody>\n",
       "        <tr>\n",
       "            <td>Columbia University                  </td> <td>57208  </td> <td>1430   </td>\n",
       "        </tr>\n",
       "        <tr>\n",
       "            <td>Massachusetts Institute of Technology</td> <td>49892  </td> <td>1460   </td>\n",
       "        </tr>\n",
       "        <tr>\n",
       "            <td>Stanford University                  </td> <td>49617  </td> <td>1380   </td>\n",
       "        </tr>\n",
       "    </tbody>\n",
       "</table>"
      ],
      "text/plain": [
       "displayName                           | tuition | sat-avg\n",
       "Columbia University                   | 57208   | 1430\n",
       "Massachusetts Institute of Technology | 49892   | 1460\n",
       "Stanford University                   | 49617   | 1380"
      ]
     },
     "execution_count": 23,
     "metadata": {},
     "output_type": "execute_result"
    }
   ],
   "source": [
    "# For universities ranked 14 display: name, tuition, average of SAT scores.  \n",
    "\n",
    "name_tuition_SAT=colleges_table.select('displayName','tuition', 'sat-avg')\n",
    "overallRank = colleges_table.column('overallRank')\n",
    "\n",
    "rank = 14 ##change number to whatever rank you want to display\n",
    "\n",
    "name_tuition_SAT.where(overallRank, rank)\n"
   ]
  },
  {
   "cell_type": "markdown",
   "metadata": {},
   "source": [
    "**Question 3.** \n",
    "\n",
    "**What is the average tuition rounded to the dollar for the universities in this dataset?** The output of the next cell should show the number that is the answer to this question. "
   ]
  },
  {
   "cell_type": "code",
   "execution_count": 40,
   "metadata": {},
   "outputs": [
    {
     "data": {
      "text/plain": [
       "31121"
      ]
     },
     "execution_count": 40,
     "metadata": {},
     "output_type": "execute_result"
    }
   ],
   "source": [
    "# Calculate the average tuition for the universities in this dataset (rounded)\n",
    "\n",
    "avg_tuition = sum(colleges_table.column('tuition'))/len(colleges_table.column('tuition'))\n",
    "int(round(avg_tuition))"
   ]
  },
  {
   "cell_type": "markdown",
   "metadata": {},
   "source": [
    "\n",
    "**Question 4.** \n",
    "\n",
    "**What is the average \"cost-after-aid\" rounded to the dollar for the universities ranked 14 in this dataset?** The output of the next cell should show the number that is the answer to this question. \n",
    "\n"
   ]
  },
  {
   "cell_type": "code",
   "execution_count": 42,
   "metadata": {},
   "outputs": [
    {
     "data": {
      "text/plain": [
       "24967"
      ]
     },
     "execution_count": 42,
     "metadata": {},
     "output_type": "execute_result"
    }
   ],
   "source": [
    "# Calculate the average cost-after-aid for universities ranked 14 (rounded)\n",
    "name_cost=colleges_table.select('displayName','cost-after-aid')\n",
    "overallRank = colleges_table.column('overallRank')\n",
    "\n",
    "rank = 14 ##change number to whatever rank you want to display\n",
    "rank_table = name_cost.where(overallRank, rank)\n",
    "\n",
    "avg_tuition = sum(rank_table.column('cost-after-aid'))/len(rank_table.column('cost-after-aid'))\n",
    "int(round(avg_tuition, 0))\n"
   ]
  },
  {
   "cell_type": "markdown",
   "metadata": {},
   "source": [
    "**Question 5.** \n",
    "\n",
    "Create a variable called 'Rounded_Tuition' that contains the tuition for these universities to the first two relevant digits (tuition of 54825 should be 54000 in the new variable). \n",
    "\n",
    "Display the name of all Universities that have rounded tuition equal to $45K."
   ]
  },
  {
   "cell_type": "code",
   "execution_count": 69,
   "metadata": {},
   "outputs": [
    {
     "data": {
      "text/html": [
       "<table border=\"1\" class=\"dataframe\">\n",
       "    <thead>\n",
       "        <tr>\n",
       "            <th>displayName</th> <th>tuition</th>\n",
       "        </tr>\n",
       "    </thead>\n",
       "    <tbody>\n",
       "        <tr>\n",
       "            <td>Rice University                 </td> <td>45608  </td>\n",
       "        </tr>\n",
       "        <tr>\n",
       "            <td>Illinois Institute of Technology</td> <td>45864  </td>\n",
       "        </tr>\n",
       "    </tbody>\n",
       "</table>"
      ],
      "text/plain": [
       "displayName                      | tuition\n",
       "Rice University                  | 45608\n",
       "Illinois Institute of Technology | 45864"
      ]
     },
     "execution_count": 69,
     "metadata": {},
     "output_type": "execute_result"
    }
   ],
   "source": [
    "# Display Universities with tuition between 45000 and 45999\n",
    "name_tuition = colleges_table.select('displayName','tuition') #If you want JUST name, remove tuition from the parentheses\n",
    "Tuition = colleges_table.column('tuition')//1000\n",
    "\n",
    "name_tuition.where(Tuition, 45)"
   ]
  }
 ],
 "metadata": {
  "kernelspec": {
   "display_name": "Python 3",
   "language": "python",
   "name": "python3"
  },
  "language_info": {
   "codemirror_mode": {
    "name": "ipython",
    "version": 3
   },
   "file_extension": ".py",
   "mimetype": "text/x-python",
   "name": "python",
   "nbconvert_exporter": "python",
   "pygments_lexer": "ipython3",
   "version": "3.6.4"
  }
 },
 "nbformat": 4,
 "nbformat_minor": 2
}
